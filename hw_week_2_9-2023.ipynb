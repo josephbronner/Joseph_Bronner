{
 "cells": [
  {
   "cell_type": "markdown",
   "id": "10d45ad7",
   "metadata": {},
   "source": [
    "## Week 2 Homework\n",
    "Write a script to solve each of the following problems. Please create a new Jupyter notebook and save the notebook. Please update your branch with this homework, and upload the notebooks to the GitHub repository.\n",
    "\n",
    "Assignment due date: 11:59PM Monday.\n",
    "\n",
    "Objectives:\n",
    "\n",
    "* Demonstrate how to obtain user input into a Python script\n",
    "* Demonstrate outputting useful information to the user in the correct format\n",
    "* Use Python numerical and string variables to calculate values and output these to user\n",
    "* Demonstrate use of the while loop and if statements"
   ]
  },
  {
   "cell_type": "markdown",
   "id": "488514d6",
   "metadata": {},
   "source": [
    "### General Guidelines:\n",
    "Please format your input and output strings to be user friendly. For tips on how to do this, see the python string formatting cookbook at: https://mkaz.blog/code/python-string-format-cookbook/. For example, in the tip calculation problem below, format the tip to two decimal places, for example 15.25 instead of 15.25000001.\n",
    "\n",
    "Each question below will indicate the type of input that you can expect. (for example, if the question states the input will be an integer you can expect the user to input an integer and do not need to check to ensure it is an integer versus a float or a string)\n",
    "\n",
    "Adding comments in your code is strongly suggested but won't be graded.\n",
    "\n",
    "\n",
    "If you are stuck on a problem or do not understand a question - please come to office hours or ask questions to the slack group. \n",
    "\n",
    "Hints are given in some of the questions; these are optional so you do NOT need to use the hint (or code your answer that way) as long as your code meets the requirements of the problem."
   ]
  },
  {
   "cell_type": "markdown",
   "id": "0eacd4d6",
   "metadata": {},
   "source": [
    "### Basic Variables, FStrings, Strings (20 pts)\n",
    "\n",
    "#### FStrings\n"
   ]
  },
  {
   "cell_type": "markdown",
   "id": "f9f8727d",
   "metadata": {},
   "source": [
    " Fstrings are an excellent, and the preferred way of printing a variable inside of your print statement. \n",
    " PLEASE USE fstrings wherever you use a print statement and variable! \n",
    " \n",
    " The method:\n",
    " After assigning your variables:\n",
    " print(f\"statement {variable name} statement {variable name}\")\n",
    " For example:"
   ]
  },
  {
   "cell_type": "code",
   "execution_count": 1,
   "id": "efcb8bde",
   "metadata": {},
   "outputs": [
    {
     "name": "stdout",
     "output_type": "stream",
     "text": [
      "I'm taking Python that is taught by Casey King\n"
     ]
    }
   ],
   "source": [
    "course = \"Python\"\n",
    "instr = \"Casey King\"\n",
    "\n",
    "print(f\"I'm taking {course} that is taught by {instr}\")\n"
   ]
  },
  {
   "cell_type": "markdown",
   "id": "77f6f625",
   "metadata": {},
   "source": [
    "2.1: (2pts) Write a program that gets a number between 1 and 1,000,000 from the user and determines whether it is divisible by three using an if statement. Print the results. Note: use the input function"
   ]
  },
  {
   "cell_type": "code",
   "execution_count": null,
   "id": "85477265",
   "metadata": {},
   "outputs": [],
   "source": []
  },
  {
   "cell_type": "markdown",
   "id": "247eafb1",
   "metadata": {},
   "source": [
    "2.2: (2pts) Write the necessary code that prints out the area and the circumference of a circle with a radius of 2.718. (I know for many of you, it's been awhile...just look up the formulats for area and circumference!)"
   ]
  },
  {
   "cell_type": "code",
   "execution_count": null,
   "id": "1395132f",
   "metadata": {},
   "outputs": [],
   "source": []
  },
  {
   "cell_type": "markdown",
   "id": "f4743a17",
   "metadata": {},
   "source": [
    "2.3: (2pts) Write the necessary code to display the ratio of area to perimeter of a rectangle that has a width of 16.18 and a height of 10.\n"
   ]
  },
  {
   "cell_type": "code",
   "execution_count": null,
   "id": "4317a376",
   "metadata": {},
   "outputs": [],
   "source": []
  },
  {
   "cell_type": "markdown",
   "id": "ea61c0ac",
   "metadata": {},
   "source": [
    "2.4: (2pts) A runner runs 10,000 yards in 1 hour 2 minutes and 20 seconds. What is her/his average speed in kilometers per hour (km/h)?\n"
   ]
  },
  {
   "cell_type": "code",
   "execution_count": null,
   "id": "927414a0",
   "metadata": {},
   "outputs": [],
   "source": []
  },
  {
   "cell_type": "markdown",
   "id": "681aba1c",
   "metadata": {},
   "source": [
    "2.5: (2pts) Around the world (of approximately 7.9 billion people), if there are:\n",
    "\n",
    "* 4.3 births per second\n",
    "* 1.8 deaths per second \n",
    "\n",
    "Write the necessary code to display the total population for the next three years (without a leap year)."
   ]
  },
  {
   "cell_type": "code",
   "execution_count": null,
   "id": "64c5ca10",
   "metadata": {},
   "outputs": [],
   "source": []
  },
  {
   "cell_type": "markdown",
   "id": "cc948d77",
   "metadata": {},
   "source": [
    "2.6: (2pts) Write the necessary code to read a miles then convert it to kilometers and print it to the console.\n",
    "\n",
    "Miles = 1.60934 * Kilometers\n",
    "\n",
    "Output should read as in the following format example: 25 miles = 40.23 kilometers\n",
    "\n",
    "Hint: If you get an error, look up what input( ) returns!"
   ]
  },
  {
   "cell_type": "code",
   "execution_count": null,
   "id": "575f170f",
   "metadata": {},
   "outputs": [],
   "source": []
  },
  {
   "cell_type": "markdown",
   "id": "aa99db09",
   "metadata": {},
   "source": [
    "2.7: (2pts) Receive the following arguments from the user:\n",
    "\n",
    "* kilometers to drive\n",
    "* mpg of the car\n",
    "* price per gallon of fuel\n",
    "* Receive the following arguments from the user:\n",
    "\n",
    "##### Create a formula and print the results of these inputs that calculates the cost of a driving trip between New Haven, CT and Washington, DC assuming no tolls.\n",
    "\n"
   ]
  },
  {
   "cell_type": "code",
   "execution_count": null,
   "id": "d761be7c",
   "metadata": {},
   "outputs": [],
   "source": []
  },
  {
   "cell_type": "markdown",
   "id": "fe12c814",
   "metadata": {},
   "source": [
    "#### Strings \n",
    "Strings\n",
    "2.8 (2pts) There are many string methods available to perform all sorts of tasks. Experiment with some of them to make sure you understand how they work. Strip and replace are particularly useful. Python documentation uses a syntax that might be confusing. For example, in\n",
    "\n",
    "find(sub [ , start [, end ] ] )\n",
    "\n",
    "The brackets indicate optional arguments. So sub is required, but start is optional, and if you include start, then end is optional. For this exercise, demonstrate the following string methods below:\n",
    "\n",
    "* strip( )The strip() method removes any leading (spaces at the beginning) and trailing (spaces at the end) characters (space is the default leading character to remove)\n",
    "* Syntax: string.strip(characters)\n",
    "* character: Optional: A set of characters to remove as leading/trailing characters\n"
   ]
  },
  {
   "cell_type": "code",
   "execution_count": 2,
   "id": "ab1e5e21",
   "metadata": {},
   "outputs": [],
   "source": [
    "#Write code, using the strip() method within this cell to remove the white spaces from the beginning and the end of the following and print below:\n",
    "\n",
    "trgt_string = \"       Hello, World       \"\n",
    "\n",
    "#Desired result: \"Hello, World\""
   ]
  },
  {
   "cell_type": "code",
   "execution_count": 3,
   "id": "9b25bde2",
   "metadata": {},
   "outputs": [],
   "source": [
    "#Write code, usting the strip method, to remove the unecessary characters to print JacksonPython\n",
    "\n",
    "jackson_string = \"grrrrr....ughhhh..JacksonPython@@@!!!!\"\n"
   ]
  },
  {
   "cell_type": "markdown",
   "id": "f38a6def",
   "metadata": {},
   "source": [
    "There us a string method called 'count'. Read the documentation: https://python-reference.readthedocs.io/en/latest/docs/str/count.html of the 'count' method and write a script that counts the number of p's in 'Hippopotomonstrosesquippedaliophobia' \n",
    "\n"
   ]
  },
  {
   "cell_type": "code",
   "execution_count": null,
   "id": "356a0a67",
   "metadata": {},
   "outputs": [],
   "source": []
  },
  {
   "cell_type": "markdown",
   "id": "96b17965",
   "metadata": {},
   "source": [
    "\n",
    "2.9 (2pts) Write a script that takes a user inputted target_string(below) and prints it out in the following three formats.\n",
    "\n",
    "* All letters capitalized - capitalize( )\n",
    "* All letters lowercase - lower( )\n",
    "* All vowels lowercase and all consonants uppercase - custom combination of string methods\n",
    "\n",
    "target_string = \"hello, world\""
   ]
  },
  {
   "cell_type": "code",
   "execution_count": null,
   "id": "ddd489cc",
   "metadata": {},
   "outputs": [],
   "source": []
  },
  {
   "cell_type": "markdown",
   "id": "799d5a8f",
   "metadata": {},
   "source": [
    "2.10 (2pts) Write a script that takes a user inputted string and checks whether if they are the following\n",
    "\n",
    "* if it is all alphabets\n",
    "* if it is numeric\n",
    "* if it is all upper case\n",
    "* if it is all lower case\n",
    "Note: there are string methods that do this: https://www.w3schools.com/python/python_ref_string.asp"
   ]
  },
  {
   "cell_type": "code",
   "execution_count": null,
   "id": "c7814f15",
   "metadata": {},
   "outputs": [],
   "source": []
  },
  {
   "cell_type": "markdown",
   "id": "e5aa3cf4",
   "metadata": {},
   "source": [
    "#### Short Answers (20pts total)\n",
    "2.11 (2pts): In Python, what is the difference between =(single equal) and == (double equal)?"
   ]
  },
  {
   "cell_type": "code",
   "execution_count": null,
   "id": "38d21665",
   "metadata": {},
   "outputs": [],
   "source": []
  },
  {
   "cell_type": "markdown",
   "id": "0a011e54",
   "metadata": {},
   "source": [
    "2.12 (2pts): If I am commenting on my code in a cell, what are the two ways to do this in Python?"
   ]
  },
  {
   "cell_type": "code",
   "execution_count": null,
   "id": "20c34f22",
   "metadata": {},
   "outputs": [],
   "source": []
  },
  {
   "cell_type": "markdown",
   "id": "2318a7a8",
   "metadata": {},
   "source": [
    "2.13 (2pts): Name four data types in Python. Use a markdown cell type for this answer."
   ]
  },
  {
   "cell_type": "code",
   "execution_count": null,
   "id": "ad69ba5f",
   "metadata": {},
   "outputs": [],
   "source": []
  },
  {
   "cell_type": "markdown",
   "id": "c776a7d0",
   "metadata": {},
   "source": [
    "2.14 (2pts): Assign your name, your Yale program, and your year of graduation equal to variables of your choosing. Then write a print statement using an \"f string\" that says \"Hello, my name is (name). I am in Yale's (program) and I hope to graduate in (year).\" "
   ]
  },
  {
   "cell_type": "code",
   "execution_count": null,
   "id": "424e4912",
   "metadata": {},
   "outputs": [],
   "source": []
  },
  {
   "cell_type": "markdown",
   "id": "04bbb690",
   "metadata": {},
   "source": [
    "2.15 (4pts): Write the mathematical operators for the following using a markdown cell type and give a code example of each: For example: plus: + , 3 + 4\n",
    "\n",
    "minus:\n",
    "\n",
    "multiply:\n",
    "\n",
    "divide:\n",
    "\n",
    "find the remainder of two numbers divided:\n",
    "\n",
    "square: (as in 3 squared is 9)\n",
    "\n",
    "cube: (as in 2 cubed is 8)\n",
    "\n",
    "greater than:\n",
    "\n",
    "greater than or equal to:\n",
    "\n",
    "less than:\n",
    "\n",
    "less than or equal to:"
   ]
  },
  {
   "cell_type": "code",
   "execution_count": null,
   "id": "a768a7d3",
   "metadata": {},
   "outputs": [],
   "source": []
  },
  {
   "cell_type": "markdown",
   "id": "f5fe74bf",
   "metadata": {},
   "source": [
    "2.16 (2pts): What is the built-in Python function to determine the type of an object? Give four examples of using this function on four different object types."
   ]
  },
  {
   "cell_type": "code",
   "execution_count": null,
   "id": "1d7cd8a0",
   "metadata": {},
   "outputs": [],
   "source": []
  },
  {
   "cell_type": "markdown",
   "id": "91928514",
   "metadata": {},
   "source": [
    "2.17 (4pts):The replace( ) method in Python is used to replace a specific substring in a string with another substring. The method takes two arguments: the substring to be replaced, and the replacement string. For example:\n",
    "\n",
    "greeting = \"Hello there students!\"\n",
    "\n",
    "greeting = greeting.replace(\"students\", \"Pythonistas\")\n",
    "\n",
    "The result of print(greeting) will be \"Hello there Pythonistas!\"\n",
    "\n",
    "It's important to note that the replace() method returns a new string with the replacement, it does not modify the original string in place. To modify the original string, you need to store the result of the replace() method back into the original string, as shown in the example above.\n",
    "\n",
    "The replace() method is case-sensitive, so it will only replace substrings that match the specified substring exactly. If you want to perform a case-insensitive replacement, you can use the lower() or upper() method to convert the strings to a common case before performing the replacement.\n",
    "\n",
    "In the following code block, \"Paris Agreement\" is returned rather than \"Moon Agreement\":"
   ]
  },
  {
   "cell_type": "code",
   "execution_count": 4,
   "id": "426fc616",
   "metadata": {},
   "outputs": [
    {
     "name": "stdout",
     "output_type": "stream",
     "text": [
      "Paris Agreement\n"
     ]
    }
   ],
   "source": [
    "agreement = \"Paris Agreement\" \n",
    "agreement.replace(\"Paris\", \"Moon\") \n",
    "print(agreement)\n"
   ]
  },
  {
   "cell_type": "markdown",
   "id": "e3e6b083",
   "metadata": {},
   "source": [
    "Please explain why the result is Paris Agreement and not Moon Agreement here:\n",
    "    "
   ]
  },
  {
   "cell_type": "code",
   "execution_count": null,
   "id": "e47b7a81",
   "metadata": {},
   "outputs": [],
   "source": []
  },
  {
   "cell_type": "markdown",
   "id": "2d9c5eb6",
   "metadata": {},
   "source": [
    "Now fix the code to change Paris Agreement to Moon Agreement:"
   ]
  },
  {
   "cell_type": "code",
   "execution_count": 6,
   "id": "e87b8704",
   "metadata": {},
   "outputs": [],
   "source": [
    "#Your code here"
   ]
  },
  {
   "cell_type": "markdown",
   "id": "d6fdaa05",
   "metadata": {},
   "source": [
    "2.18(2pts): Please explain why the statement returns \"False\" and write code that fixes the error:\n",
    "\n",
    ".3 + .3 + .3 == .9"
   ]
  },
  {
   "cell_type": "code",
   "execution_count": null,
   "id": "3de79479",
   "metadata": {},
   "outputs": [],
   "source": []
  },
  {
   "cell_type": "markdown",
   "id": "37d2b6c6",
   "metadata": {},
   "source": [
    "### Some Puzzles (40 pts total)\n",
    "\n",
    "2.19 Tip Calculator (10 points)\n",
    "\n",
    "Below, you can see the script I wrote to compute the tip for a meal. Fix it so that it works correctly. Expect the input to be a number. Please format the output to 2 decimal places.\n",
    "\n",
    "price = input(\"Please enter the price of the meal: )\n",
    "\n",
    "tip = price * 0.16 \n",
    "\n",
    "total = price + tip\n",
    "\n",
    "print(\"A 16% tip would be: \", tip)\n",
    "\n",
    "print(\"The total including tip would be: \", total)\n",
    "\n"
   ]
  },
  {
   "cell_type": "code",
   "execution_count": null,
   "id": "ecfdde63",
   "metadata": {},
   "outputs": [],
   "source": [
    "\n"
   ]
  },
  {
   "cell_type": "markdown",
   "id": "e0139c70",
   "metadata": {},
   "source": [
    "2.20. Gas Pump Informer (15 points)\n",
    "\n",
    "Write a script that prompts the user for a number of gallons of gasoline. Reprint that value, along with its conversion to other measurements Note: remember to check user input data type:\n",
    "\n",
    "* Equivalent number of liters (format to 4 decimals)\n",
    "* Number of barrels of oil required to produce it (format to 3 decimals)\n",
    "* Price in U.S. dollars (format to 2 decimals)\n",
    "\n",
    "Figures to use:\n",
    "\n",
    "* 1 gallon is equivalent to 3.7854 liters.\n",
    "* 1 barrel of oil produces 19.5 gallons of gas.\n",
    "* The average price of gas is approximately $3.65 per gallon."
   ]
  },
  {
   "cell_type": "code",
   "execution_count": null,
   "id": "900bd5ea",
   "metadata": {},
   "outputs": [],
   "source": []
  },
  {
   "cell_type": "markdown",
   "id": "84652740",
   "metadata": {},
   "source": [
    "2.21 Income Tax (15 points)\n",
    "\n",
    "The mythical island nation of Kinglandia has a rather simple tax code. The first 1000 dollars of income is taxed at 5%. The next 1000 dollars is taxed at 10%. Any income beyond the first 2000 dollars is taxed at 15%. Complete the following script so that it asks the user for his or her income (a number) and outputs the amount of tax owed.\n",
    "\n",
    "Example:\n",
    "\n",
    "Please enter your income: 1500\n",
    "\n",
    "The tax owed is: $100"
   ]
  },
  {
   "cell_type": "code",
   "execution_count": null,
   "id": "0f45867a",
   "metadata": {},
   "outputs": [],
   "source": []
  },
  {
   "cell_type": "markdown",
   "id": "079c227a",
   "metadata": {},
   "source": [
    "### 2.22 Conditionals: If, Elif, Else (10 points)\n",
    "\n",
    "Write a script that takes an age as a user input and prints the following, based on conditions, using if, elif, and else:\n",
    "\n",
    "* If the age is 1-18: print \"This individual is a minor. Their brain is still growing.\"\n",
    "* If the age is 19-25: print. \"Though the brain may be done growing in size, it does not finish developing and maturing until the mid- to late 20s\"\n",
    "* If the age is 26-40: \"Accomplish what you can before your brain rots!\"\n",
    "* If the age is 41-100: \"Don't despair! For the first time, researchers have been able to identify superagers MRI images of the brains of superagers with an average age of 67 are remarkably similar to the brain of 25-year-olds.\" \n"
   ]
  },
  {
   "cell_type": "code",
   "execution_count": null,
   "id": "a9551558",
   "metadata": {},
   "outputs": [],
   "source": []
  },
  {
   "cell_type": "markdown",
   "id": "f629ad3f",
   "metadata": {},
   "source": [
    "### 2.23 While Loop (10 points)\n",
    "\n",
    "Write a while loop that counts down from 20 to \"blastoff\": \n",
    "* hint: decrement each time using n = n -1 or using -=\n",
    "* n = 20\n",
    "\n"
   ]
  },
  {
   "cell_type": "code",
   "execution_count": null,
   "id": "4bffa779",
   "metadata": {},
   "outputs": [],
   "source": []
  }
 ],
 "metadata": {
  "kernelspec": {
   "display_name": "Python 3 (ipykernel)",
   "language": "python",
   "name": "python3"
  },
  "language_info": {
   "codemirror_mode": {
    "name": "ipython",
    "version": 3
   },
   "file_extension": ".py",
   "mimetype": "text/x-python",
   "name": "python",
   "nbconvert_exporter": "python",
   "pygments_lexer": "ipython3",
   "version": "3.9.17"
  }
 },
 "nbformat": 4,
 "nbformat_minor": 5
}
