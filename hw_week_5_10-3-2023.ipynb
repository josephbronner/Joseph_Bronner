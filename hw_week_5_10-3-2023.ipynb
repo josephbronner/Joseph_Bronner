{
 "cells": [
  {
   "cell_type": "markdown",
   "id": "167d23b1",
   "metadata": {},
   "source": [
    "## Sets\n",
    "Sets in Python are **unordered** collections of **unique** elements. \n",
    "Remove the redundant names in the following list and save to a variable called \"set_names\". You may have to unify capitalization to get it right!\n"
   ]
  },
  {
   "cell_type": "code",
   "execution_count": 7,
   "id": "43fff55c",
   "metadata": {},
   "outputs": [
    {
     "name": "stdout",
     "output_type": "stream",
     "text": [
      "{'Bob', 'Dana', 'Charlie', 'Alice'}\n"
     ]
    }
   ],
   "source": [
    "names = [\"Alice\", \"Bob\", \"alice\", \"bob\", \"Charlie\", \"charlie\", \"Dana\", \"dana\"]\n",
    " #Your code here:\n",
    "    \n",
    " #Coverted the list to a set with a list comprehension\n",
    "set_names = {each_name.capitalize() for each_name in names}\n",
    "print(set_names)"
   ]
  },
  {
   "cell_type": "markdown",
   "id": "400df320",
   "metadata": {},
   "source": [
    "Add Joseph to your \"set_names\" set and print \"Added Joseph:\" and then the set."
   ]
  },
  {
   "cell_type": "code",
   "execution_count": 8,
   "id": "aac920cb",
   "metadata": {},
   "outputs": [
    {
     "name": "stdout",
     "output_type": "stream",
     "text": [
      "Added Joseph: \n"
     ]
    },
    {
     "data": {
      "text/plain": [
       "{'Alice', 'Bob', 'Charlie', 'Dana', 'Joseph'}"
      ]
     },
     "execution_count": 8,
     "metadata": {},
     "output_type": "execute_result"
    }
   ],
   "source": [
    " #Your code here:\n",
    "\n",
    " #Used the add feature to add Joseph to the set\n",
    "set_names.add(\"Joseph\")\n",
    "print(\"Added Joseph: \")\n",
    "set_names"
   ]
  },
  {
   "cell_type": "markdown",
   "id": "108beddd",
   "metadata": {},
   "source": [
    "Remove \"Alice\" from your set_names set and print \"Removed Alice:\" and then the set."
   ]
  },
  {
   "cell_type": "code",
   "execution_count": 9,
   "id": "8ad00429",
   "metadata": {},
   "outputs": [
    {
     "name": "stdout",
     "output_type": "stream",
     "text": [
      "Removed Alice: \n"
     ]
    },
    {
     "data": {
      "text/plain": [
       "{'Bob', 'Charlie', 'Dana', 'Joseph'}"
      ]
     },
     "execution_count": 9,
     "metadata": {},
     "output_type": "execute_result"
    }
   ],
   "source": [
    " # Your code here:\n",
    "    \n",
    "# Used the remove function to remove Alice\n",
    "set_names.remove(\"Alice\")\n",
    "print(\"Removed Alice: \")\n",
    "set_names"
   ]
  },
  {
   "cell_type": "markdown",
   "id": "7ea9419c",
   "metadata": {},
   "source": [
    "## Tuples\n",
    "In Python, a tuple is an **ordered**, **immutable** collection of elements. Once a tuple is created, you cannot modify its elements or their order. Tuples are commonly used in Python programming and can be employed in various scenarios due to their immutability and the ability to store multiple items.\n"
   ]
  },
  {
   "cell_type": "code",
   "execution_count": null,
   "id": "62d2fc81",
   "metadata": {},
   "outputs": [],
   "source": [
    "#Make a string from the following tuple: IT should read F\n",
    "tuple_1=(F','o','o','b','a','W','o','o','b','a','J','o','h','n')"
   ]
  },
  {
   "cell_type": "markdown",
   "id": "36eef1cb",
   "metadata": {},
   "source": [
    "### Tuples for Protecting Data Integrity\n",
    "\n",
    "Because tuples are immutable, their content can’t be changed after declaration. This property makes tuples a suitable data type to ensure the integrity of data. Aníbal asked in the last class where you might use a tuple, or want to use a tuple. I gave the example of student records, but a more worldly example is trade data from the NYSE. Once the market closes, we wouldn't want that data manipulated, changed or altered in any way. The consquences could be dire.\n",
    "\n",
    "Write a function called \"stock_info\" that returns a tuple with a company's stock ticker, a date, an opening price, and volume. Look up the data for October 4, 2023 for Apple, Google, Microsoft,and AWS. Call the function with appropriate data for those companies and those dates, and save each to an Apple, Google, Microsoft and AWS variable. Print each\n",
    "\n",
    "Here is where you can find the data. For example here is Apple: (https://finance.yahoo.com/quote/AAPL/history/)\n",
    "\n"
   ]
  },
  {
   "cell_type": "code",
   "execution_count": null,
   "id": "f1160d8f",
   "metadata": {},
   "outputs": [],
   "source": [
    "#Your code here:"
   ]
  },
  {
   "cell_type": "markdown",
   "id": "3e66aa3a",
   "metadata": {},
   "source": [
    "## For Loop\n",
    "Write a script that prompts the user for two words (two, one-word strings). Print all the unique letters that are common to both words, in alphabetical order, using for loops in your solution.\n",
    "\n",
    "For example:\n",
    "\n",
    "Enter one word: Home '\n",
    "\n",
    "Enter another word: meter\n",
    "\n",
    "Letters in common: em\n"
   ]
  },
  {
   "cell_type": "code",
   "execution_count": null,
   "id": "46ebdf13",
   "metadata": {},
   "outputs": [],
   "source": [
    " #your code here:"
   ]
  },
  {
   "cell_type": "markdown",
   "id": "483eda0b",
   "metadata": {},
   "source": [
    "## For Loops to List Comprehensions\n",
    "Write the following FIRST as a for loop, then as a list comprehension"
   ]
  },
  {
   "cell_type": "markdown",
   "id": "3d3c9786",
   "metadata": {},
   "source": [
    " Extract all country names from the \"some_names\" list and append them to a list called \"country names\". I've provided a country list for you to use in your loop or comprehension.\n",
    "\n"
   ]
  },
  {
   "cell_type": "code",
   "execution_count": null,
   "id": "d2f3dbb5",
   "metadata": {},
   "outputs": [],
   "source": [
    "country_list = ['Afghanistan', 'Aland Islands', 'Albania', 'Algeria', 'American Samoa', 'Andorra', 'Angola', 'Anguilla', 'Antarctica', 'Antigua and Barbuda', 'Argentina', 'Armenia', 'Aruba', 'Australia', 'Austria', 'Azerbaijan', 'Bahamas', 'Bahrain', 'Bangladesh', 'Barbados', 'Belarus', 'Belgium', 'Belize', 'Benin', 'Bermuda', 'Bhutan', 'Bolivia, Plurinational State of', 'Bonaire, Sint Eustatius and Saba', 'Bosnia and Herzegovina', 'Botswana', 'Bouvet Island', 'Brazil', 'British Indian Ocean Territory', 'Brunei Darussalam', 'Bulgaria', 'Burkina Faso', 'Burundi', 'Cambodia', 'Cameroon', 'Canada', 'Cape Verde', 'Cayman Islands', 'Central African Republic', 'Chad', 'Chile', 'China', 'Christmas Island', 'Cocos (Keeling) Islands', 'Colombia', 'Comoros', 'Congo', 'Congo, The Democratic Republic of the', 'Cook Islands', 'Costa Rica', \"Côte d'Ivoire\", 'Croatia', 'Cuba', 'Curaçao', 'Cyprus', 'Czech Republic', 'Denmark', 'Djibouti', 'Dominica', 'Dominican Republic', 'Ecuador', 'Egypt', 'El Salvador', 'Equatorial Guinea', 'Eritrea', 'Estonia', 'Ethiopia', 'Falkland Islands (Malvinas)', 'Faroe Islands', 'Fiji', 'Finland', 'France', 'French Guiana', 'French Polynesia', 'French Southern Territories', 'Gabon', 'Gambia', 'Georgia', 'Germany', 'Ghana', 'Gibraltar', 'Greece', 'Greenland', 'Grenada', 'Guadeloupe', 'Guam', 'Guatemala', 'Guernsey', 'Guinea', 'Guinea-Bissau', 'Guyana', 'Haiti', 'Heard Island and McDonald Islands', 'Holy See (Vatican City State)', 'Honduras', 'Hong Kong', 'Hungary', 'Iceland', 'India', 'Indonesia', 'Iran, Islamic Republic of', 'Iraq', 'Ireland', 'Isle of Man', 'Israel', 'Italy', 'Jamaica', 'Japan', 'Jersey', 'Jordan', 'Kazakhstan', 'Kenya', 'Kiribati', \"Korea, Democratic People's Republic of\", 'Korea, Republic of', 'Kuwait', 'Kyrgyzstan', \"Lao People's Democratic Republic\", 'Latvia', 'Lebanon', 'Lesotho', 'Liberia', 'Libya', 'Liechtenstein', 'Lithuania', 'Luxembourg', 'Macao', 'Macedonia, Republic of', 'Madagascar', 'Malawi', 'Malaysia', 'Maldives', 'Mali', 'Malta', 'Marshall Islands', 'Martinique', 'Mauritania', 'Mauritius', 'Mayotte', 'Mexico', 'Micronesia, Federated States of', 'Moldova, Republic of', 'Monaco', 'Mongolia', 'Montenegro', 'Montserrat', 'Morocco', 'Mozambique', 'Myanmar', 'Namibia', 'Nauru', 'Nepal', 'Netherlands', 'New Caledonia', 'New Zealand', 'Nicaragua', 'Niger', 'Nigeria', 'Niue', 'Norfolk Island', 'Northern Mariana Islands', 'Norway', 'Oman', 'Pakistan', 'Palau', 'Palestinian Territory, Occupied', 'Panama', 'Papua New Guinea', 'Paraguay', 'Peru', 'Philippines', 'Pitcairn', 'Poland', 'Portugal', 'Puerto Rico', 'Qatar', 'Réunion', 'Romania', 'Russian Federation', 'Rwanda', 'Saint Barthélemy', 'Saint Helena, Ascension and Tristan da Cunha', 'Saint Kitts and Nevis', 'Saint Lucia', 'Saint Martin (French part)', 'Saint Pierre and Miquelon', 'Saint Vincent and the Grenadines', 'Samoa', 'San Marino', 'Sao Tome and Principe', 'Saudi Arabia', 'Senegal', 'Serbia', 'Seychelles', 'Sierra Leone', 'Singapore', 'Sint Maarten (Dutch part)', 'Slovakia', 'Slovenia', 'Solomon Islands', 'Somalia', 'South Africa', 'South Georgia and the South Sandwich Islands', 'Spain', 'Sri Lanka', 'Sudan', 'Suriname', 'South Sudan', 'Svalbard and Jan Mayen', 'Swaziland', 'Sweden', 'Switzerland', 'Syrian Arab Republic', 'Taiwan, Province of China', 'Tajikistan', 'Tanzania, United Republic of', 'Thailand', 'Timor-Leste', 'Togo', 'Tokelau', 'Tonga', 'Trinidad and Tobago', 'Tunisia', 'Turkey', 'Turkmenistan', 'Turks and Caicos Islands', 'Tuvalu', 'Uganda', 'Ukraine', 'United Arab Emirates', 'United Kingdom', 'United States', 'United States Minor Outlying Islands', 'Uruguay', 'Uzbekistan', 'Vanuatu', 'Venezuela, Bolivarian Republic of', 'Viet Nam', 'Virgin Islands, British', 'Virgin Islands, U.S.', 'Wallis and Futuna', 'Yemen', 'Zambia', 'Zimbabwe']\n",
    "some_names =['Argentina', 'India', 'Alexlandia', 'Walidistan', \"The People's Republic of Steve\", 'The Federated States of Alejandro', 'Burundi', 'Cambodia','Jacobovakia', 'Chad', 'Chile']"
   ]
  },
  {
   "cell_type": "code",
   "execution_count": null,
   "id": "d4b613f3",
   "metadata": {},
   "outputs": [],
   "source": [
    "#For loop here:\n"
   ]
  },
  {
   "cell_type": "code",
   "execution_count": null,
   "id": "f11217be",
   "metadata": {},
   "outputs": [],
   "source": [
    "#List comprehension here:\n"
   ]
  },
  {
   "cell_type": "markdown",
   "id": "57353ac4",
   "metadata": {},
   "source": [
    "Extract countries with names longer than 6 characters and append them to a list called \"longer than 6\""
   ]
  },
  {
   "cell_type": "code",
   "execution_count": null,
   "id": "09dcae19",
   "metadata": {},
   "outputs": [],
   "source": [
    " #for loop here:\n"
   ]
  },
  {
   "cell_type": "code",
   "execution_count": null,
   "id": "de6650d3",
   "metadata": {},
   "outputs": [],
   "source": [
    " #list comprehension here:"
   ]
  },
  {
   "cell_type": "markdown",
   "id": "6397f8fe",
   "metadata": {},
   "source": [
    "## Dictionaries\n",
    "\n",
    "Create a Python dictionary named world_population that contains the following key-value pairs, where keys represent country names and values represent their respective populations.\n",
    "\n",
    "China: 1.41 billion\n",
    "India: 1.34 billion\n",
    "United States: 331 million\n",
    "Indonesia: 276 million\n",
    "Pakistan: 225 million"
   ]
  },
  {
   "cell_type": "code",
   "execution_count": null,
   "id": "fb797754",
   "metadata": {},
   "outputs": [],
   "source": [
    "#Your code here:"
   ]
  },
  {
   "cell_type": "markdown",
   "id": "84251198",
   "metadata": {},
   "source": [
    "\n",
    "Write a Python program that allows a user to input a country name and then displays the population of that country. Be sure to include error handling for cases where the entered country is not in your world_population dictionary.\n"
   ]
  },
  {
   "cell_type": "code",
   "execution_count": null,
   "id": "ab68ded0",
   "metadata": {},
   "outputs": [],
   "source": [
    "#Your code here:"
   ]
  },
  {
   "cell_type": "markdown",
   "id": "a5ac5c59",
   "metadata": {},
   "source": [
    "Update the world_population dictionary to reflect the following changes:\n",
    "\n",
    "Add Brazil with a population of 213 million.\n",
    "Update China's population to 1.40 billion.\n",
    "Remove Pakistan from the dictionary.\n",
    "Write a Python program to perform these updates and display the updated dictionary."
   ]
  },
  {
   "cell_type": "code",
   "execution_count": null,
   "id": "93cb8b21",
   "metadata": {},
   "outputs": [],
   "source": [
    "#Your code here:"
   ]
  },
  {
   "cell_type": "markdown",
   "id": "5b6daeeb",
   "metadata": {},
   "source": [
    "Write a Python program that:\n",
    "\n",
    "Displays the country with the largest population.\n",
    "Displays the country with the smallest population.\n",
    "Calculates and displays the average population of the countries in the world_population dictionary."
   ]
  },
  {
   "cell_type": "code",
   "execution_count": null,
   "id": "c4a78252",
   "metadata": {},
   "outputs": [],
   "source": [
    " #Your code here:"
   ]
  },
  {
   "cell_type": "markdown",
   "id": "3ecca8e3",
   "metadata": {},
   "source": [
    "Use the .keys() method to return a view object that displays a list of all the keys in the dictionary."
   ]
  },
  {
   "cell_type": "code",
   "execution_count": null,
   "id": "9c06eee2",
   "metadata": {},
   "outputs": [],
   "source": [
    "#Your code here:\n"
   ]
  },
  {
   "cell_type": "markdown",
   "id": "a03dbfb4",
   "metadata": {},
   "source": [
    "Use the .values() method to return a view object that displays a list of all the values in the dictionary."
   ]
  },
  {
   "cell_type": "code",
   "execution_count": null,
   "id": "b1cf262d",
   "metadata": {},
   "outputs": [],
   "source": [
    "#Your code here:"
   ]
  },
  {
   "cell_type": "markdown",
   "id": "f781c4bb",
   "metadata": {},
   "source": [
    "Use the .items() method to return key, value pairs in a print statement that states \"The population of the {country} is the {population} With the appropriate countries and populations for each."
   ]
  },
  {
   "cell_type": "code",
   "execution_count": null,
   "id": "21da1d22",
   "metadata": {},
   "outputs": [],
   "source": [
    "#Your code here:"
   ]
  },
  {
   "cell_type": "markdown",
   "id": "dd8a00d0",
   "metadata": {},
   "source": [
    "Given the following nested dictionary below, write code to print the author's name. \n"
   ]
  },
  {
   "cell_type": "code",
   "execution_count": null,
   "id": "7a91adfd",
   "metadata": {},
   "outputs": [],
   "source": [
    "\n",
    "book = {\n",
    "    'title': 'To Kill a Mockingbird',\n",
    "    'author': {\n",
    "        'name': 'Harper Lee',\n",
    "        'birth_year': 1926\n",
    "    },\n",
    "    'published_year': 1960\n",
    "}\n",
    "\n",
    "#Your code here:\n",
    "\n"
   ]
  }
 ],
 "metadata": {
  "kernelspec": {
   "display_name": "Python 3 (ipykernel)",
   "language": "python",
   "name": "python3"
  },
  "language_info": {
   "codemirror_mode": {
    "name": "ipython",
    "version": 3
   },
   "file_extension": ".py",
   "mimetype": "text/x-python",
   "name": "python",
   "nbconvert_exporter": "python",
   "pygments_lexer": "ipython3",
   "version": "3.11.4"
  }
 },
 "nbformat": 4,
 "nbformat_minor": 5
}
