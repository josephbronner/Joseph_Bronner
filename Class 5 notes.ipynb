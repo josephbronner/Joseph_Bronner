{
 "cells": [
  {
   "cell_type": "code",
   "execution_count": null,
   "id": "bb9dc580",
   "metadata": {},
   "outputs": [],
   "source": [
    "# for sets, the elements are unique, not duplicated\n",
    "# Sets, tuples, dictionaries, and lists"
   ]
  },
  {
   "cell_type": "code",
   "execution_count": null,
   "id": "9d244405",
   "metadata": {},
   "outputs": [],
   "source": [
    "# set example\n",
    "\n",
    "#This is a list\n",
    "languages = [\"Urdu\",\"French\",\"Spanish\",\"Russian\",\"Python\",\"French\"]\n",
    "\n",
    "#This is a set function (passing the list to a set function)\n",
    "languages_set = set(languages)\n",
    "\n",
    "print(languages_set)"
   ]
  },
  {
   "cell_type": "code",
   "execution_count": null,
   "id": "f4419a46",
   "metadata": {},
   "outputs": [],
   "source": [
    "type(languages_set)"
   ]
  },
  {
   "cell_type": "code",
   "execution_count": null,
   "id": "263c9d98",
   "metadata": {},
   "outputs": [],
   "source": [
    "print(languages_set)"
   ]
  },
  {
   "cell_type": "code",
   "execution_count": null,
   "id": "3b594d66",
   "metadata": {},
   "outputs": [],
   "source": [
    "# Define a set with curly braces\n",
    "dogs = {\"Setter\",\"Shepherd\",\"Lab\",\"Poodle\"}\n",
    "print(dogs)"
   ]
  },
  {
   "cell_type": "code",
   "execution_count": null,
   "id": "5a7121f4",
   "metadata": {},
   "outputs": [],
   "source": [
    "# hot to initialize an empty set\n",
    "yale_colelges = set()"
   ]
  },
  {
   "cell_type": "code",
   "execution_count": null,
   "id": "0554c2cf",
   "metadata": {},
   "outputs": [],
   "source": [
    "yale_colleges = set()\n",
    "yale_colleges.add(\"Morse\")\n",
    "yale_colleges.add(\"JE\")\n",
    "yale_colleges.add(\"Davenport\")\n",
    "\n",
    "print(yale_colleges)"
   ]
  },
  {
   "cell_type": "code",
   "execution_count": null,
   "id": "99184ffb",
   "metadata": {},
   "outputs": [],
   "source": [
    "# To add more things to the set, you use \"update\", and you pass it in as a list or as set {\"Saybrook\",\"Hopper\"} or [\"Saybrook\",\"Hopper\"] it won't work\n",
    "yale_colleges.update([\"Saybrook\",\"Hopper\"])\n",
    "print(yale_colleges)"
   ]
  },
  {
   "cell_type": "code",
   "execution_count": null,
   "id": "405e9685",
   "metadata": {},
   "outputs": [],
   "source": [
    "yale_colleges.update({\"Dwight\",\"Davedoff\"})\n",
    "yale_colleges_d = set()\n",
    "for college in yale_colleges:\n",
    "    if college[0] == \"D\":\n",
    "        yale_colleges_d.add(college)\n",
    "    else:\n",
    "        pass\n",
    "print(yale_colleges_d)"
   ]
  },
  {
   "cell_type": "code",
   "execution_count": null,
   "id": "b1be46dd",
   "metadata": {},
   "outputs": [],
   "source": [
    "a = {1,2,3,4,5}\n",
    "b = {1,2,3,4,5}\n",
    "c = {2,3,4,5,6}\n",
    "d = {3,4,5,6,7}\n",
    "print(a.union(b,c,d))\n",
    "print(c.intersection(d))"
   ]
  },
  {
   "cell_type": "code",
   "execution_count": null,
   "id": "b8b359e9",
   "metadata": {},
   "outputs": [],
   "source": [
    "# Tuples store multiple items in a single variable\n",
    "# Tuples are ordered and unchangeable\n",
    "# Tuples are witten with round brackers ()\n",
    "# Sets are unordered"
   ]
  },
  {
   "cell_type": "code",
   "execution_count": null,
   "id": "6986418b",
   "metadata": {},
   "outputs": [],
   "source": [
    "first_tuple = (\"Apple\",\"Cherry\",\"Banana\")\n",
    "print(first_tuple)"
   ]
  },
  {
   "cell_type": "code",
   "execution_count": null,
   "id": "ca348214",
   "metadata": {},
   "outputs": [],
   "source": [
    "first_tuple = (\"Apple\",\"Cherry\",\"Banana\", \"Apple\", \"Kiwi\")\n",
    "print(first_tuple)\n",
    "print(first_tuple[0])"
   ]
  },
  {
   "cell_type": "code",
   "execution_count": null,
   "id": "08e5c011",
   "metadata": {},
   "outputs": [],
   "source": [
    "# Since tuples are ordered, they are also indexed\n",
    "print(first_tuple[0:3])"
   ]
  },
  {
   "cell_type": "code",
   "execution_count": null,
   "id": "b0b08cc9",
   "metadata": {},
   "outputs": [],
   "source": [
    "# Tuple doesn't support item deletion because it's imutablee\n",
    "del first_tuple[3]\n",
    "print(first_tuple)"
   ]
  },
  {
   "cell_type": "code",
   "execution_count": null,
   "id": "8eed3598",
   "metadata": {},
   "outputs": [],
   "source": [
    "# Tuple doesn't support item deletion because it's imutablee\n",
    "first_tuple_l = list(first_tuple)\n",
    "del first_tuple_l[3]\n",
    "first_tuple = tuple(first_tuple_l)\n",
    "print(first_tuple)\n"
   ]
  },
  {
   "cell_type": "code",
   "execution_count": null,
   "id": "39bbff50",
   "metadata": {},
   "outputs": [],
   "source": [
    "#List Comprehension\n",
    "\n",
    "for x in range(10):\n",
    "    print(x**2)\n",
    "    "
   ]
  },
  {
   "cell_type": "code",
   "execution_count": null,
   "id": "1f8a8da5",
   "metadata": {},
   "outputs": [],
   "source": [
    "squares = [x**2 for x in range(10)]\n",
    "print(squares)"
   ]
  },
  {
   "cell_type": "code",
   "execution_count": null,
   "id": "adb69f5a",
   "metadata": {},
   "outputs": [],
   "source": [
    "even_squares = [x**2 for x in range(10) if x%2 == 0]\n",
    "print(even_squares)"
   ]
  },
  {
   "cell_type": "code",
   "execution_count": null,
   "id": "2b5dd116",
   "metadata": {},
   "outputs": [],
   "source": [
    "squares = [x**2 if x%2 == 0 else x**3 for x in range(10)]\n",
    "squares"
   ]
  },
  {
   "cell_type": "code",
   "execution_count": null,
   "id": "9197760e",
   "metadata": {},
   "outputs": [],
   "source": [
    "students = {\"Joseph\":\"America\",\"Alejandro\":\"Mexico\",\"Rakkshet\":\"India\",\"Alex\":\"Korea\",\"Anibal\":\"Chile\"}\n",
    "print(students)"
   ]
  },
  {
   "cell_type": "code",
   "execution_count": null,
   "id": "349fb9ad",
   "metadata": {},
   "outputs": [],
   "source": [
    "print(students[\"Alex\"])"
   ]
  },
  {
   "cell_type": "code",
   "execution_count": null,
   "id": "2b60a871",
   "metadata": {},
   "outputs": [],
   "source": [
    "students.keys()"
   ]
  },
  {
   "cell_type": "code",
   "execution_count": null,
   "id": "415c4bba",
   "metadata": {},
   "outputs": [],
   "source": [
    "students.values()"
   ]
  },
  {
   "cell_type": "code",
   "execution_count": null,
   "id": "9667b163",
   "metadata": {},
   "outputs": [],
   "source": [
    "students.items()"
   ]
  },
  {
   "cell_type": "code",
   "execution_count": null,
   "id": "14bc357f",
   "metadata": {},
   "outputs": [],
   "source": [
    "for student in students.keys():\n",
    "    print(student)"
   ]
  },
  {
   "cell_type": "code",
   "execution_count": null,
   "id": "b4e18f0b",
   "metadata": {},
   "outputs": [],
   "source": [
    "for student in students.values():\n",
    "    print(student)"
   ]
  },
  {
   "cell_type": "code",
   "execution_count": null,
   "id": "f1dc6404",
   "metadata": {},
   "outputs": [],
   "source": [
    "#Access both keys and values\n",
    "for key,value in students.items():\n",
    "    print(key,value)"
   ]
  },
  {
   "cell_type": "code",
   "execution_count": null,
   "id": "0c47719c",
   "metadata": {},
   "outputs": [],
   "source": [
    "# Bring 2 lists into a dictionary\n",
    "jackson_faculty = [\"King\",\"JT\",\"Makaridis\",\"Levinson\",\"Ghandi\"]\n",
    "sme = [\"Python\",\"Stats\",\"Intel\",\"Econ\",\"Politics\"]\n",
    "jackson_faculty_sme = dict(zip(jackson_faculty,sme))\n",
    "print(jackson_faculty_sme)"
   ]
  },
  {
   "cell_type": "code",
   "execution_count": 4,
   "id": "bd7b6630",
   "metadata": {},
   "outputs": [
    {
     "name": "stdout",
     "output_type": "stream",
     "text": [
      "{'student_1': {'Name': 'Joseph', 'GPA': 4.6}, 'student_2': {'Name': 'Steve', 'GPA': 4.8}, 'student_3': {'Name': 'Casey', 'GPA': 4.0}}\n"
     ]
    }
   ],
   "source": [
    "#Attaching multiple values to a key within a dictionary\n",
    "student_grades = {\"student_1\":{\"Name\":\"Joseph\",\"GPA\":4.7},\n",
    "                  \"student_2\":{\"Name\":\"Steve\",\"GPA\":4.8},\n",
    "                  \"student_3\":{\"Name\":\"Casey\",\"GPA\":4.0}}\n",
    "student_grades[\"student_1\"][\"GPA\"] = 4.6\n",
    "print(student_grades)"
   ]
  },
  {
   "cell_type": "code",
   "execution_count": null,
   "id": "d0559fb1",
   "metadata": {},
   "outputs": [],
   "source": []
  }
 ],
 "metadata": {
  "kernelspec": {
   "display_name": "Python 3 (ipykernel)",
   "language": "python",
   "name": "python3"
  },
  "language_info": {
   "codemirror_mode": {
    "name": "ipython",
    "version": 3
   },
   "file_extension": ".py",
   "mimetype": "text/x-python",
   "name": "python",
   "nbconvert_exporter": "python",
   "pygments_lexer": "ipython3",
   "version": "3.11.4"
  }
 },
 "nbformat": 4,
 "nbformat_minor": 5
}
