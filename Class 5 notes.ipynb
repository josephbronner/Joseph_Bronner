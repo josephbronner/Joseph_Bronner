{
 "cells": [
  {
   "cell_type": "code",
   "execution_count": null,
   "id": "9a29c2d5",
   "metadata": {},
   "outputs": [],
   "source": [
    "# for sets, the elements are unique, not duplicated\n",
    "# Sets, tuples, dictionaries, and lists"
   ]
  },
  {
   "cell_type": "code",
   "execution_count": null,
   "id": "34a04536",
   "metadata": {},
   "outputs": [],
   "source": [
    "# set example\n",
    "\n",
    "#This is a list\n",
    "languages = [\"Urdu\",\"French\",\"Spanish\",\"Russian\",\"Python\",\"French\"]\n",
    "\n",
    "#This is a set function (passing the list to a set function)\n",
    "languages_set = set(languages)\n",
    "\n",
    "print(languages_set)"
   ]
  },
  {
   "cell_type": "code",
   "execution_count": null,
   "id": "d1c6640c",
   "metadata": {},
   "outputs": [],
   "source": [
    "type(languages_set)"
   ]
  },
  {
   "cell_type": "code",
   "execution_count": null,
   "id": "958337fa",
   "metadata": {},
   "outputs": [],
   "source": [
    "print(languages_set)"
   ]
  },
  {
   "cell_type": "code",
   "execution_count": null,
   "id": "90afd586",
   "metadata": {},
   "outputs": [],
   "source": [
    "# Define a set with curly braces\n",
    "dogs = {\"Setter\",\"Shepherd\",\"Lab\",\"Poodle\"}\n",
    "print(dogs)"
   ]
  },
  {
   "cell_type": "code",
   "execution_count": null,
   "id": "e356d258",
   "metadata": {},
   "outputs": [],
   "source": [
    "# hot to initialize an empty set\n",
    "yale_colelges = set()"
   ]
  },
  {
   "cell_type": "code",
   "execution_count": null,
   "id": "6416998d",
   "metadata": {},
   "outputs": [],
   "source": [
    "yale_colleges = set()\n",
    "yale_colleges.add(\"Morse\")\n",
    "yale_colleges.add(\"JE\")\n",
    "yale_colleges.add(\"Davenport\")\n",
    "\n",
    "print(yale_colleges)"
   ]
  },
  {
   "cell_type": "code",
   "execution_count": null,
   "id": "a218180c",
   "metadata": {},
   "outputs": [],
   "source": [
    "# To add more things to the set, you use \"update\", and you pass it in as a list or as set {\"Saybrook\",\"Hopper\"} or [\"Saybrook\",\"Hopper\"] it won't work\n",
    "yale_colleges.update([\"Saybrook\",\"Hopper\"])\n",
    "print(yale_colleges)"
   ]
  },
  {
   "cell_type": "code",
   "execution_count": null,
   "id": "89d4f5ed",
   "metadata": {},
   "outputs": [],
   "source": [
    "yale_colleges.update({\"Dwight\",\"Davedoff\"})\n",
    "yale_colleges_d = set()\n",
    "for college in yale_colleges:\n",
    "    if college[0] == \"D\":\n",
    "        yale_colleges_d.add(college)\n",
    "    else:\n",
    "        pass\n",
    "print(yale_colleges_d)"
   ]
  },
  {
   "cell_type": "code",
   "execution_count": null,
   "id": "88be21f4",
   "metadata": {},
   "outputs": [],
   "source": [
    "a = {1,2,3,4,5}\n",
    "b = {1,2,3,4,5}\n",
    "c = {2,3,4,5,6}\n",
    "d = {3,4,5,6,7}\n",
    "print(a.union(b,c,d))\n",
    "print(c.intersection(d))"
   ]
  },
  {
   "cell_type": "code",
   "execution_count": null,
   "id": "f45931da",
   "metadata": {},
   "outputs": [],
   "source": [
    "# Tuples store multiple items in a single variable\n",
    "# Tuples are ordered and unchangeable\n",
    "# Tuples are witten with round brackers ()\n",
    "# Sets are unordered"
   ]
  },
  {
   "cell_type": "code",
   "execution_count": null,
   "id": "c5edb18a",
   "metadata": {},
   "outputs": [],
   "source": [
    "first_tuple = (\"Apple\",\"Cherry\",\"Banana\")\n",
    "print(first_tuple)"
   ]
  },
  {
   "cell_type": "code",
   "execution_count": null,
   "id": "3d15bf13",
   "metadata": {},
   "outputs": [],
   "source": [
    "first_tuple = (\"Apple\",\"Cherry\",\"Banana\", \"Apple\", \"Kiwi\")\n",
    "print(first_tuple)\n",
    "print(first_tuple[0])"
   ]
  },
  {
   "cell_type": "code",
   "execution_count": null,
   "id": "9a55dce0",
   "metadata": {},
   "outputs": [],
   "source": [
    "# Since tuples are ordered, they are also indexed\n",
    "print(first_tuple[0:3])"
   ]
  },
  {
   "cell_type": "code",
   "execution_count": null,
   "id": "d3ae078b",
   "metadata": {},
   "outputs": [],
   "source": [
    "# Tuple doesn't support item deletion because it's imutablee\n",
    "del first_tuple[3]\n",
    "print(first_tuple)"
   ]
  },
  {
   "cell_type": "code",
   "execution_count": null,
   "id": "1eb42717",
   "metadata": {},
   "outputs": [],
   "source": [
    "# Tuple doesn't support item deletion because it's imutablee\n",
    "first_tuple_l = list(first_tuple)\n",
    "del first_tuple_l[3]\n",
    "first_tuple = tuple(first_tuple_l)\n",
    "print(first_tuple)\n"
   ]
  },
  {
   "cell_type": "code",
   "execution_count": null,
   "id": "03755b3e",
   "metadata": {},
   "outputs": [],
   "source": [
    "#List Comprehension\n",
    "\n",
    "for x in range(10):\n",
    "    print(x**2)\n",
    "    "
   ]
  },
  {
   "cell_type": "code",
   "execution_count": null,
   "id": "469f699e",
   "metadata": {},
   "outputs": [],
   "source": [
    "squares = [x**2 for x in range(10)]\n",
    "print(squares)"
   ]
  },
  {
   "cell_type": "code",
   "execution_count": null,
   "id": "f633848e",
   "metadata": {},
   "outputs": [],
   "source": [
    "even_squares = [x**2 for x in range(10) if x%2 == 0]\n",
    "print(even_squares)"
   ]
  },
  {
   "cell_type": "code",
   "execution_count": null,
   "id": "7a7328b8",
   "metadata": {},
   "outputs": [],
   "source": [
    "squares = [x**2 if x%2 == 0 else x**3 for x in range(10)]\n",
    "squares"
   ]
  },
  {
   "cell_type": "code",
   "execution_count": null,
   "id": "e08cf086",
   "metadata": {},
   "outputs": [],
   "source": [
    "students = {\"Joseph\":\"America\",\"Alejandro\":\"Mexico\",\"Rakkshet\":\"India\",\"Alex\":\"Korea\",\"Anibal\":\"Chile\"}\n",
    "print(students)"
   ]
  },
  {
   "cell_type": "code",
   "execution_count": null,
   "id": "3b5ce6d8",
   "metadata": {},
   "outputs": [],
   "source": [
    "print(students[\"Alex\"])"
   ]
  },
  {
   "cell_type": "code",
   "execution_count": null,
   "id": "c6fae95f",
   "metadata": {},
   "outputs": [],
   "source": [
    "students.keys()"
   ]
  },
  {
   "cell_type": "code",
   "execution_count": null,
   "id": "6f03b80a",
   "metadata": {},
   "outputs": [],
   "source": [
    "students.values()"
   ]
  },
  {
   "cell_type": "code",
   "execution_count": null,
   "id": "256d12d1",
   "metadata": {},
   "outputs": [],
   "source": [
    "students.items()"
   ]
  },
  {
   "cell_type": "code",
   "execution_count": null,
   "id": "1981fa14",
   "metadata": {},
   "outputs": [],
   "source": [
    "for student in students.keys():\n",
    "    print(student)"
   ]
  },
  {
   "cell_type": "code",
   "execution_count": null,
   "id": "492ab590",
   "metadata": {},
   "outputs": [],
   "source": [
    "for student in students.values():\n",
    "    print(student)"
   ]
  },
  {
   "cell_type": "code",
   "execution_count": null,
   "id": "c05f00ce",
   "metadata": {},
   "outputs": [],
   "source": [
    "#Access both keys and values\n",
    "for key,value in students.items():\n",
    "    print(key,value)"
   ]
  },
  {
   "cell_type": "code",
   "execution_count": null,
   "id": "10a85684",
   "metadata": {},
   "outputs": [],
   "source": [
    "# Bring 2 lists into a dictionary\n",
    "jackson_faculty = [\"King\",\"JT\",\"Makaridis\",\"Levinson\",\"Ghandi\"]\n",
    "sme = [\"Python\",\"Stats\",\"Intel\",\"Econ\",\"Politics\"]\n",
    "jackson_faculty_sme = dict(zip(jackson_faculty,sme))\n",
    "print(jackson_faculty_sme)"
   ]
  },
  {
   "cell_type": "code",
   "execution_count": 4,
   "id": "fb5f0e33",
   "metadata": {},
   "outputs": [
    {
     "name": "stdout",
     "output_type": "stream",
     "text": [
      "{'student_1': {'Name': 'Joseph', 'GPA': 4.6}, 'student_2': {'Name': 'Steve', 'GPA': 4.8}, 'student_3': {'Name': 'Casey', 'GPA': 4.0}}\n"
     ]
    }
   ],
   "source": [
    "#Attaching multiple values to a key within a dictionary\n",
    "student_grades = {\"student_1\":{\"Name\":\"Joseph\",\"GPA\":4.7},\n",
    "                  \"student_2\":{\"Name\":\"Steve\",\"GPA\":4.8},\n",
    "                  \"student_3\":{\"Name\":\"Casey\",\"GPA\":4.0}}\n",
    "student_grades[\"student_1\"][\"GPA\"] = 4.6\n",
    "print(student_grades)"
   ]
  },
  {
   "cell_type": "code",
   "execution_count": null,
   "id": "a8c10908",
   "metadata": {},
   "outputs": [],
   "source": []
  }
 ],
 "metadata": {
  "kernelspec": {
   "display_name": "Python 3 (ipykernel)",
   "language": "python",
   "name": "python3"
  },
  "language_info": {
   "codemirror_mode": {
    "name": "ipython",
    "version": 3
   },
   "file_extension": ".py",
   "mimetype": "text/x-python",
   "name": "python",
   "nbconvert_exporter": "python",
   "pygments_lexer": "ipython3",
   "version": "3.11.4"
  }
 },
 "nbformat": 4,
 "nbformat_minor": 5
}
