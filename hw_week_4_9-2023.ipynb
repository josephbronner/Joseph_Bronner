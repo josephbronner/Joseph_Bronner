{
 "cells": [
  {
   "cell_type": "markdown",
   "id": "aa087a21",
   "metadata": {},
   "source": [
    "## Lists\n"
   ]
  },
  {
   "cell_type": "markdown",
   "id": "7cc76f10",
   "metadata": {},
   "source": [
    "\n",
    "1. Create a list called \"orgs\" with the following elements: \"UNESCO\", \"IMF\", \"UNICEF\", \"WHO\", \"UNDP\", \"World Bank\"\". Then, use slicing to extract a sublist that includes only the second, third, and fourth elements. Print the resulting sublist."
   ]
  },
  {
   "cell_type": "code",
   "execution_count": 2,
   "id": "07e6cc18",
   "metadata": {},
   "outputs": [
    {
     "name": "stdout",
     "output_type": "stream",
     "text": [
      "['IMF', 'WHO', 'UNDP']\n"
     ]
    }
   ],
   "source": [
    "#Your code here:\n",
    "orgs = [\"UNESCO\",\"IMF\",\"WHO\",\"UNDP\",\"World Bank\"]\n",
    "print(orgs[1:4])"
   ]
  },
  {
   "cell_type": "markdown",
   "id": "3f107249",
   "metadata": {},
   "source": [
    "2. Create a list called \"sec-gens\" using the list of Secretary Generals from the United Nations from the beginning to present. Then, use the sort() method to sort the list in ascending order. Print the resulting sorted list."
   ]
  },
  {
   "cell_type": "code",
   "execution_count": 13,
   "id": "9418a698",
   "metadata": {},
   "outputs": [
    {
     "name": "stdout",
     "output_type": "stream",
     "text": [
      "['Antonio Guterres', 'Ban Ki-moon', 'Boutros Boutros-Ghali', 'Dag Hammarskjold', 'Javier Perez de Cuellar', 'Kofi Annan', 'Kurt Wladheim', 'Trygve Lie', 'U Thant']\n"
     ]
    }
   ],
   "source": [
    "#Your code here:\n",
    "sec_gens = [\"Trygve Lie\",\"Dag Hammarskjold\",\"U Thant\", \"Kurt Wladheim\", \"Javier Perez de Cuellar\", \"Boutros Boutros-Ghali\", \"Kofi Annan\", \"Ban Ki-moon\",\"Antonio Guterres\"]\n",
    "sec_gens.sort()\n",
    "print (sec_gens)"
   ]
  },
  {
   "cell_type": "markdown",
   "id": "876fe7d6",
   "metadata": {},
   "source": [
    "3a. The original the economies of Brazil, Russia, India and China were called \"BRIC\" or the \"BRICs\" by an economist at Goldman Sachs in 2001. The economist predicted that these fast growing economies would dominate the global ecomomy by 2050. Write a list called BRIC comprised of the countries above\n"
   ]
  },
  {
   "cell_type": "code",
   "execution_count": 29,
   "id": "e30d7050",
   "metadata": {},
   "outputs": [
    {
     "name": "stdout",
     "output_type": "stream",
     "text": [
      "['Brazil', 'Russia', 'India', 'China']\n"
     ]
    }
   ],
   "source": [
    "#Your code here:\n",
    "BRIC = [\"Brazil\",\"Russia\",\"India\",\"China\"]\n",
    "print (BRIC)"
   ]
  },
  {
   "cell_type": "markdown",
   "id": "c133b54d",
   "metadata": {},
   "source": [
    "3b. South Africa joined BRIC in 2010. Please use append to add South Africa to the list."
   ]
  },
  {
   "cell_type": "code",
   "execution_count": 30,
   "id": "8bb301bb",
   "metadata": {},
   "outputs": [
    {
     "name": "stdout",
     "output_type": "stream",
     "text": [
      "['Brazil', 'Russia', 'India', 'China', 'South Africa']\n"
     ]
    }
   ],
   "source": [
    "#Your code here\n",
    "BRIC.append(\"South Africa\")\n",
    "BRICS = BRIC\n",
    "print (BRICS)"
   ]
  },
  {
   "cell_type": "markdown",
   "id": "3d27ed02",
   "metadata": {},
   "source": [
    "3c. In August 2023, at the 15th BRICS Summit, it was announced that Argentina, Egypt, Ethiopia, Iran, Saudi Arabia and the United Arab Emirates had been invited to join the bloc effective on January 1, 2024. Add these to the list using the \"extend\" method, and print the results."
   ]
  },
  {
   "cell_type": "code",
   "execution_count": 31,
   "id": "c553905f",
   "metadata": {},
   "outputs": [
    {
     "name": "stdout",
     "output_type": "stream",
     "text": [
      "['Brazil', 'Russia', 'India', 'China', 'South Africa', 'Argentina', 'Egypt', 'Ethiopia', 'Iran', 'Saudi Arabia', 'United Arab Emmirates']\n"
     ]
    }
   ],
   "source": [
    "#Your code here:\n",
    "BRICS.extend([\"Argentina\", \"Egypt\", \"Ethiopia\", \"Iran\", \"Saudi Arabia\", \"United Arab Emmirates\"])\n",
    "print(BRICS)"
   ]
  },
  {
   "cell_type": "markdown",
   "id": "61ee1eaa",
   "metadata": {},
   "source": [
    "3d. Imagine a scenario where Ethiopia changed its mind about joining. Please use the appropriate list method to remove Ethiopia from the list"
   ]
  },
  {
   "cell_type": "code",
   "execution_count": 38,
   "id": "b37133cd",
   "metadata": {},
   "outputs": [
    {
     "name": "stdout",
     "output_type": "stream",
     "text": [
      "['Brazil', 'Russia', 'India', 'China', 'South Africa', 'Argentina', 'Egypt', 'Iran', 'Saudi Arabia', 'United Arab Emmirates']\n"
     ]
    }
   ],
   "source": [
    "#Your code here:\n",
    "BRICS.remove(\"Ethiopia\")\n",
    "print(BRICS)"
   ]
  },
  {
   "cell_type": "markdown",
   "id": "ad43d9b8",
   "metadata": {},
   "source": [
    "3e. Ethiopia changed its mind!! But it insists on the new BRICS being called BERICS, and demands that it be listed second, or no deal. The other countries have, relucatantly agreed, with a further concession being made to Argentina that demands it be listed between China and South Africa (Yes, \"BERICAS\") Please use the insert method to achieve global peace among these nations. Print the new list."
   ]
  },
  {
   "cell_type": "code",
   "execution_count": 39,
   "id": "e941abc8",
   "metadata": {},
   "outputs": [
    {
     "name": "stdout",
     "output_type": "stream",
     "text": [
      "['Brazil', 'Ethiopia', 'Russia', 'India', 'China', 'Argentina', 'South Africa', 'Egypt', 'Iran', 'Saudi Arabia', 'United Arab Emmirates']\n"
     ]
    }
   ],
   "source": [
    "#Your code here\n",
    "BERICAS = BRICS\n",
    "BERICAS.insert(1,\"Ethiopia\")\n",
    "BERICAS.remove(\"Argentina\")\n",
    "BERICAS.insert(5,\"Argentina\")\n",
    "print(BERICAS)"
   ]
  },
  {
   "cell_type": "markdown",
   "id": "de42dcf6",
   "metadata": {},
   "source": [
    "## For Loops"
   ]
  },
  {
   "cell_type": "markdown",
   "id": "1142f197",
   "metadata": {},
   "source": [
    "4. Write a Python program that takes a list of numbers and prints each number multiplied by 2 using a for loop.\n"
   ]
  },
  {
   "cell_type": "code",
   "execution_count": 44,
   "id": "165e5305",
   "metadata": {},
   "outputs": [
    {
     "name": "stdout",
     "output_type": "stream",
     "text": [
      "2\n",
      "4\n",
      "6\n",
      "8\n",
      "10\n",
      "12\n",
      "14\n",
      "16\n",
      "18\n",
      "20\n"
     ]
    }
   ],
   "source": [
    "numbers = [1,2,3,4,5,6,7,8,9,10]\n",
    "#your code here:\n",
    "for number in numbers:\n",
    "    print(number * 2)"
   ]
  },
  {
   "cell_type": "markdown",
   "id": "2a003b04",
   "metadata": {},
   "source": [
    "5. Write a Python program that takes a list of strings called \"sanctions\" and prints the length of each string using a for loop."
   ]
  },
  {
   "cell_type": "code",
   "execution_count": 45,
   "id": "edc51dc4",
   "metadata": {},
   "outputs": [
    {
     "name": "stdout",
     "output_type": "stream",
     "text": [
      "4\n",
      "11\n",
      "5\n",
      "4\n",
      "6\n"
     ]
    }
   ],
   "source": [
    "sanctions = [\"Iran\", \"North Korea\", \"Syria\", \"Iraq\", \"Russia\"]\n",
    "\n",
    "#your code here:\n",
    "for sanction in sanctions:\n",
    "    print(len(sanction))"
   ]
  },
  {
   "cell_type": "markdown",
   "id": "2f134545",
   "metadata": {},
   "source": [
    " 6. Write a Python program that takes the sanction list and uses a for loop to only print those countries in the Middle East."
   ]
  },
  {
   "cell_type": "code",
   "execution_count": 48,
   "id": "794b8fe5",
   "metadata": {},
   "outputs": [
    {
     "name": "stdout",
     "output_type": "stream",
     "text": [
      "4\n",
      "5\n",
      "4\n"
     ]
    }
   ],
   "source": [
    "#Your code here:\n",
    "middle_east = [\"Iran\",\"Syria\",\"Iraq\"]\n",
    "for sanction in sanctions:\n",
    "    if sanction in middle_east:\n",
    "        print(len(sanction))"
   ]
  },
  {
   "cell_type": "markdown",
   "id": "2e3db918",
   "metadata": {},
   "source": [
    " 6. Write a Python program that takes the sanction list and uses a for loop to only print only those countries that begin with \"I\""
   ]
  },
  {
   "cell_type": "code",
   "execution_count": 52,
   "id": "81901bdf",
   "metadata": {},
   "outputs": [
    {
     "name": "stdout",
     "output_type": "stream",
     "text": [
      "4\n",
      "4\n"
     ]
    }
   ],
   "source": [
    "#Your code here\n",
    "for sanction in sanctions:\n",
    "    if sanction[0] == \"I\":\n",
    "        print(len(sanction))"
   ]
  },
  {
   "cell_type": "markdown",
   "id": "ce5fcd93",
   "metadata": {},
   "source": [
    "7.Write a Python program that takes a list of GDP of various contries and prints only the GDPs that are greater than 3 trillion, using a for loop. Please use print the numbers with commas and dollar signs in the appropriate places!"
   ]
  },
  {
   "cell_type": "code",
   "execution_count": 59,
   "id": "6cd5d358",
   "metadata": {},
   "outputs": [
    {
     "name": "stdout",
     "output_type": "stream",
     "text": [
      "$ 4,072,190,000,000\n",
      "$ 3,385,090,000,000\n",
      "$ 3,070,670,000,000\n"
     ]
    }
   ],
   "source": [
    "GDPs_of_countries_ranked_fourth_to_ninth=  [4072190000000, 3385090000000, 3070670000000, 2782910000000, 2240420000000, 2139840000000] \n",
    "#Your code here:\n",
    "for GDP in GDPs_of_countries_ranked_fourth_to_ninth:\n",
    "    if GDP > 3000000000000:\n",
    "        formatted_number = '{:,}'.format(GDP)\n",
    "        print(f\"$ {formatted_number}\")"
   ]
  },
  {
   "cell_type": "markdown",
   "id": "ee184272",
   "metadata": {},
   "source": [
    "8.Write a Python program that initializes an empty list called BRICS and using a for loop, iterates through a list of countries, and populates that list. "
   ]
  },
  {
   "cell_type": "code",
   "execution_count": 61,
   "id": "74858f7c",
   "metadata": {},
   "outputs": [
    {
     "name": "stdout",
     "output_type": "stream",
     "text": [
      "['Brazil', 'China', 'India']\n"
     ]
    }
   ],
   "source": [
    "countries = [\"USA\", \"Canada\", \"Mexico\", \"Brazil\", \"Norway\", \"Finland\", \"Bangladesh\", \"China\", \"India\", \"Pakistan\"]\n",
    "#Your code here:\n",
    "BRICS = []\n",
    "for country in countries:\n",
    "    if country in [\"Brazil\", \"Russia\", \"India\", \"China\", \"South Africa\"]:\n",
    "        BRICS.append(country)\n",
    "print(BRICS)"
   ]
  },
  {
   "cell_type": "markdown",
   "id": "de56b1fc",
   "metadata": {},
   "source": [
    "9. Write a Python program that takes a list of strings and populates three new lists: one called \"short\", one called \"medium\" and one called \"long\", defined as following: \"long\" if the length of the string is greater than 7, \"short\" if the length is less than 7, and \"medium\" if the length is exactly 7 using a for loop and an if/elif/else condition."
   ]
  },
  {
   "cell_type": "code",
   "execution_count": 69,
   "id": "3f4bf6df",
   "metadata": {},
   "outputs": [
    {
     "name": "stdout",
     "output_type": "stream",
     "text": [
      "short = ['war', 'treaty', 'NGO', 'truce']\n",
      "medium = ['embargo']\n",
      "long = ['sanctions', 'diplomacy', 'alliance', 'DMZnuclear', 'genocide', 'colonial', 'shock and awe', 'terrorism']\n"
     ]
    }
   ],
   "source": [
    "\n",
    "global_affairs_terms = [\"war\", \"treaty\", \"sanctions\", \"NGO\",\"embargo\", \"diplomacy\", \"alliance\",\"DMZ\" \"nuclear\", \"genocide\",\"truce\", \"colonial\",\"shock and awe\",\"terrorism\"]\n",
    "#Your code here:\n",
    "short = []\n",
    "medium = []\n",
    "long = []\n",
    "for term in global_affairs_terms:\n",
    "    if len(term) > 7:\n",
    "        long.append(term)\n",
    "    elif len(term) == 7:\n",
    "        medium.append(term)\n",
    "    else:\n",
    "        short.append(term)\n",
    "print(f\"short = {short}\")\n",
    "print(f\"medium = {medium}\")\n",
    "print(f\"long = {long}\")"
   ]
  },
  {
   "cell_type": "markdown",
   "id": "df449a04",
   "metadata": {},
   "source": [
    "10. In the following list_of_lists, I really want to print 1, 2, 3, 4, 5, 6, 7, 8, 9 but when I use a for loop, I get something different. Try it below:"
   ]
  },
  {
   "cell_type": "code",
   "execution_count": 70,
   "id": "ac3a5369",
   "metadata": {},
   "outputs": [
    {
     "name": "stdout",
     "output_type": "stream",
     "text": [
      "[1, 2, 3]\n",
      "[4, 5, 6]\n",
      "[7, 8, 9]\n"
     ]
    }
   ],
   "source": [
    "#Run this code:\n",
    "list_of_lists = [[1, 2, 3], [4, 5, 6], [7, 8, 9]]\n",
    "for x in list_of_lists:\n",
    "    print(x)"
   ]
  },
  {
   "cell_type": "markdown",
   "id": "8b800a46",
   "metadata": {},
   "source": [
    "The reason is because this is a list of lists. You can see that there are three lists within this single list. Can you access the lists within the list? Sure you can. You use a for loop within a for loop to do that as illustrated below"
   ]
  },
  {
   "cell_type": "code",
   "execution_count": 71,
   "id": "4349ba96",
   "metadata": {},
   "outputs": [
    {
     "name": "stdout",
     "output_type": "stream",
     "text": [
      "1\n",
      "2\n",
      "3\n",
      "4\n",
      "5\n",
      "6\n",
      "7\n",
      "8\n",
      "9\n"
     ]
    }
   ],
   "source": [
    "# check out this code and run it\n",
    "list_of_lists = [[1, 2, 3], [4, 5, 6], [7, 8, 9]]\n",
    "for outer_loop in list_of_lists:\n",
    "    for inner_loop in outer_loop:\n",
    "        print(inner_loop)"
   ]
  },
  {
   "cell_type": "code",
   "execution_count": 73,
   "id": "d7edd8f8",
   "metadata": {},
   "outputs": [
    {
     "name": "stdout",
     "output_type": "stream",
     "text": [
      "['war', 'treaty', 'sanctions', 'NGO', 'embargo', 'diplomacy', 'alliance', 'DMZ', 'nuclear', 'genocide', 'truce', 'colonial', 'shock and awe', 'terrorism']\n"
     ]
    }
   ],
   "source": [
    "ga_list_of_lists = [[\"war\", \"treaty\", \"sanctions\"], [\"NGO\",\"embargo\", \"diplomacy\", \"alliance\",\"DMZ\"], [\"nuclear\", \"genocide\",\"truce\"], [\"colonial\",\"shock and awe\",\"terrorism\"]]\n",
    "#Write a nested for loop to write the elements in the list to an empty list called \"flattened list\"\n",
    "flattened_list = []\n",
    "for each_list in ga_list_of_lists:\n",
    "    for inner_list in each_list:\n",
    "        flattened_list.append(inner_list)\n",
    "print(flattened_list)"
   ]
  },
  {
   "cell_type": "markdown",
   "id": "10414cb0",
   "metadata": {},
   "source": [
    "11. Write a for loop that returns a list of surnames of Nobel Peace Prize Winners.\n"
   ]
  },
  {
   "cell_type": "code",
   "execution_count": 1,
   "id": "9bac1f4f",
   "metadata": {},
   "outputs": [
    {
     "name": "stdout",
     "output_type": "stream",
     "text": [
      "['Xiabobo', 'King', 'Sato', 'Obama', 'Sirleaf', 'Walesa', 'Robles']\n"
     ]
    }
   ],
   "source": [
    "nobel_messy = [['Xiabobo', '!', ',', ':', ',', '@@', '%','^','&', 'King','Sato', '1945'],['Nuclear', 'Chemical'], ['Obama', 'Sirleaf', 'Walesa', 'Robles']]\n",
    "# your code: \n",
    "surnames = [\"Xiabobo\", \"King\", \"Sato\", \"Obama\", \"Sirleaf\", \"Walesa\", \"Robles\"]\n",
    "nobel_winners = []\n",
    "for each_list in nobel_messy:\n",
    "    for each_insert in each_list:\n",
    "        if each_insert in surnames:\n",
    "            nobel_winners.append(each_insert)\n",
    "print(nobel_winners)\n"
   ]
  },
  {
   "cell_type": "markdown",
   "id": "1e1ad3e9",
   "metadata": {},
   "source": [
    " ## Cybersecurity:\n",
    "The technique of trying every possible password to gain access to a password restricted website is called a brute-force attack. Loops, both for and while, make this very easy. This is part of the reason why a fairly unsophisticated hacker can still be successful.\n",
    "\n",
    "More than 15 billion stolen account credentials are offered for sale on cybercrime forums, with 5 billion of them considered unique, meaning that they haven’t been offered for sale more than once.\n",
    "\n",
    "The usernames and passwords found on cybercriminal marketplaces, especially on the dark web, come from over 100,000 separate data breaches and include access credentials for financial accounts and streaming services, and even for admin accounts providing access to organizations’ key systems. They have an average asking price of approximately 15 dollars per account. However, depending on the type of access they provide the price might go up or down, with financial and banking accounts commanding the highest price – 70 dollars a pop. The rest, typically streaming media accounts, social media and other services, can be purchased for under 10 dollars.\n",
    "\n",
    "In order to fight wrongdoing, we must imagine the world from their perspective. Some never come back. Others are guided by strong core principles and understand right and wrong.\n",
    "\n",
    "You are a hacker and have a budget of 3,200 Cape Verde Escudo to buy user passwords. On the recently rebooted AlphaBay Market https://www.wired.com/story/alphabay-dark-web-market-ranking/ on the dark web each password sells for $9.50. Of course, AlphaBay only accepts the cryptocurrency Monero, because it is so hard to track: https://www.getmonero.org/\n",
    "\n",
    "Write a script that converts Escudo (based on current exchange rate) to dollars, and then dollars to Monero (based on current exchange rate). Then output the number of passwords that you are able to buy."
   ]
  },
  {
   "cell_type": "code",
   "execution_count": 3,
   "id": "3a437237",
   "metadata": {},
   "outputs": [
    {
     "name": "stdout",
     "output_type": "stream",
     "text": [
      "How many Escudos do you have?30000\n",
      "This is worth 287.35632183908046 Dollars.\n",
      "This is worth 1.9725173108119196 Monero.\n",
      "You can buy 30.248033877797944 passwords with this.\n"
     ]
    }
   ],
   "source": [
    "#12aYour code here:\n",
    "Escudos = float(input(\"How many Escudos do you have?\"))\n",
    "Dollars = Escudos / 104.4\n",
    "Monero = Dollars / 145.68\n",
    "passwords = Dollars / 9.50\n",
    "print(f\"This is worth {Dollars} Dollars.\")\n",
    "print(f\"This is worth {Monero} Monero.\")\n",
    "print(f\"You can buy {passwords} passwords with this.\")"
   ]
  },
  {
   "cell_type": "markdown",
   "id": "c08e5ed5",
   "metadata": {},
   "source": [
    "\n",
    "Okay, you are off to a good start at understanding how bad people do bad things.\n",
    "\n",
    "Here is a sample of passwords received: (please ignore italics as markdown interprets characters as commands. double click on markdown cell to access unaltered passwords)\n",
    "\n",
    "3asdad, letmein@!, qwerty, abc123, trustno1, Ilovesandy, !!@@###123, pl,mjytce!, p@s𝑤𝑜𝑟𝑑,𝑗𝑜𝑘𝑒𝑟@1!,𝑔𝑜𝑓𝑘𝑢𝑟\n",
    "lf, 1q2w3e4r, letmein, iloveyou, password1, 1qaz2wsx, qazwsx, 12345, johnsp@ssw0rd, meandmymonkey, xboksrools, qwertyuiop, 77777, 888888, zaq1zaq1, 123qwe, excaliburr!, girlsrule!, @cce$$granted, iRulE!, pewdepieftw1, wtFstfUP, admin, master, sunshinesuzy, bobbyluvsdaBears!,qwertyuiop, w_uts_up, n0ℎ𝑖𝑡!,00000,𝑙𝑜𝑣𝑒𝑚𝑒,1𝑞𝑎𝑧2𝑤𝑠𝑥3𝑒𝑑,𝑝𝑙𝑚0𝑜𝑘𝑛,𝑙𝑜𝑔𝑚𝑒𝑖𝑛,𝑖𝑙𝑜𝑣𝑒𝑦𝑜𝑢,𝑓𝑜𝑜𝑡𝑏𝑎𝑙𝑙,𝑔𝑖𝑀𝑀𝑒\n",
    "uger, aiden123, william123, sally123, pirsquareD, d0nutTreadonme, weedmn, MakeUSgr8, USA#1, FokiSiS, Footbahl, 2#22#1985, 11111, Dodgethis\n",
    "\n",
    "Now you have some passwords that you can use to attempt a brute-force attack on a password protected account. Write a script that demonstrates how a brute force attack might work.\n",
    "\n",
    "For the sake of this exercise, assume the user's password is: 1qaz2wsx\n",
    "\n",
    "Your script should evaluate each one of the possible passwords. Output- \"No, try again\" when you hit a wrong password, and \"You're in!\" when you get it right. When you get it right, the script should stop running. This script should be automated so that it tries each password without you needing to enter it manually.\n"
   ]
  },
  {
   "cell_type": "code",
   "execution_count": 13,
   "id": "92c69357",
   "metadata": {},
   "outputs": [
    {
     "name": "stdout",
     "output_type": "stream",
     "text": [
      "What is your password?\n",
      "No, try again\n",
      "No, try again\n",
      "No, try again\n",
      "No, try again\n",
      "No, try again\n",
      "No, try again\n",
      "No, try again\n",
      "No, try again\n",
      "No, try again\n",
      "No, try again\n",
      "No, try again\n",
      "No, try again\n",
      "No, try again\n",
      "No, try again\n",
      "No, try again\n",
      "No, try again\n",
      "You're in!\n"
     ]
    }
   ],
   "source": [
    "#12b. Your code here:\n",
    "password_string = \"3asdad, letmein@!, qwerty, abc123, trustno1, Ilovesandy, !!@@###123, pl, mjytce!, p@s𝑤𝑜𝑟𝑑, 𝑗𝑜𝑘𝑒𝑟@1!, 𝑔𝑜𝑓𝑘𝑢𝑟 lf, 1q2w3e4r, letmein, iloveyou, password1, 1qaz2wsx, qazwsx, 12345, johnsp@ssw0rd, meandmymonkey, xboksrools, qwertyuiop, 77777, 888888, zaq1zaq1, 123qwe, excaliburr!, girlsrule!, @cce$$granted, iRulE!, pewdepieftw1, wtFstfUP, admin, master, sunshinesuzy, bobbyluvsdaBears!, qwertyuiop, w_uts_up, n0ℎ𝑖𝑡!, 00000, 𝑙𝑜𝑣𝑒𝑚𝑒, 1𝑞𝑎𝑧2𝑤𝑠𝑥3𝑒𝑑, 𝑝𝑙𝑚0𝑜𝑘𝑛, 𝑙𝑜𝑔𝑚𝑒𝑖𝑛, 𝑖𝑙𝑜𝑣𝑒𝑦𝑜𝑢, 𝑓𝑜𝑜𝑡𝑏𝑎𝑙𝑙, 𝑔𝑖𝑀𝑀𝑒 uger, aiden123, william123, sally123, pirsquareD, d0nutTreadonme, weedmn, MakeUSgr8, USA#1, FokiSiS, Footbahl, 2#22#1985, 11111, Dodgethis\"\n",
    "password_list = password_string.split(', ')\n",
    "your_response = \"\"\n",
    "answer = \"1qaz2wsx\"\n",
    "correct_incorrect = \"\"\n",
    "print(\"What is your password?\")\n",
    "while correct_incorrect != \"Correct\":\n",
    "    for password in password_list:\n",
    "        if correct_incorrect != \"Correct\":\n",
    "            your_response = password\n",
    "            if your_response == answer:\n",
    "                print(\"You're in!\")\n",
    "                correct_incorrect = \"Correct\"\n",
    "            else:\n",
    "                print(\"No, try again\")"
   ]
  },
  {
   "cell_type": "markdown",
   "id": "9753a9ad",
   "metadata": {},
   "source": [
    " \n",
    "A distributed denial-of-service (DDoS) attack is a malicious attempt to disrupt normal traffic of a targeted server, service or network by overwhelming the target or its surrounding infrastructure with a flood of data or inputs.\n",
    "\n",
    "Write a simple example of a DoS attack on a user input statement using a for loop that executes for 100 iterations.\n"
   ]
  },
  {
   "cell_type": "code",
   "execution_count": 21,
   "id": "47c512a4",
   "metadata": {},
   "outputs": [
    {
     "name": "stdout",
     "output_type": "stream",
     "text": [
      "1. This is my random input\n",
      "2. This is my random input\n",
      "3. This is my random input\n",
      "4. This is my random input\n",
      "5. This is my random input\n",
      "6. This is my random input\n",
      "7. This is my random input\n",
      "8. This is my random input\n",
      "9. This is my random input\n",
      "10. This is my random input\n",
      "11. This is my random input\n",
      "12. This is my random input\n",
      "13. This is my random input\n",
      "14. This is my random input\n",
      "15. This is my random input\n",
      "16. This is my random input\n",
      "17. This is my random input\n",
      "18. This is my random input\n",
      "19. This is my random input\n",
      "20. This is my random input\n",
      "21. This is my random input\n",
      "22. This is my random input\n",
      "23. This is my random input\n",
      "24. This is my random input\n",
      "25. This is my random input\n",
      "26. This is my random input\n",
      "27. This is my random input\n",
      "28. This is my random input\n",
      "29. This is my random input\n",
      "30. This is my random input\n",
      "31. This is my random input\n",
      "32. This is my random input\n",
      "33. This is my random input\n",
      "34. This is my random input\n",
      "35. This is my random input\n",
      "36. This is my random input\n",
      "37. This is my random input\n",
      "38. This is my random input\n",
      "39. This is my random input\n",
      "40. This is my random input\n",
      "41. This is my random input\n",
      "42. This is my random input\n",
      "43. This is my random input\n",
      "44. This is my random input\n",
      "45. This is my random input\n",
      "46. This is my random input\n",
      "47. This is my random input\n",
      "48. This is my random input\n",
      "49. This is my random input\n",
      "50. This is my random input\n",
      "51. This is my random input\n",
      "52. This is my random input\n",
      "53. This is my random input\n",
      "54. This is my random input\n",
      "55. This is my random input\n",
      "56. This is my random input\n",
      "57. This is my random input\n",
      "58. This is my random input\n",
      "59. This is my random input\n",
      "60. This is my random input\n",
      "61. This is my random input\n",
      "62. This is my random input\n",
      "63. This is my random input\n",
      "64. This is my random input\n",
      "65. This is my random input\n",
      "66. This is my random input\n",
      "67. This is my random input\n",
      "68. This is my random input\n",
      "69. This is my random input\n",
      "70. This is my random input\n",
      "71. This is my random input\n",
      "72. This is my random input\n",
      "73. This is my random input\n",
      "74. This is my random input\n",
      "75. This is my random input\n",
      "76. This is my random input\n",
      "77. This is my random input\n",
      "78. This is my random input\n",
      "79. This is my random input\n",
      "80. This is my random input\n",
      "81. This is my random input\n",
      "82. This is my random input\n",
      "83. This is my random input\n",
      "84. This is my random input\n",
      "85. This is my random input\n",
      "86. This is my random input\n",
      "87. This is my random input\n",
      "88. This is my random input\n",
      "89. This is my random input\n",
      "90. This is my random input\n",
      "91. This is my random input\n",
      "92. This is my random input\n",
      "93. This is my random input\n",
      "94. This is my random input\n",
      "95. This is my random input\n",
      "96. This is my random input\n",
      "97. This is my random input\n",
      "98. This is my random input\n",
      "99. This is my random input\n",
      "100. This is my random input\n"
     ]
    }
   ],
   "source": [
    "#12c.Your code here: \n",
    "for number in range(1,101):\n",
    "    print(f\"{number}. This is my random input\")"
   ]
  }
 ],
 "metadata": {
  "kernelspec": {
   "display_name": "Python 3 (ipykernel)",
   "language": "python",
   "name": "python3"
  },
  "language_info": {
   "codemirror_mode": {
    "name": "ipython",
    "version": 3
   },
   "file_extension": ".py",
   "mimetype": "text/x-python",
   "name": "python",
   "nbconvert_exporter": "python",
   "pygments_lexer": "ipython3",
   "version": "3.11.4"
  }
 },
 "nbformat": 4,
 "nbformat_minor": 5
}
