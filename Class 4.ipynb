{
 "cells": [
  {
   "cell_type": "code",
   "execution_count": null,
   "id": "bb855637",
   "metadata": {},
   "outputs": [],
   "source": [
    "import random\n",
    "answer = \"\"\n",
    "while answer != \"correct\":\n",
    "    number = random.randint(1,20)\n",
    "    guess = input (\"What is the number?\")\n",
    "    if guess == number:\n",
    "        answer = \"correct\"\n",
    "    else:\n",
    "        answer = \"incorrect\"\n",
    "    print(f\"Your answer was {answer}.\")"
   ]
  },
  {
   "cell_type": "code",
   "execution_count": null,
   "id": "a26bab73",
   "metadata": {},
   "outputs": [],
   "source": [
    "def welcome(name):\n",
    "    return(f\"Dear {name}, \\n\\nI hope this email finds you well. It is with great pleasure that I welcome you to the Jackson School of Global Affairs! As you embark on this new academic journey, we want you to know that you are joining a community of dedicated scholars, passionate educators, and fellow students who are eager to engage with the world's most pressing challenges.At the Jackson School, we believe in fostering a diverse and inclusive environment, where every student is empowered to think critically, act ethically, and contribute positively to the global community. Your unique perspectives, experiences, and aspirations will undoubtedly enrich our community, and we look forward to seeing the incredible impact you will make. Should you have any questions or concerns as you prepare for your arrival, please do not hesitate to reach out to our student affairs office at Jim.Levinsohn.com, 203-432-4771. Once again, welcome to the Jackson School of Global Affairs! Here's to a successful and fulfilling academic experience. \\n\\nSincerely, Jim L\")"
   ]
  },
  {
   "cell_type": "code",
   "execution_count": null,
   "id": "1be188a8",
   "metadata": {},
   "outputs": [],
   "source": [
    "Dev = welcome(\"Dev\")\n",
    "Rakkshet = welcome (\"Rakkshet\")\n",
    "Alex = welcome(\"Alex\")"
   ]
  },
  {
   "cell_type": "code",
   "execution_count": null,
   "id": "6431ac18",
   "metadata": {},
   "outputs": [],
   "source": [
    "print(Dev)"
   ]
  },
  {
   "cell_type": "code",
   "execution_count": null,
   "id": "0ec0231a",
   "metadata": {},
   "outputs": [],
   "source": [
    "with open(\"Dev.txt\", \"w\") as file:\n",
    "    file.write(Dev)"
   ]
  },
  {
   "cell_type": "code",
   "execution_count": null,
   "id": "38460a03",
   "metadata": {},
   "outputs": [],
   "source": [
    "pwd"
   ]
  },
  {
   "cell_type": "code",
   "execution_count": null,
   "id": "a34abdfa",
   "metadata": {},
   "outputs": [],
   "source": [
    "students = [\"Joseph\",\"Alex\"]\n",
    "print(students)"
   ]
  },
  {
   "cell_type": "code",
   "execution_count": null,
   "id": "7b156731",
   "metadata": {},
   "outputs": [],
   "source": [
    "type(students)"
   ]
  },
  {
   "cell_type": "code",
   "execution_count": null,
   "id": "41c03f64",
   "metadata": {},
   "outputs": [],
   "source": [
    "print(students[0])"
   ]
  },
  {
   "cell_type": "code",
   "execution_count": null,
   "id": "4915ad73",
   "metadata": {},
   "outputs": [],
   "source": [
    "print(students[0].lower())"
   ]
  },
  {
   "cell_type": "code",
   "execution_count": null,
   "id": "4e4242ea",
   "metadata": {},
   "outputs": [],
   "source": [
    "#New student coming in. Different Abby."
   ]
  },
  {
   "cell_type": "code",
   "execution_count": null,
   "id": "5754430b",
   "metadata": {},
   "outputs": [],
   "source": [
    "students.append(\"Different Abby\")"
   ]
  },
  {
   "cell_type": "code",
   "execution_count": null,
   "id": "bba6b029",
   "metadata": {},
   "outputs": [],
   "source": [
    "print(students)"
   ]
  },
  {
   "cell_type": "code",
   "execution_count": null,
   "id": "0755ff27",
   "metadata": {},
   "outputs": [],
   "source": [
    "students"
   ]
  },
  {
   "cell_type": "code",
   "execution_count": null,
   "id": "20fb9fc5",
   "metadata": {},
   "outputs": [],
   "source": [
    "students.pop()"
   ]
  },
  {
   "cell_type": "code",
   "execution_count": null,
   "id": "4e50bf6e",
   "metadata": {},
   "outputs": [],
   "source": [
    "students"
   ]
  },
  {
   "cell_type": "code",
   "execution_count": null,
   "id": "285df625",
   "metadata": {},
   "outputs": [],
   "source": [
    "students.append(\"Different Abby\")"
   ]
  },
  {
   "cell_type": "code",
   "execution_count": null,
   "id": "bdba7daf",
   "metadata": {},
   "outputs": [],
   "source": [
    "students.extend([\"Anibal\",\"Walid\"])"
   ]
  },
  {
   "cell_type": "code",
   "execution_count": null,
   "id": "e30de832",
   "metadata": {},
   "outputs": [],
   "source": [
    "students"
   ]
  },
  {
   "cell_type": "code",
   "execution_count": null,
   "id": "5891cdc5",
   "metadata": {},
   "outputs": [],
   "source": [
    "students.append([\"New 1\", \"New 2\"])"
   ]
  },
  {
   "cell_type": "code",
   "execution_count": null,
   "id": "5a93694c",
   "metadata": {},
   "outputs": [],
   "source": [
    "len(students)"
   ]
  },
  {
   "cell_type": "code",
   "execution_count": null,
   "id": "3ab91873",
   "metadata": {},
   "outputs": [],
   "source": [
    "students.remove(\"Joseph\")"
   ]
  },
  {
   "cell_type": "code",
   "execution_count": null,
   "id": "e925fd46",
   "metadata": {},
   "outputs": [],
   "source": [
    "students"
   ]
  },
  {
   "cell_type": "code",
   "execution_count": null,
   "id": "bc447a56",
   "metadata": {},
   "outputs": [],
   "source": [
    "students.pop(0)"
   ]
  },
  {
   "cell_type": "code",
   "execution_count": null,
   "id": "9a60fcb7",
   "metadata": {},
   "outputs": [],
   "source": [
    "students"
   ]
  },
  {
   "cell_type": "code",
   "execution_count": null,
   "id": "ced134eb",
   "metadata": {},
   "outputs": [],
   "source": [
    "students.insert(0,\"Joseph\")"
   ]
  },
  {
   "cell_type": "code",
   "execution_count": null,
   "id": "7c038879",
   "metadata": {},
   "outputs": [],
   "source": [
    "students"
   ]
  },
  {
   "cell_type": "code",
   "execution_count": null,
   "id": "57acc0b6",
   "metadata": {},
   "outputs": [],
   "source": [
    "students.insert(,\"Steve\")"
   ]
  },
  {
   "cell_type": "code",
   "execution_count": null,
   "id": "bdb59e66",
   "metadata": {},
   "outputs": [],
   "source": [
    "students"
   ]
  },
  {
   "cell_type": "code",
   "execution_count": null,
   "id": "bae141b3",
   "metadata": {},
   "outputs": [],
   "source": [
    "# Remove only removes the first occurence\n",
    "students.remove(\"Steve\")"
   ]
  },
  {
   "cell_type": "code",
   "execution_count": null,
   "id": "33b0823b",
   "metadata": {},
   "outputs": [],
   "source": [
    "alpha_students = sorted(students)"
   ]
  },
  {
   "cell_type": "code",
   "execution_count": null,
   "id": "7fbaf502",
   "metadata": {},
   "outputs": [],
   "source": [
    "# Sorted gives it in alphabetical order, but you have to put it into a new variable for it to remain.\n",
    "print (alpha_students)\n",
    "print (students)"
   ]
  },
  {
   "cell_type": "code",
   "execution_count": null,
   "id": "2c3b74ed",
   "metadata": {},
   "outputs": [],
   "source": [
    "# .sort permenantly changes the list to be sorted\n",
    "students.sort()\n",
    "print(students)"
   ]
  },
  {
   "cell_type": "code",
   "execution_count": null,
   "id": "1bcbf676",
   "metadata": {},
   "outputs": [],
   "source": [
    "# list[start:right after stop]\n",
    "students[4:6]"
   ]
  },
  {
   "cell_type": "code",
   "execution_count": null,
   "id": "1c15e68a",
   "metadata": {},
   "outputs": [],
   "source": [
    "# new kind of loop: for loop"
   ]
  },
  {
   "cell_type": "code",
   "execution_count": null,
   "id": "3c72f937",
   "metadata": {},
   "outputs": [],
   "source": [
    "for student in students:\n",
    "    print(student)"
   ]
  },
  {
   "cell_type": "code",
   "execution_count": null,
   "id": "65d9e99e",
   "metadata": {},
   "outputs": [],
   "source": [
    "for student in students:\n",
    "    if student.startswith(\"J\"):\n",
    "        print(student)"
   ]
  },
  {
   "cell_type": "code",
   "execution_count": null,
   "id": "b15c5a94",
   "metadata": {},
   "outputs": [],
   "source": [
    "# You an initialize an empty list and it'll put it inside that bucket\n",
    "\n",
    "j_students = []\n",
    "for student in students:\n",
    "    if student.startswith(\"J\"):\n",
    "        j_students.append(student)\n",
    "print (j_students)"
   ]
  },
  {
   "cell_type": "code",
   "execution_count": null,
   "id": "969617be",
   "metadata": {},
   "outputs": [],
   "source": []
  }
 ],
 "metadata": {
  "kernelspec": {
   "display_name": "Python 3 (ipykernel)",
   "language": "python",
   "name": "python3"
  },
  "language_info": {
   "codemirror_mode": {
    "name": "ipython",
    "version": 3
   },
   "file_extension": ".py",
   "mimetype": "text/x-python",
   "name": "python",
   "nbconvert_exporter": "python",
   "pygments_lexer": "ipython3",
   "version": "3.11.4"
  }
 },
 "nbformat": 4,
 "nbformat_minor": 5
}
