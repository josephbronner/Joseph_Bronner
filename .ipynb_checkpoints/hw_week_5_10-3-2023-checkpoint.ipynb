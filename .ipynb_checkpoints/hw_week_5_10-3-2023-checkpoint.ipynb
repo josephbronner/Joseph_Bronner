{
 "cells": [
  {
   "cell_type": "markdown",
   "id": "167d23b1",
   "metadata": {},
   "source": [
    "## Sets\n",
    "Sets in Python are **unordered** collections of **unique** elements. \n",
    "Remove the redundant names in the following list and save to a variable called \"set_names\". You may have to unify capitalization to get it right!\n"
   ]
  },
  {
   "cell_type": "code",
   "execution_count": 7,
   "id": "43fff55c",
   "metadata": {},
   "outputs": [
    {
     "name": "stdout",
     "output_type": "stream",
     "text": [
      "{'Bob', 'Dana', 'Charlie', 'Alice'}\n"
     ]
    }
   ],
   "source": [
    "names = [\"Alice\", \"Bob\", \"alice\", \"bob\", \"Charlie\", \"charlie\", \"Dana\", \"dana\"]\n",
    " #Your code here:\n",
    "    \n",
    " #Coverted the list to a set with a list comprehension\n",
    "set_names = {each_name.capitalize() for each_name in names}\n",
    "print(set_names)"
   ]
  },
  {
   "cell_type": "markdown",
   "id": "400df320",
   "metadata": {},
   "source": [
    "Add Joseph to your \"set_names\" set and print \"Added Joseph:\" and then the set."
   ]
  },
  {
   "cell_type": "code",
   "execution_count": 8,
   "id": "aac920cb",
   "metadata": {},
   "outputs": [
    {
     "name": "stdout",
     "output_type": "stream",
     "text": [
      "Added Joseph: \n"
     ]
    },
    {
     "data": {
      "text/plain": [
       "{'Alice', 'Bob', 'Charlie', 'Dana', 'Joseph'}"
      ]
     },
     "execution_count": 8,
     "metadata": {},
     "output_type": "execute_result"
    }
   ],
   "source": [
    " #Your code here:\n",
    "\n",
    " #Used the add feature to add Joseph to the set\n",
    "set_names.add(\"Joseph\")\n",
    "print(\"Added Joseph: \")\n",
    "set_names"
   ]
  },
  {
   "cell_type": "markdown",
   "id": "108beddd",
   "metadata": {},
   "source": [
    "Remove \"Alice\" from your set_names set and print \"Removed Alice:\" and then the set."
   ]
  },
  {
   "cell_type": "code",
   "execution_count": 9,
   "id": "8ad00429",
   "metadata": {},
   "outputs": [
    {
     "name": "stdout",
     "output_type": "stream",
     "text": [
      "Removed Alice: \n"
     ]
    },
    {
     "data": {
      "text/plain": [
       "{'Bob', 'Charlie', 'Dana', 'Joseph'}"
      ]
     },
     "execution_count": 9,
     "metadata": {},
     "output_type": "execute_result"
    }
   ],
   "source": [
    " # Your code here:\n",
    "    \n",
    "# Used the remove function to remove Alice\n",
    "set_names.remove(\"Alice\")\n",
    "print(\"Removed Alice: \")\n",
    "set_names"
   ]
  },
  {
   "cell_type": "markdown",
   "id": "7ea9419c",
   "metadata": {},
   "source": [
    "## Tuples\n",
    "In Python, a tuple is an **ordered**, **immutable** collection of elements. Once a tuple is created, you cannot modify its elements or their order. Tuples are commonly used in Python programming and can be employed in various scenarios due to their immutability and the ability to store multiple items.\n"
   ]
  },
  {
   "cell_type": "code",
   "execution_count": 15,
   "id": "62d2fc81",
   "metadata": {},
   "outputs": [
    {
     "data": {
      "text/plain": [
       "'F'"
      ]
     },
     "execution_count": 15,
     "metadata": {},
     "output_type": "execute_result"
    }
   ],
   "source": [
    "#Make a string from the following tuple: IT should read F\n",
    "tuple_1=('F','o','o','b','a','W','o','o','b','a','J','o','h','n')\n",
    "\n",
    "#Just print the first item in the touple\n",
    "tuple_1[0]"
   ]
  },
  {
   "cell_type": "markdown",
   "id": "36eef1cb",
   "metadata": {},
   "source": [
    "### Tuples for Protecting Data Integrity\n",
    "\n",
    "Because tuples are immutable, their content can’t be changed after declaration. This property makes tuples a suitable data type to ensure the integrity of data. Aníbal asked in the last class where you might use a tuple, or want to use a tuple. I gave the example of student records, but a more worldly example is trade data from the NYSE. Once the market closes, we wouldn't want that data manipulated, changed or altered in any way. The consquences could be dire.\n",
    "\n",
    "Write a function called \"stock_info\" that returns a tuple with a company's stock ticker, a date, an opening price, and volume. Look up the data for October 4, 2023 for Apple, Google, Microsoft,and AWS. Call the function with appropriate data for those companies and those dates, and save each to an Apple, Google, Microsoft and AWS variable. Print each\n",
    "\n",
    "Here is where you can find the data. For example here is Apple: (https://finance.yahoo.com/quote/AAPL/history/)\n",
    "\n"
   ]
  },
  {
   "cell_type": "code",
   "execution_count": 20,
   "id": "f1160d8f",
   "metadata": {},
   "outputs": [],
   "source": [
    "#Your code here:\n",
    "\n",
    "#create the function where you insert the company's name and then it outputs the company info in a tuple. If it doesn't have the info stored for that tuple, it tells you. \n",
    "def stock_info(company_name):\n",
    "    apple_info = (\"Ticker Symbol: AAPL\",\"Date: 10/4/2023\",\"Opening Price: 171.09\",\"Volume: 52,9963,300\")\n",
    "    google_info = (\"Ticker Symbol: GOOG\",\"Date: 10/4/2023\",\"Opening Price: 133.66\",\"Volume: 22,836,100\")\n",
    "    microsoft_info = (\"Ticker Symbol: MSFT\",\"Date: 10/4/2023\",\"Opening Price: 314.03\",\"Volume: 20,673,500\")\n",
    "    aws_info = (\"Ticker Symbol: AMZN\",\"Date: 10/4/2023\",\"Opening Price: 126.06\",\"Volume: 44,155,500\")\n",
    "    if company_name.lower() == \"Apple\":\n",
    "        print(apple_info)\n",
    "    elif company_name.lower() == \"google\":\n",
    "        print(google_info)\n",
    "    elif company_name.lower() == \"microsoft\":\n",
    "        print(microsoft_info)\n",
    "    elif company_name.lower() == \"aws\" or \"amazon\" or \"amazon web services\":\n",
    "        print(aws_info)\n",
    "    else:\n",
    "        print(\"I don't have information stored for that company\")"
   ]
  },
  {
   "cell_type": "code",
   "execution_count": 25,
   "id": "7c07dc09",
   "metadata": {},
   "outputs": [
    {
     "name": "stdout",
     "output_type": "stream",
     "text": [
      "('Ticker Symbol: AMZN', 'Date: 10/4/2023', 'Opening Price: 126.06', 'Volume: 44,155,500')\n",
      "('Ticker Symbol: GOOG', 'Date: 10/4/2023', 'Opening Price: 133.66', 'Volume: 22,836,100')\n",
      "('Ticker Symbol: AMZN', 'Date: 10/4/2023', 'Opening Price: 126.06', 'Volume: 44,155,500')\n",
      "('Ticker Symbol: MSFT', 'Date: 10/4/2023', 'Opening Price: 314.03', 'Volume: 20,673,500')\n"
     ]
    }
   ],
   "source": [
    "stock_info(\"Amazon\")\n",
    "stock_info(\"Google\")\n",
    "stock_info(\"Apple\")\n",
    "stock_info(\"Microsoft\")"
   ]
  },
  {
   "cell_type": "markdown",
   "id": "3e66aa3a",
   "metadata": {},
   "source": [
    "## For Loop\n",
    "Write a script that prompts the user for two words (two, one-word strings). Print all the unique letters that are common to both words, in alphabetical order, using for loops in your solution.\n",
    "\n",
    "For example:\n",
    "\n",
    "Enter one word: Home '\n",
    "\n",
    "Enter another word: meter\n",
    "\n",
    "Letters in common: em\n"
   ]
  },
  {
   "cell_type": "code",
   "execution_count": 33,
   "id": "46ebdf13",
   "metadata": {},
   "outputs": [
    {
     "name": "stdout",
     "output_type": "stream",
     "text": [
      "Enter one word: joseph\n",
      "Enter another word: jasen\n",
      "Letters in common: {'j', 's', 'e'}\n"
     ]
    }
   ],
   "source": [
    " #your code here:\n",
    "    \n",
    "#Get the first and second word input\n",
    "first_word = input(\"Enter one word: \")\n",
    "second_word = input(\"Enter another word: \")\n",
    "\n",
    "#Covert each word into a set so I can use an intersection command on it\n",
    "first_set = {each_letter for each_letter in first_word}\n",
    "second_set = {each_letter for each_letter in second_word}\n",
    "\n",
    "#Use an intersection command on the set to find common letters\n",
    "common_letters = first_set.intersection(second_set)\n",
    "print(f\"Letters in common: {common_letters}\")"
   ]
  },
  {
   "cell_type": "markdown",
   "id": "483eda0b",
   "metadata": {},
   "source": [
    "## For Loops to List Comprehensions\n",
    "Write the following FIRST as a for loop, then as a list comprehension"
   ]
  },
  {
   "cell_type": "markdown",
   "id": "3d3c9786",
   "metadata": {},
   "source": [
    " Extract all country names from the \"some_names\" list and append them to a list called \"country names\". I've provided a country list for you to use in your loop or comprehension.\n",
    "\n"
   ]
  },
  {
   "cell_type": "code",
   "execution_count": 51,
   "id": "d2f3dbb5",
   "metadata": {},
   "outputs": [],
   "source": [
    "country_list = ['Afghanistan', 'Aland Islands', 'Albania', 'Algeria', 'American Samoa', 'Andorra', 'Angola', 'Anguilla', 'Antarctica', 'Antigua and Barbuda', 'Argentina', 'Armenia', 'Aruba', 'Australia', 'Austria', 'Azerbaijan', 'Bahamas', 'Bahrain', 'Bangladesh', 'Barbados', 'Belarus', 'Belgium', 'Belize', 'Benin', 'Bermuda', 'Bhutan', 'Bolivia, Plurinational State of', 'Bonaire, Sint Eustatius and Saba', 'Bosnia and Herzegovina', 'Botswana', 'Bouvet Island', 'Brazil', 'British Indian Ocean Territory', 'Brunei Darussalam', 'Bulgaria', 'Burkina Faso', 'Burundi', 'Cambodia', 'Cameroon', 'Canada', 'Cape Verde', 'Cayman Islands', 'Central African Republic', 'Chad', 'Chile', 'China', 'Christmas Island', 'Cocos (Keeling) Islands', 'Colombia', 'Comoros', 'Congo', 'Congo, The Democratic Republic of the', 'Cook Islands', 'Costa Rica', \"Côte d'Ivoire\", 'Croatia', 'Cuba', 'Curaçao', 'Cyprus', 'Czech Republic', 'Denmark', 'Djibouti', 'Dominica', 'Dominican Republic', 'Ecuador', 'Egypt', 'El Salvador', 'Equatorial Guinea', 'Eritrea', 'Estonia', 'Ethiopia', 'Falkland Islands (Malvinas)', 'Faroe Islands', 'Fiji', 'Finland', 'France', 'French Guiana', 'French Polynesia', 'French Southern Territories', 'Gabon', 'Gambia', 'Georgia', 'Germany', 'Ghana', 'Gibraltar', 'Greece', 'Greenland', 'Grenada', 'Guadeloupe', 'Guam', 'Guatemala', 'Guernsey', 'Guinea', 'Guinea-Bissau', 'Guyana', 'Haiti', 'Heard Island and McDonald Islands', 'Holy See (Vatican City State)', 'Honduras', 'Hong Kong', 'Hungary', 'Iceland', 'India', 'Indonesia', 'Iran, Islamic Republic of', 'Iraq', 'Ireland', 'Isle of Man', 'Israel', 'Italy', 'Jamaica', 'Japan', 'Jersey', 'Jordan', 'Kazakhstan', 'Kenya', 'Kiribati', \"Korea, Democratic People's Republic of\", 'Korea, Republic of', 'Kuwait', 'Kyrgyzstan', \"Lao People's Democratic Republic\", 'Latvia', 'Lebanon', 'Lesotho', 'Liberia', 'Libya', 'Liechtenstein', 'Lithuania', 'Luxembourg', 'Macao', 'Macedonia, Republic of', 'Madagascar', 'Malawi', 'Malaysia', 'Maldives', 'Mali', 'Malta', 'Marshall Islands', 'Martinique', 'Mauritania', 'Mauritius', 'Mayotte', 'Mexico', 'Micronesia, Federated States of', 'Moldova, Republic of', 'Monaco', 'Mongolia', 'Montenegro', 'Montserrat', 'Morocco', 'Mozambique', 'Myanmar', 'Namibia', 'Nauru', 'Nepal', 'Netherlands', 'New Caledonia', 'New Zealand', 'Nicaragua', 'Niger', 'Nigeria', 'Niue', 'Norfolk Island', 'Northern Mariana Islands', 'Norway', 'Oman', 'Pakistan', 'Palau', 'Palestinian Territory, Occupied', 'Panama', 'Papua New Guinea', 'Paraguay', 'Peru', 'Philippines', 'Pitcairn', 'Poland', 'Portugal', 'Puerto Rico', 'Qatar', 'Réunion', 'Romania', 'Russian Federation', 'Rwanda', 'Saint Barthélemy', 'Saint Helena, Ascension and Tristan da Cunha', 'Saint Kitts and Nevis', 'Saint Lucia', 'Saint Martin (French part)', 'Saint Pierre and Miquelon', 'Saint Vincent and the Grenadines', 'Samoa', 'San Marino', 'Sao Tome and Principe', 'Saudi Arabia', 'Senegal', 'Serbia', 'Seychelles', 'Sierra Leone', 'Singapore', 'Sint Maarten (Dutch part)', 'Slovakia', 'Slovenia', 'Solomon Islands', 'Somalia', 'South Africa', 'South Georgia and the South Sandwich Islands', 'Spain', 'Sri Lanka', 'Sudan', 'Suriname', 'South Sudan', 'Svalbard and Jan Mayen', 'Swaziland', 'Sweden', 'Switzerland', 'Syrian Arab Republic', 'Taiwan, Province of China', 'Tajikistan', 'Tanzania, United Republic of', 'Thailand', 'Timor-Leste', 'Togo', 'Tokelau', 'Tonga', 'Trinidad and Tobago', 'Tunisia', 'Turkey', 'Turkmenistan', 'Turks and Caicos Islands', 'Tuvalu', 'Uganda', 'Ukraine', 'United Arab Emirates', 'United Kingdom', 'United States', 'United States Minor Outlying Islands', 'Uruguay', 'Uzbekistan', 'Vanuatu', 'Venezuela, Bolivarian Republic of', 'Viet Nam', 'Virgin Islands, British', 'Virgin Islands, U.S.', 'Wallis and Futuna', 'Yemen', 'Zambia', 'Zimbabwe']\n",
    "some_names =['Argentina', 'India', 'Alexlandia', 'Walidistan', \"The People's Republic of Steve\", 'The Federated States of Alejandro', 'Burundi', 'Cambodia','Jacobovakia', 'Chad', 'Chile']"
   ]
  },
  {
   "cell_type": "code",
   "execution_count": 37,
   "id": "d4b613f3",
   "metadata": {},
   "outputs": [
    {
     "name": "stdout",
     "output_type": "stream",
     "text": [
      "['Afghanistan', 'Aland Islands', 'Albania', 'Algeria', 'American Samoa', 'Andorra', 'Angola', 'Anguilla', 'Antarctica', 'Antigua and Barbuda', 'Argentina', 'Armenia', 'Aruba', 'Australia', 'Austria', 'Azerbaijan', 'Bahamas', 'Bahrain', 'Bangladesh', 'Barbados', 'Belarus', 'Belgium', 'Belize', 'Benin', 'Bermuda', 'Bhutan', 'Bolivia, Plurinational State of', 'Bonaire, Sint Eustatius and Saba', 'Bosnia and Herzegovina', 'Botswana', 'Bouvet Island', 'Brazil', 'British Indian Ocean Territory', 'Brunei Darussalam', 'Bulgaria', 'Burkina Faso', 'Burundi', 'Cambodia', 'Cameroon', 'Canada', 'Cape Verde', 'Cayman Islands', 'Central African Republic', 'Chad', 'Chile', 'China', 'Christmas Island', 'Cocos (Keeling) Islands', 'Colombia', 'Comoros', 'Congo', 'Congo, The Democratic Republic of the', 'Cook Islands', 'Costa Rica', \"Côte d'Ivoire\", 'Croatia', 'Cuba', 'Curaçao', 'Cyprus', 'Czech Republic', 'Denmark', 'Djibouti', 'Dominica', 'Dominican Republic', 'Ecuador', 'Egypt', 'El Salvador', 'Equatorial Guinea', 'Eritrea', 'Estonia', 'Ethiopia', 'Falkland Islands (Malvinas)', 'Faroe Islands', 'Fiji', 'Finland', 'France', 'French Guiana', 'French Polynesia', 'French Southern Territories', 'Gabon', 'Gambia', 'Georgia', 'Germany', 'Ghana', 'Gibraltar', 'Greece', 'Greenland', 'Grenada', 'Guadeloupe', 'Guam', 'Guatemala', 'Guernsey', 'Guinea', 'Guinea-Bissau', 'Guyana', 'Haiti', 'Heard Island and McDonald Islands', 'Holy See (Vatican City State)', 'Honduras', 'Hong Kong', 'Hungary', 'Iceland', 'India', 'Indonesia', 'Iran, Islamic Republic of', 'Iraq', 'Ireland', 'Isle of Man', 'Israel', 'Italy', 'Jamaica', 'Japan', 'Jersey', 'Jordan', 'Kazakhstan', 'Kenya', 'Kiribati', \"Korea, Democratic People's Republic of\", 'Korea, Republic of', 'Kuwait', 'Kyrgyzstan', \"Lao People's Democratic Republic\", 'Latvia', 'Lebanon', 'Lesotho', 'Liberia', 'Libya', 'Liechtenstein', 'Lithuania', 'Luxembourg', 'Macao', 'Macedonia, Republic of', 'Madagascar', 'Malawi', 'Malaysia', 'Maldives', 'Mali', 'Malta', 'Marshall Islands', 'Martinique', 'Mauritania', 'Mauritius', 'Mayotte', 'Mexico', 'Micronesia, Federated States of', 'Moldova, Republic of', 'Monaco', 'Mongolia', 'Montenegro', 'Montserrat', 'Morocco', 'Mozambique', 'Myanmar', 'Namibia', 'Nauru', 'Nepal', 'Netherlands', 'New Caledonia', 'New Zealand', 'Nicaragua', 'Niger', 'Nigeria', 'Niue', 'Norfolk Island', 'Northern Mariana Islands', 'Norway', 'Oman', 'Pakistan', 'Palau', 'Palestinian Territory, Occupied', 'Panama', 'Papua New Guinea', 'Paraguay', 'Peru', 'Philippines', 'Pitcairn', 'Poland', 'Portugal', 'Puerto Rico', 'Qatar', 'Réunion', 'Romania', 'Russian Federation', 'Rwanda', 'Saint Barthélemy', 'Saint Helena, Ascension and Tristan da Cunha', 'Saint Kitts and Nevis', 'Saint Lucia', 'Saint Martin (French part)', 'Saint Pierre and Miquelon', 'Saint Vincent and the Grenadines', 'Samoa', 'San Marino', 'Sao Tome and Principe', 'Saudi Arabia', 'Senegal', 'Serbia', 'Seychelles', 'Sierra Leone', 'Singapore', 'Sint Maarten (Dutch part)', 'Slovakia', 'Slovenia', 'Solomon Islands', 'Somalia', 'South Africa', 'South Georgia and the South Sandwich Islands', 'Spain', 'Sri Lanka', 'Sudan', 'Suriname', 'South Sudan', 'Svalbard and Jan Mayen', 'Swaziland', 'Sweden', 'Switzerland', 'Syrian Arab Republic', 'Taiwan, Province of China', 'Tajikistan', 'Tanzania, United Republic of', 'Thailand', 'Timor-Leste', 'Togo', 'Tokelau', 'Tonga', 'Trinidad and Tobago', 'Tunisia', 'Turkey', 'Turkmenistan', 'Turks and Caicos Islands', 'Tuvalu', 'Uganda', 'Ukraine', 'United Arab Emirates', 'United Kingdom', 'United States', 'United States Minor Outlying Islands', 'Uruguay', 'Uzbekistan', 'Vanuatu', 'Venezuela, Bolivarian Republic of', 'Viet Nam', 'Virgin Islands, British', 'Virgin Islands, U.S.', 'Wallis and Futuna', 'Yemen', 'Zambia', 'Zimbabwe', 'Argentina', 'India', 'Burundi', 'Cambodia', 'Chad', 'Chile']\n"
     ]
    }
   ],
   "source": [
    "#For loop here:\n",
    "for each_name in some_names:\n",
    "    #Check if the name is a country\n",
    "    if each_name in [\"Argentina\", \"India\", \"Burundi\", \"Cambodia\", \"Chad\", \"Chile\"]:\n",
    "        #Append the name to the list if it IS a country\n",
    "        country_list.append(each_name)\n",
    "    else:\n",
    "        pass\n",
    "print(country_list)"
   ]
  },
  {
   "cell_type": "code",
   "execution_count": 52,
   "id": "f11217be",
   "metadata": {},
   "outputs": [
    {
     "name": "stdout",
     "output_type": "stream",
     "text": [
      "['Afghanistan', 'Aland Islands', 'Albania', 'Algeria', 'American Samoa', 'Andorra', 'Angola', 'Anguilla', 'Antarctica', 'Antigua and Barbuda', 'Argentina', 'Armenia', 'Aruba', 'Australia', 'Austria', 'Azerbaijan', 'Bahamas', 'Bahrain', 'Bangladesh', 'Barbados', 'Belarus', 'Belgium', 'Belize', 'Benin', 'Bermuda', 'Bhutan', 'Bolivia, Plurinational State of', 'Bonaire, Sint Eustatius and Saba', 'Bosnia and Herzegovina', 'Botswana', 'Bouvet Island', 'Brazil', 'British Indian Ocean Territory', 'Brunei Darussalam', 'Bulgaria', 'Burkina Faso', 'Burundi', 'Cambodia', 'Cameroon', 'Canada', 'Cape Verde', 'Cayman Islands', 'Central African Republic', 'Chad', 'Chile', 'China', 'Christmas Island', 'Cocos (Keeling) Islands', 'Colombia', 'Comoros', 'Congo', 'Congo, The Democratic Republic of the', 'Cook Islands', 'Costa Rica', \"Côte d'Ivoire\", 'Croatia', 'Cuba', 'Curaçao', 'Cyprus', 'Czech Republic', 'Denmark', 'Djibouti', 'Dominica', 'Dominican Republic', 'Ecuador', 'Egypt', 'El Salvador', 'Equatorial Guinea', 'Eritrea', 'Estonia', 'Ethiopia', 'Falkland Islands (Malvinas)', 'Faroe Islands', 'Fiji', 'Finland', 'France', 'French Guiana', 'French Polynesia', 'French Southern Territories', 'Gabon', 'Gambia', 'Georgia', 'Germany', 'Ghana', 'Gibraltar', 'Greece', 'Greenland', 'Grenada', 'Guadeloupe', 'Guam', 'Guatemala', 'Guernsey', 'Guinea', 'Guinea-Bissau', 'Guyana', 'Haiti', 'Heard Island and McDonald Islands', 'Holy See (Vatican City State)', 'Honduras', 'Hong Kong', 'Hungary', 'Iceland', 'India', 'Indonesia', 'Iran, Islamic Republic of', 'Iraq', 'Ireland', 'Isle of Man', 'Israel', 'Italy', 'Jamaica', 'Japan', 'Jersey', 'Jordan', 'Kazakhstan', 'Kenya', 'Kiribati', \"Korea, Democratic People's Republic of\", 'Korea, Republic of', 'Kuwait', 'Kyrgyzstan', \"Lao People's Democratic Republic\", 'Latvia', 'Lebanon', 'Lesotho', 'Liberia', 'Libya', 'Liechtenstein', 'Lithuania', 'Luxembourg', 'Macao', 'Macedonia, Republic of', 'Madagascar', 'Malawi', 'Malaysia', 'Maldives', 'Mali', 'Malta', 'Marshall Islands', 'Martinique', 'Mauritania', 'Mauritius', 'Mayotte', 'Mexico', 'Micronesia, Federated States of', 'Moldova, Republic of', 'Monaco', 'Mongolia', 'Montenegro', 'Montserrat', 'Morocco', 'Mozambique', 'Myanmar', 'Namibia', 'Nauru', 'Nepal', 'Netherlands', 'New Caledonia', 'New Zealand', 'Nicaragua', 'Niger', 'Nigeria', 'Niue', 'Norfolk Island', 'Northern Mariana Islands', 'Norway', 'Oman', 'Pakistan', 'Palau', 'Palestinian Territory, Occupied', 'Panama', 'Papua New Guinea', 'Paraguay', 'Peru', 'Philippines', 'Pitcairn', 'Poland', 'Portugal', 'Puerto Rico', 'Qatar', 'Réunion', 'Romania', 'Russian Federation', 'Rwanda', 'Saint Barthélemy', 'Saint Helena, Ascension and Tristan da Cunha', 'Saint Kitts and Nevis', 'Saint Lucia', 'Saint Martin (French part)', 'Saint Pierre and Miquelon', 'Saint Vincent and the Grenadines', 'Samoa', 'San Marino', 'Sao Tome and Principe', 'Saudi Arabia', 'Senegal', 'Serbia', 'Seychelles', 'Sierra Leone', 'Singapore', 'Sint Maarten (Dutch part)', 'Slovakia', 'Slovenia', 'Solomon Islands', 'Somalia', 'South Africa', 'South Georgia and the South Sandwich Islands', 'Spain', 'Sri Lanka', 'Sudan', 'Suriname', 'South Sudan', 'Svalbard and Jan Mayen', 'Swaziland', 'Sweden', 'Switzerland', 'Syrian Arab Republic', 'Taiwan, Province of China', 'Tajikistan', 'Tanzania, United Republic of', 'Thailand', 'Timor-Leste', 'Togo', 'Tokelau', 'Tonga', 'Trinidad and Tobago', 'Tunisia', 'Turkey', 'Turkmenistan', 'Turks and Caicos Islands', 'Tuvalu', 'Uganda', 'Ukraine', 'United Arab Emirates', 'United Kingdom', 'United States', 'United States Minor Outlying Islands', 'Uruguay', 'Uzbekistan', 'Vanuatu', 'Venezuela, Bolivarian Republic of', 'Viet Nam', 'Virgin Islands, British', 'Virgin Islands, U.S.', 'Wallis and Futuna', 'Yemen', 'Zambia', 'Zimbabwe', 'Argentina', 'India', 'Burundi', 'Cambodia', 'Chad', 'Chile']\n"
     ]
    }
   ],
   "source": [
    "#List comprehension here:\n",
    "country_list.extend([each_name for each_name in some_names if each_name in [\"Argentina\", \"India\", \"Burundi\", \"Cambodia\", \"Chad\", \"Chile\"]])\n",
    "print(country_list)"
   ]
  },
  {
   "cell_type": "markdown",
   "id": "57353ac4",
   "metadata": {},
   "source": [
    "Extract countries with names longer than 6 characters and append them to a list called \"longer than 6\""
   ]
  },
  {
   "cell_type": "code",
   "execution_count": 53,
   "id": "09dcae19",
   "metadata": {},
   "outputs": [
    {
     "name": "stdout",
     "output_type": "stream",
     "text": [
      "['Afghanistan', 'Aland Islands', 'Albania', 'Algeria', 'American Samoa', 'Andorra', 'Anguilla', 'Antarctica', 'Antigua and Barbuda', 'Argentina', 'Armenia', 'Australia', 'Austria', 'Azerbaijan', 'Bahamas', 'Bahrain', 'Bangladesh', 'Barbados', 'Belarus', 'Belgium', 'Bermuda', 'Bolivia, Plurinational State of', 'Bonaire, Sint Eustatius and Saba', 'Bosnia and Herzegovina', 'Botswana', 'Bouvet Island', 'British Indian Ocean Territory', 'Brunei Darussalam', 'Bulgaria', 'Burkina Faso', 'Burundi', 'Cambodia', 'Cameroon', 'Cape Verde', 'Cayman Islands', 'Central African Republic', 'Christmas Island', 'Cocos (Keeling) Islands', 'Colombia', 'Comoros', 'Congo, The Democratic Republic of the', 'Cook Islands', 'Costa Rica', \"Côte d'Ivoire\", 'Croatia', 'Curaçao', 'Czech Republic', 'Denmark', 'Djibouti', 'Dominica', 'Dominican Republic', 'Ecuador', 'El Salvador', 'Equatorial Guinea', 'Eritrea', 'Estonia', 'Ethiopia', 'Falkland Islands (Malvinas)', 'Faroe Islands', 'Finland', 'French Guiana', 'French Polynesia', 'French Southern Territories', 'Georgia', 'Germany', 'Gibraltar', 'Greenland', 'Grenada', 'Guadeloupe', 'Guatemala', 'Guernsey', 'Guinea-Bissau', 'Heard Island and McDonald Islands', 'Holy See (Vatican City State)', 'Honduras', 'Hong Kong', 'Hungary', 'Iceland', 'Indonesia', 'Iran, Islamic Republic of', 'Ireland', 'Isle of Man', 'Jamaica', 'Kazakhstan', 'Kiribati', \"Korea, Democratic People's Republic of\", 'Korea, Republic of', 'Kyrgyzstan', \"Lao People's Democratic Republic\", 'Lebanon', 'Lesotho', 'Liberia', 'Liechtenstein', 'Lithuania', 'Luxembourg', 'Macedonia, Republic of', 'Madagascar', 'Malaysia', 'Maldives', 'Marshall Islands', 'Martinique', 'Mauritania', 'Mauritius', 'Mayotte', 'Micronesia, Federated States of', 'Moldova, Republic of', 'Mongolia', 'Montenegro', 'Montserrat', 'Morocco', 'Mozambique', 'Myanmar', 'Namibia', 'Netherlands', 'New Caledonia', 'New Zealand', 'Nicaragua', 'Nigeria', 'Norfolk Island', 'Northern Mariana Islands', 'Pakistan', 'Palestinian Territory, Occupied', 'Papua New Guinea', 'Paraguay', 'Philippines', 'Pitcairn', 'Portugal', 'Puerto Rico', 'Réunion', 'Romania', 'Russian Federation', 'Saint Barthélemy', 'Saint Helena, Ascension and Tristan da Cunha', 'Saint Kitts and Nevis', 'Saint Lucia', 'Saint Martin (French part)', 'Saint Pierre and Miquelon', 'Saint Vincent and the Grenadines', 'San Marino', 'Sao Tome and Principe', 'Saudi Arabia', 'Senegal', 'Seychelles', 'Sierra Leone', 'Singapore', 'Sint Maarten (Dutch part)', 'Slovakia', 'Slovenia', 'Solomon Islands', 'Somalia', 'South Africa', 'South Georgia and the South Sandwich Islands', 'Sri Lanka', 'Suriname', 'South Sudan', 'Svalbard and Jan Mayen', 'Swaziland', 'Switzerland', 'Syrian Arab Republic', 'Taiwan, Province of China', 'Tajikistan', 'Tanzania, United Republic of', 'Thailand', 'Timor-Leste', 'Tokelau', 'Trinidad and Tobago', 'Tunisia', 'Turkmenistan', 'Turks and Caicos Islands', 'Ukraine', 'United Arab Emirates', 'United Kingdom', 'United States', 'United States Minor Outlying Islands', 'Uruguay', 'Uzbekistan', 'Vanuatu', 'Venezuela, Bolivarian Republic of', 'Viet Nam', 'Virgin Islands, British', 'Virgin Islands, U.S.', 'Wallis and Futuna', 'Zimbabwe', 'Argentina', 'Burundi', 'Cambodia']\n"
     ]
    }
   ],
   "source": [
    " #for loop here:\n",
    "    \n",
    "#this cyles through all of the countries in the list and appends them to the longer than 6 list if it is longer than 6 characters\n",
    "longer_than_6 = []\n",
    "for country in country_list:\n",
    "    if len(country) > 6:\n",
    "        longer_than_6.append(country)\n",
    "    else:\n",
    "        pass\n",
    "print(longer_than_6)"
   ]
  },
  {
   "cell_type": "code",
   "execution_count": 55,
   "id": "de6650d3",
   "metadata": {},
   "outputs": [
    {
     "name": "stdout",
     "output_type": "stream",
     "text": [
      "['Afghanistan', 'Aland Islands', 'Albania', 'Algeria', 'American Samoa', 'Andorra', 'Anguilla', 'Antarctica', 'Antigua and Barbuda', 'Argentina', 'Armenia', 'Australia', 'Austria', 'Azerbaijan', 'Bahamas', 'Bahrain', 'Bangladesh', 'Barbados', 'Belarus', 'Belgium', 'Bermuda', 'Bolivia, Plurinational State of', 'Bonaire, Sint Eustatius and Saba', 'Bosnia and Herzegovina', 'Botswana', 'Bouvet Island', 'British Indian Ocean Territory', 'Brunei Darussalam', 'Bulgaria', 'Burkina Faso', 'Burundi', 'Cambodia', 'Cameroon', 'Cape Verde', 'Cayman Islands', 'Central African Republic', 'Christmas Island', 'Cocos (Keeling) Islands', 'Colombia', 'Comoros', 'Congo, The Democratic Republic of the', 'Cook Islands', 'Costa Rica', \"Côte d'Ivoire\", 'Croatia', 'Curaçao', 'Czech Republic', 'Denmark', 'Djibouti', 'Dominica', 'Dominican Republic', 'Ecuador', 'El Salvador', 'Equatorial Guinea', 'Eritrea', 'Estonia', 'Ethiopia', 'Falkland Islands (Malvinas)', 'Faroe Islands', 'Finland', 'French Guiana', 'French Polynesia', 'French Southern Territories', 'Georgia', 'Germany', 'Gibraltar', 'Greenland', 'Grenada', 'Guadeloupe', 'Guatemala', 'Guernsey', 'Guinea-Bissau', 'Heard Island and McDonald Islands', 'Holy See (Vatican City State)', 'Honduras', 'Hong Kong', 'Hungary', 'Iceland', 'Indonesia', 'Iran, Islamic Republic of', 'Ireland', 'Isle of Man', 'Jamaica', 'Kazakhstan', 'Kiribati', \"Korea, Democratic People's Republic of\", 'Korea, Republic of', 'Kyrgyzstan', \"Lao People's Democratic Republic\", 'Lebanon', 'Lesotho', 'Liberia', 'Liechtenstein', 'Lithuania', 'Luxembourg', 'Macedonia, Republic of', 'Madagascar', 'Malaysia', 'Maldives', 'Marshall Islands', 'Martinique', 'Mauritania', 'Mauritius', 'Mayotte', 'Micronesia, Federated States of', 'Moldova, Republic of', 'Mongolia', 'Montenegro', 'Montserrat', 'Morocco', 'Mozambique', 'Myanmar', 'Namibia', 'Netherlands', 'New Caledonia', 'New Zealand', 'Nicaragua', 'Nigeria', 'Norfolk Island', 'Northern Mariana Islands', 'Pakistan', 'Palestinian Territory, Occupied', 'Papua New Guinea', 'Paraguay', 'Philippines', 'Pitcairn', 'Portugal', 'Puerto Rico', 'Réunion', 'Romania', 'Russian Federation', 'Saint Barthélemy', 'Saint Helena, Ascension and Tristan da Cunha', 'Saint Kitts and Nevis', 'Saint Lucia', 'Saint Martin (French part)', 'Saint Pierre and Miquelon', 'Saint Vincent and the Grenadines', 'San Marino', 'Sao Tome and Principe', 'Saudi Arabia', 'Senegal', 'Seychelles', 'Sierra Leone', 'Singapore', 'Sint Maarten (Dutch part)', 'Slovakia', 'Slovenia', 'Solomon Islands', 'Somalia', 'South Africa', 'South Georgia and the South Sandwich Islands', 'Sri Lanka', 'Suriname', 'South Sudan', 'Svalbard and Jan Mayen', 'Swaziland', 'Switzerland', 'Syrian Arab Republic', 'Taiwan, Province of China', 'Tajikistan', 'Tanzania, United Republic of', 'Thailand', 'Timor-Leste', 'Tokelau', 'Trinidad and Tobago', 'Tunisia', 'Turkmenistan', 'Turks and Caicos Islands', 'Ukraine', 'United Arab Emirates', 'United Kingdom', 'United States', 'United States Minor Outlying Islands', 'Uruguay', 'Uzbekistan', 'Vanuatu', 'Venezuela, Bolivarian Republic of', 'Viet Nam', 'Virgin Islands, British', 'Virgin Islands, U.S.', 'Wallis and Futuna', 'Zimbabwe', 'Argentina', 'Burundi', 'Cambodia']\n"
     ]
    }
   ],
   "source": [
    " #list comprehension here:\n",
    "\n",
    "longer_than_6 = []\n",
    "longer_than_6.extend([country for country in country_list if len(country) > 6])\n",
    "print(longer_than_6)"
   ]
  },
  {
   "cell_type": "markdown",
   "id": "6397f8fe",
   "metadata": {},
   "source": [
    "## Dictionaries\n",
    "\n",
    "Create a Python dictionary named world_population that contains the following key-value pairs, where keys represent country names and values represent their respective populations.\n",
    "\n",
    "China: 1.41 billion\n",
    "India: 1.34 billion\n",
    "United States: 331 million\n",
    "Indonesia: 276 million\n",
    "Pakistan: 225 million"
   ]
  },
  {
   "cell_type": "code",
   "execution_count": 58,
   "id": "fb797754",
   "metadata": {},
   "outputs": [
    {
     "name": "stdout",
     "output_type": "stream",
     "text": [
      "{'China': 1410000000, 'India': 1340000000, 'United States': 331000000, 'Indonesia': 276000000, 'Pakistan': 225000000}\n"
     ]
    }
   ],
   "source": [
    "#Your code here:\n",
    "world_population = {\"China\":1410000000, \"India\":1340000000, \"United States\":331000000, \"Indonesia\":276000000,\"Pakistan\":225000000}\n",
    "print(world_population)"
   ]
  },
  {
   "cell_type": "markdown",
   "id": "84251198",
   "metadata": {},
   "source": [
    "\n",
    "Write a Python program that allows a user to input a country name and then displays the population of that country. Be sure to include error handling for cases where the entered country is not in your world_population dictionary.\n"
   ]
  },
  {
   "cell_type": "code",
   "execution_count": 63,
   "id": "ab68ded0",
   "metadata": {},
   "outputs": [
    {
     "name": "stdout",
     "output_type": "stream",
     "text": [
      "331,000,000\n"
     ]
    }
   ],
   "source": [
    "#Your code here:\n",
    "\n",
    "def population_check(country_name):\n",
    "    #puts commas so the number is formatted well\n",
    "    print('{:,}'.format(world_population[country_name]))\n",
    "\n",
    "population_check(\"United States\")"
   ]
  },
  {
   "cell_type": "markdown",
   "id": "a5ac5c59",
   "metadata": {},
   "source": [
    "Update the world_population dictionary to reflect the following changes:\n",
    "\n",
    "Add Brazil with a population of 213 million.\n",
    "Update China's population to 1.40 billion.\n",
    "Remove Pakistan from the dictionary.\n",
    "Write a Python program to perform these updates and display the updated dictionary."
   ]
  },
  {
   "cell_type": "code",
   "execution_count": 66,
   "id": "93cb8b21",
   "metadata": {},
   "outputs": [
    {
     "name": "stdout",
     "output_type": "stream",
     "text": [
      "{'China': 1400000000, 'India': 1340000000, 'United States': 331000000, 'Indonesia': 276000000, 'Pakistan': 225000000, 'Brazil': 213000000}\n"
     ]
    }
   ],
   "source": [
    "#Your code here:\n",
    "\n",
    "#Add Brazil\n",
    "world_population.update({\"Brazil\":213000000})\n",
    "\n",
    "#Update China's value\n",
    "world_population[\"China\"] = 1400000000\n",
    "print(world_population)"
   ]
  },
  {
   "cell_type": "markdown",
   "id": "5b6daeeb",
   "metadata": {},
   "source": [
    "Write a Python program that:\n",
    "\n",
    "Displays the country with the largest population.\n",
    "Displays the country with the smallest population.\n",
    "Calculates and displays the average population of the countries in the world_population dictionary."
   ]
  },
  {
   "cell_type": "code",
   "execution_count": null,
   "id": "c4a78252",
   "metadata": {},
   "outputs": [],
   "source": [
    " #Your code here:\n"
   ]
  },
  {
   "cell_type": "markdown",
   "id": "3ecca8e3",
   "metadata": {},
   "source": [
    "Use the .keys() method to return a view object that displays a list of all the keys in the dictionary."
   ]
  },
  {
   "cell_type": "code",
   "execution_count": null,
   "id": "9c06eee2",
   "metadata": {},
   "outputs": [],
   "source": [
    "#Your code here:\n"
   ]
  },
  {
   "cell_type": "markdown",
   "id": "a03dbfb4",
   "metadata": {},
   "source": [
    "Use the .values() method to return a view object that displays a list of all the values in the dictionary."
   ]
  },
  {
   "cell_type": "code",
   "execution_count": null,
   "id": "b1cf262d",
   "metadata": {},
   "outputs": [],
   "source": [
    "#Your code here:"
   ]
  },
  {
   "cell_type": "markdown",
   "id": "f781c4bb",
   "metadata": {},
   "source": [
    "Use the .items() method to return key, value pairs in a print statement that states \"The population of the {country} is the {population} With the appropriate countries and populations for each."
   ]
  },
  {
   "cell_type": "code",
   "execution_count": null,
   "id": "21da1d22",
   "metadata": {},
   "outputs": [],
   "source": [
    "#Your code here:"
   ]
  },
  {
   "cell_type": "markdown",
   "id": "dd8a00d0",
   "metadata": {},
   "source": [
    "Given the following nested dictionary below, write code to print the author's name. \n"
   ]
  },
  {
   "cell_type": "code",
   "execution_count": null,
   "id": "7a91adfd",
   "metadata": {},
   "outputs": [],
   "source": [
    "\n",
    "book = {\n",
    "    'title': 'To Kill a Mockingbird',\n",
    "    'author': {\n",
    "        'name': 'Harper Lee',\n",
    "        'birth_year': 1926\n",
    "    },\n",
    "    'published_year': 1960\n",
    "}\n",
    "\n",
    "#Your code here:\n",
    "\n"
   ]
  }
 ],
 "metadata": {
  "kernelspec": {
   "display_name": "Python 3 (ipykernel)",
   "language": "python",
   "name": "python3"
  },
  "language_info": {
   "codemirror_mode": {
    "name": "ipython",
    "version": 3
   },
   "file_extension": ".py",
   "mimetype": "text/x-python",
   "name": "python",
   "nbconvert_exporter": "python",
   "pygments_lexer": "ipython3",
   "version": "3.11.4"
  }
 },
 "nbformat": 4,
 "nbformat_minor": 5
}
