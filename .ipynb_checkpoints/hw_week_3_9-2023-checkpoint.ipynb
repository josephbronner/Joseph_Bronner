{
 "cells": [
  {
   "cell_type": "markdown",
   "id": "e9e0ba81",
   "metadata": {},
   "source": [
    "# GLBL 5050 Homework 3"
   ]
  },
  {
   "cell_type": "markdown",
   "id": "9380bb1c",
   "metadata": {},
   "source": [
    "### 1.0 Putting the fun in functions:\n",
    "Please write the following functions, call the function to show me that it works! \n",
    "Please use \"return\" rather than \"print\"\n",
    "Don't forget doc strings! \n",
    "\n",
    "These problem focus on getting you to understand how to design functions and use conditions to solve problems.\n"
   ]
  },
  {
   "cell_type": "markdown",
   "id": "c9d87b25",
   "metadata": {},
   "source": [
    "1.1 **Function for Currency Conversion:**\n",
    "Write a function that converts an amount from USD to EUR. Use a fixed conversion rate."
   ]
  },
  {
   "cell_type": "code",
   "execution_count": 6,
   "id": "4022e735",
   "metadata": {},
   "outputs": [],
   "source": [
    "#Your code here\n",
    "def currency(USD):\n",
    "    EUR = round(USD /0.94,2)\n",
    "    print(f\"This is worth €{EUR}\")"
   ]
  },
  {
   "cell_type": "code",
   "execution_count": 7,
   "id": "a5803feb",
   "metadata": {},
   "outputs": [
    {
     "name": "stdout",
     "output_type": "stream",
     "text": [
      "This is worth €2.13\n"
     ]
    }
   ],
   "source": [
    "#Your example here (call the function, show me it works):\n",
    "currency(2)"
   ]
  },
  {
   "cell_type": "markdown",
   "id": "a9d8f34b",
   "metadata": {},
   "source": [
    "1.2 **Calculate Carbon Footprint:**\n",
    "Given the number of miles a person travels by car and plane, write a function to calculate their carbon footprint. Use average values like 0.2kg CO2 per mile for cars and 0.15kg CO2 per mile for planes.\n"
   ]
  },
  {
   "cell_type": "code",
   "execution_count": 14,
   "id": "aec5a7d1",
   "metadata": {},
   "outputs": [],
   "source": [
    "#Your code here:\n",
    "def footprint(car_miles,plane_miles):\n",
    "    car_cost = car_miles * 0.2\n",
    "    plane_cost = plane_miles * 0.15\n",
    "    carbon = round(car_cost + plane_cost,3)\n",
    "    print(f\"Your carbon footprint is {carbon} CO2.\")"
   ]
  },
  {
   "cell_type": "code",
   "execution_count": 15,
   "id": "1f6945eb",
   "metadata": {},
   "outputs": [
    {
     "name": "stdout",
     "output_type": "stream",
     "text": [
      "Your carbon footprint is 0.9 CO2.\n"
     ]
    }
   ],
   "source": [
    "#Your example here (call the function, show me it works):\n",
    "footprint(3,2)"
   ]
  },
  {
   "cell_type": "markdown",
   "id": "189e2e32",
   "metadata": {},
   "source": [
    "1.3 **Check if a Country is in the G7:**\n",
    "Given the name of a country, check if it's one of the G7 countries (USA, Canada, France, Germany, Italy, Japan, United Kingdom) using if, elif, and else."
   ]
  },
  {
   "cell_type": "code",
   "execution_count": 22,
   "id": "2914b41d",
   "metadata": {},
   "outputs": [],
   "source": [
    "#Your code here:\n",
    "def countryIsG7(country):\n",
    "    if country in (\"USA\", \"Canada\", \"France\", \"Germany\", \"Italy\", \"Japan\", \"United Kingdom\"):\n",
    "            isG7 = \"is\"\n",
    "    else:\n",
    "            isG7 = \"is not\"\n",
    "    print(f\"Your country {isG7} one of the G7 countries.\")"
   ]
  },
  {
   "cell_type": "code",
   "execution_count": 23,
   "id": "49edd370",
   "metadata": {},
   "outputs": [
    {
     "name": "stdout",
     "output_type": "stream",
     "text": [
      "Your country is one of the G7 countries.\n"
     ]
    }
   ],
   "source": [
    "#Your example here (call the function, show me it works)\n",
    "countryIsG7(\"USA\")\n"
   ]
  },
  {
   "cell_type": "markdown",
   "id": "e8fb25ad",
   "metadata": {},
   "source": [
    "1.4 **Determine Continent by Country:**\n",
    "Given the name of a country, return the continent it's located in. For simplicity, let's just consider 5 countries: USA (North America), Brazil (South America), France (Europe), Nigeria (Africa), China (Asia)."
   ]
  },
  {
   "cell_type": "code",
   "execution_count": 39,
   "id": "eeaa0f57",
   "metadata": {},
   "outputs": [],
   "source": [
    "#Your code here:\n",
    "def which_continent(country):\n",
    "    if country in (\"Canada\", \"United States\", \"Mexico\", \"Guatemala\", \"Belize\", \"El Salvador\", \"Honduras\", \"Costa Rica\", \"Nicaragua\", \"Panama\", \"Bahamas\", \"Cuba\", \"Jamaica\", \"Haiti\", \"Dominican Republic\", \"Dominica\", \"Saint Kitts and Nevis\", \"Saint Vincent and the Grenadines\", \"Saint Lucia\", \"Barbados\", \"Grenada\", \"Trinidad and Tobago\"):\n",
    "        continent = \"North America\"\n",
    "    elif country in (\"Argentina\", \"Bolivia\", \"Brazil\", \"Chile\", \"Colombia\", \"Ecuador\", \"Guyana\", \"Paraguay\", \"Peru\", \"Suriname\", \"Uruguay\", \"Venezuela\"):\n",
    "        continent = \"South America\"\n",
    "    elif country in (\"Albania\", \"Andorra\", \"Austria\", \"Belarus\", \"Belgium\", \"Bosnia and Herzegovina\", \"Bulgaria\", \"Croatia\", \"Cyprus\", \"Czech Republic\", \"Denmark\", \"Estonia\", \"Finland\", \"France\", \"Germany\", \"Greece\", \"Hungary\", \"Iceland\", \"Ireland\", \"Italy\", \"Kosovo\", \"Latvia\", \"Liechtenstein\", \"Lithuania\", \"Luxembourg\", \"Malta\", \"Moldova\", \"Monaco\", \"Montenegro\", \"Netherlands\", \"North Macedonia\", \"Norway\", \"Poland\", \"Portugal\", \"Romania\", \"Russia\", \"San Marino\", \"Serbia\", \"Slovakia\", \"Slovenia\", \"Spain\", \"Sweden\", \"Switzerland\", \"Ukraine\", \"United Kingdom\", \"Vatican City\"):\n",
    "        continent = \"Europe\"\n",
    "    elif country in (\"Algeria\", \"Angola\", \"Benin\", \"Botswana\", \"Burkina Faso\", \"Burundi\", \"Cabo Verde\", \"Cameroon\", \"Central African Republic\", \"Chad\", \"Comoros\", \"Congo (Brazzaville)\", \"Congo (Kinshasa)\", \"Cote d'Ivoire\", \"Djibouti\", \"Egypt\", \"Equatorial Guinea\", \"Eritrea\", \"Eswatini\", \"Ethiopia\", \"Gabon\", \"Gambia\", \"Ghana\", \"Guinea\", \"Guinea-Bissau\", \"Kenya\", \"Lesotho\", \"Liberia\", \"Libya\", \"Madagascar\", \"Malawi\", \"Mali\", \"Mauritania\", \"Mauritius\", \"Morocco\", \"Mozambique\", \"Namibia\", \"Niger\", \"Nigeria\", \"Rwanda\", \"Sao Tome and Principe\", \"Senegal\", \"Seychelles\", \"Sierra Leone\", \"Somalia\", \"South Africa\", \"South Sudan\", \"Sudan\", \"Tanzania\", \"Togo\", \"Tunisia\", \"Uganda\", \"Zambia\", \"Zimbabwe\"):\n",
    "        continent = \"Africa\"\n",
    "    elif country in (\"Afghanistan\", \"Armenia\", \"Azerbaijan\", \"Bahrain\", \"Bangladesh\", \"Bhutan\", \"Brunei\", \"Cambodia\", \"China\", \"Cyprus\", \"Georgia\", \"India\", \"Indonesia\", \"Iran\", \"Iraq\", \"Israel\", \"Japan\", \"Jordan\", \"Kazakhstan\", \"Kuwait\", \"Kyrgyzstan\", \"Laos\", \"Lebanon\", \"Malaysia\", \"Maldives\", \"Mongolia\", \"Myanmar (Burma)\", \"Nepal\", \"North Korea\", \"Oman\", \"Pakistan\", \"Palestine\", \"Philippines\", \"Qatar\", \"Saudi Arabia\", \"Singapore\", \"South Korea\", \"Sri Lanka\", \"Syria\", \"Tajikistan\", \"Thailand\", \"Timor-Leste\", \"Turkey\", \"Turkmenistan\", \"United Arab Emirates\", \"Uzbekistan\", \"Vietnam\", \"Yemen\"):\n",
    "        continent = \"Asia\"\n",
    "    else:\n",
    "        continent = \"a place I'm unfamiliar with\"\n",
    "    print(f\"The country you've typed is in {continent}.\")"
   ]
  },
  {
   "cell_type": "code",
   "execution_count": 40,
   "id": "ce972d94",
   "metadata": {},
   "outputs": [
    {
     "name": "stdout",
     "output_type": "stream",
     "text": [
      "The country you've typed is in North America.\n",
      "The country you've typed is in Africa.\n",
      "The country you've typed is in a place I'm unfamiliar with.\n"
     ]
    }
   ],
   "source": [
    "#Your example here (call the function, show me it works):\n",
    "which_continent(\"Canada\")\n",
    "which_continent(\"Algeria\")\n",
    "which_continent(\"Who Ville\")"
   ]
  },
  {
   "cell_type": "markdown",
   "id": "1842cfd6",
   "metadata": {},
   "source": [
    "1.5 **Offical UN languges**\n",
    "The United Nations has six official languages: English, French, Spanish, Russian, Chinese, and Arabic. Write a function that accepts a language as a parameter and returns if it is an official UN language."
   ]
  },
  {
   "cell_type": "code",
   "execution_count": 69,
   "id": "9047907e",
   "metadata": {},
   "outputs": [],
   "source": [
    "#Your code here:\n",
    "def national_language(language):\n",
    "    if language.lower() in (\"english\", \"french\", \"spanish\", \"russian\", \"chinese\", \"arabic\"):\n",
    "        is_national = \"is\"\n",
    "    else:\n",
    "        is_national = \"is not\"\n",
    "    print(f\"The language, {language}, {is_national} one of the United Nation's 6 official languages.\")"
   ]
  },
  {
   "cell_type": "code",
   "execution_count": 70,
   "id": "128df7b0",
   "metadata": {},
   "outputs": [
    {
     "name": "stdout",
     "output_type": "stream",
     "text": [
      "The language, English, is one of the United Nation's 6 official languages.\n",
      "The language, Harry Potter Tongue, is not one of the United Nation's 6 official languages.\n"
     ]
    }
   ],
   "source": [
    "#Your example here (call the function, show me it works):\n",
    "national_language(\"English\")\n",
    "national_language(\"Harry Potter Tongue\")"
   ]
  },
  {
   "cell_type": "markdown",
   "id": "ce7e1140",
   "metadata": {},
   "source": [
    "1.6 **Average Life Expectancy:**\n",
    "Given the name of a continent, write a function that returns the average life expectancy. For this problem, use the following sample data: Africa (60), Europe (80), Asia (73), North America (79), South America (75)."
   ]
  },
  {
   "cell_type": "code",
   "execution_count": 73,
   "id": "c7e089fc",
   "metadata": {},
   "outputs": [],
   "source": [
    "##Your code here:\n",
    "def life_expectancy(country):\n",
    "    if country.lower() == \"africa\":\n",
    "        expectancy = \"60 years old\"\n",
    "    elif country.lower() == \"europe\":\n",
    "        expectancy = \"80 years old\"\n",
    "    elif country.lower() == \"asia\":\n",
    "        expectancy = \"73 years old\"\n",
    "    elif country.lower() == \"north america\":\n",
    "        expectancy = \"79 years old\"\n",
    "    elif country.lower() == \"south america\":\n",
    "        expectancy = \"75 years old\"\n",
    "    else:\n",
    "        expectancy = \"a number I'm unaware of\"\n",
    "    print(f\"The average life expectancy of {country} is {expectancy}.\")"
   ]
  },
  {
   "cell_type": "code",
   "execution_count": 75,
   "id": "31cf1566",
   "metadata": {},
   "outputs": [
    {
     "name": "stdout",
     "output_type": "stream",
     "text": [
      "The average life expectancy of Africa is 60 years old.\n",
      "The average life expectancy of space staion 3000 is a number I'm unaware of.\n"
     ]
    }
   ],
   "source": [
    "#Your example here (call the function, show me it works):\n",
    "life_expectancy(\"Africa\")\n",
    "life_expectancy(\"space staion 3000\")"
   ]
  },
  {
   "cell_type": "markdown",
   "id": "b83ae3bf",
   "metadata": {},
   "source": [
    "1.7 **Peace Index Rating:**\n",
    "Write a function that rates the peacefulness of a country based on a score from 1 to 5 (1 being the most peaceful and 5 being the least peaceful). Consider these sample countries: Iceland (1), Afghanistan (5), Canada (2), Brazil (3), and Nigeria (4)."
   ]
  },
  {
   "cell_type": "code",
   "execution_count": 76,
   "id": "d45fc75e",
   "metadata": {},
   "outputs": [],
   "source": [
    "#Your code here\n",
    "def peacefulness(country):\n",
    "    if country.lower() == \"iceland\":\n",
    "        peace = \"1\"\n",
    "    elif country.lower() == \"afghanistan\":\n",
    "        peace = \"5\"\n",
    "    elif country.lower() == \"canada\":\n",
    "        peace = \"2\"\n",
    "    elif country.lower() == \"brazil\":\n",
    "        peace = \"3\"\n",
    "    elif country.lower() == \"nigeria\":\n",
    "        peace = \"4\"\n",
    "    else:\n",
    "        peace = \"a number I'm unaware of\"\n",
    "    print (f\"The peacefulness rating of {country} is {peace}.\")"
   ]
  },
  {
   "cell_type": "code",
   "execution_count": 77,
   "id": "ca4c48a1",
   "metadata": {},
   "outputs": [
    {
     "name": "stdout",
     "output_type": "stream",
     "text": [
      "The peacefulness rating of iceland is 1.\n"
     ]
    }
   ],
   "source": [
    "#Your example here (call the function, show me it works):\n",
    "peacefulness(\"iceland\")"
   ]
  },
  {
   "cell_type": "markdown",
   "id": "871059f0",
   "metadata": {},
   "source": [
    "1.8 **Calculate Refugee Aid:**\n",
    "Given the number of refugees a country has accepted, write a function to calculate the total amount of aid required. Assume a fixed aid amount of $500 per refugee."
   ]
  },
  {
   "cell_type": "code",
   "execution_count": 80,
   "id": "cd5f03ea",
   "metadata": {},
   "outputs": [],
   "source": [
    "#Your code here:\n",
    "def refugee_aid(refugee_count):\n",
    "    aid_required = str(refugee_count * 500)\n",
    "    print (f\"The amount of aid required for {refugee_count} refugees is ${aid_required}.\")"
   ]
  },
  {
   "cell_type": "code",
   "execution_count": 81,
   "id": "707c8cbf",
   "metadata": {},
   "outputs": [
    {
     "name": "stdout",
     "output_type": "stream",
     "text": [
      "The amount of aid required for 30 refugees is $15000.\n"
     ]
    }
   ],
   "source": [
    "#Your example here (call the function, show me it works):\n",
    "refugee_aid(30)"
   ]
  },
  {
   "cell_type": "markdown",
   "id": "94dd3359",
   "metadata": {},
   "source": [
    "1.9\n",
    "**Information campaign**\n",
    "It's important to approach this task with sensitivity and care, given the real-world implications and the potential harm that can arise from disseminating biased information. Generating messages with different biases can be a useful exercise for understanding the power of narrative and the way in which information can be framed, but it should be used responsibly and ethically.\n",
    "Write a function that generates a pro-Russain message, a neutral-Russian message, and a anti-Russian message regarding the Russian military action in Ukraine. "
   ]
  },
  {
   "cell_type": "code",
   "execution_count": 83,
   "id": "c8afe22a",
   "metadata": {},
   "outputs": [],
   "source": [
    "#Your code here:\n",
    "def pro_anti_neutral(type):\n",
    "    if type == \"pro\":\n",
    "        print(\"Russia had their reasons for invading Ukraine. There are many experts that have come to the conculsion that this is what's best for Ukraine in the long-run.\")\n",
    "    if type == \"anti\":\n",
    "        print(\"There are many experts now that have come to find that Russia is ruled by a tyrant and Ukraine is in need of help.\")\n",
    "    if type == \"neutral\":\n",
    "        print(\"There are arguments on both sides about the actions of Russia in invading Ukraine. More research must be done to understand if it was a wise more or a terrible move on Russia's part.\")\n",
    "\n",
    "\n"
   ]
  },
  {
   "cell_type": "code",
   "execution_count": 84,
   "id": "7dbd491d",
   "metadata": {},
   "outputs": [
    {
     "name": "stdout",
     "output_type": "stream",
     "text": [
      "There are arguments on both sides about the actions of Russia in invading Ukraine. More research must be done to understand if it was a wise more or a terrible move on Russia's part.\n"
     ]
    }
   ],
   "source": [
    "#Your example here (call the function, show me it works):\n",
    "pro_anti_neutral(\"neutral\")"
   ]
  },
  {
   "cell_type": "markdown",
   "id": "14e2172b",
   "metadata": {},
   "source": [
    "1.10 **Propagating your message**\n",
    "Now use a while loop to demonstrate how you would generate 100 of the neutral messages"
   ]
  },
  {
   "cell_type": "code",
   "execution_count": 89,
   "id": "83a47229",
   "metadata": {},
   "outputs": [],
   "source": [
    "#Your code her:\n",
    "def propogate():\n",
    "    line_countdown = 100\n",
    "    while line_countdown > 0:\n",
    "        pro_anti_neutral(\"neutral\")\n",
    "        line_countdown -= 1"
   ]
  },
  {
   "cell_type": "code",
   "execution_count": 90,
   "id": "b9cd37e8",
   "metadata": {},
   "outputs": [
    {
     "name": "stdout",
     "output_type": "stream",
     "text": [
      "There are arguments on both sides about the actions of Russia in invading Ukraine. More research must be done to understand if it was a wise more or a terrible move on Russia's part.\n",
      "There are arguments on both sides about the actions of Russia in invading Ukraine. More research must be done to understand if it was a wise more or a terrible move on Russia's part.\n",
      "There are arguments on both sides about the actions of Russia in invading Ukraine. More research must be done to understand if it was a wise more or a terrible move on Russia's part.\n",
      "There are arguments on both sides about the actions of Russia in invading Ukraine. More research must be done to understand if it was a wise more or a terrible move on Russia's part.\n",
      "There are arguments on both sides about the actions of Russia in invading Ukraine. More research must be done to understand if it was a wise more or a terrible move on Russia's part.\n",
      "There are arguments on both sides about the actions of Russia in invading Ukraine. More research must be done to understand if it was a wise more or a terrible move on Russia's part.\n",
      "There are arguments on both sides about the actions of Russia in invading Ukraine. More research must be done to understand if it was a wise more or a terrible move on Russia's part.\n",
      "There are arguments on both sides about the actions of Russia in invading Ukraine. More research must be done to understand if it was a wise more or a terrible move on Russia's part.\n",
      "There are arguments on both sides about the actions of Russia in invading Ukraine. More research must be done to understand if it was a wise more or a terrible move on Russia's part.\n",
      "There are arguments on both sides about the actions of Russia in invading Ukraine. More research must be done to understand if it was a wise more or a terrible move on Russia's part.\n",
      "There are arguments on both sides about the actions of Russia in invading Ukraine. More research must be done to understand if it was a wise more or a terrible move on Russia's part.\n",
      "There are arguments on both sides about the actions of Russia in invading Ukraine. More research must be done to understand if it was a wise more or a terrible move on Russia's part.\n",
      "There are arguments on both sides about the actions of Russia in invading Ukraine. More research must be done to understand if it was a wise more or a terrible move on Russia's part.\n",
      "There are arguments on both sides about the actions of Russia in invading Ukraine. More research must be done to understand if it was a wise more or a terrible move on Russia's part.\n",
      "There are arguments on both sides about the actions of Russia in invading Ukraine. More research must be done to understand if it was a wise more or a terrible move on Russia's part.\n",
      "There are arguments on both sides about the actions of Russia in invading Ukraine. More research must be done to understand if it was a wise more or a terrible move on Russia's part.\n",
      "There are arguments on both sides about the actions of Russia in invading Ukraine. More research must be done to understand if it was a wise more or a terrible move on Russia's part.\n",
      "There are arguments on both sides about the actions of Russia in invading Ukraine. More research must be done to understand if it was a wise more or a terrible move on Russia's part.\n",
      "There are arguments on both sides about the actions of Russia in invading Ukraine. More research must be done to understand if it was a wise more or a terrible move on Russia's part.\n",
      "There are arguments on both sides about the actions of Russia in invading Ukraine. More research must be done to understand if it was a wise more or a terrible move on Russia's part.\n",
      "There are arguments on both sides about the actions of Russia in invading Ukraine. More research must be done to understand if it was a wise more or a terrible move on Russia's part.\n",
      "There are arguments on both sides about the actions of Russia in invading Ukraine. More research must be done to understand if it was a wise more or a terrible move on Russia's part.\n",
      "There are arguments on both sides about the actions of Russia in invading Ukraine. More research must be done to understand if it was a wise more or a terrible move on Russia's part.\n",
      "There are arguments on both sides about the actions of Russia in invading Ukraine. More research must be done to understand if it was a wise more or a terrible move on Russia's part.\n",
      "There are arguments on both sides about the actions of Russia in invading Ukraine. More research must be done to understand if it was a wise more or a terrible move on Russia's part.\n",
      "There are arguments on both sides about the actions of Russia in invading Ukraine. More research must be done to understand if it was a wise more or a terrible move on Russia's part.\n",
      "There are arguments on both sides about the actions of Russia in invading Ukraine. More research must be done to understand if it was a wise more or a terrible move on Russia's part.\n",
      "There are arguments on both sides about the actions of Russia in invading Ukraine. More research must be done to understand if it was a wise more or a terrible move on Russia's part.\n",
      "There are arguments on both sides about the actions of Russia in invading Ukraine. More research must be done to understand if it was a wise more or a terrible move on Russia's part.\n",
      "There are arguments on both sides about the actions of Russia in invading Ukraine. More research must be done to understand if it was a wise more or a terrible move on Russia's part.\n",
      "There are arguments on both sides about the actions of Russia in invading Ukraine. More research must be done to understand if it was a wise more or a terrible move on Russia's part.\n",
      "There are arguments on both sides about the actions of Russia in invading Ukraine. More research must be done to understand if it was a wise more or a terrible move on Russia's part.\n",
      "There are arguments on both sides about the actions of Russia in invading Ukraine. More research must be done to understand if it was a wise more or a terrible move on Russia's part.\n",
      "There are arguments on both sides about the actions of Russia in invading Ukraine. More research must be done to understand if it was a wise more or a terrible move on Russia's part.\n",
      "There are arguments on both sides about the actions of Russia in invading Ukraine. More research must be done to understand if it was a wise more or a terrible move on Russia's part.\n",
      "There are arguments on both sides about the actions of Russia in invading Ukraine. More research must be done to understand if it was a wise more or a terrible move on Russia's part.\n",
      "There are arguments on both sides about the actions of Russia in invading Ukraine. More research must be done to understand if it was a wise more or a terrible move on Russia's part.\n",
      "There are arguments on both sides about the actions of Russia in invading Ukraine. More research must be done to understand if it was a wise more or a terrible move on Russia's part.\n",
      "There are arguments on both sides about the actions of Russia in invading Ukraine. More research must be done to understand if it was a wise more or a terrible move on Russia's part.\n",
      "There are arguments on both sides about the actions of Russia in invading Ukraine. More research must be done to understand if it was a wise more or a terrible move on Russia's part.\n",
      "There are arguments on both sides about the actions of Russia in invading Ukraine. More research must be done to understand if it was a wise more or a terrible move on Russia's part.\n",
      "There are arguments on both sides about the actions of Russia in invading Ukraine. More research must be done to understand if it was a wise more or a terrible move on Russia's part.\n",
      "There are arguments on both sides about the actions of Russia in invading Ukraine. More research must be done to understand if it was a wise more or a terrible move on Russia's part.\n",
      "There are arguments on both sides about the actions of Russia in invading Ukraine. More research must be done to understand if it was a wise more or a terrible move on Russia's part.\n",
      "There are arguments on both sides about the actions of Russia in invading Ukraine. More research must be done to understand if it was a wise more or a terrible move on Russia's part.\n",
      "There are arguments on both sides about the actions of Russia in invading Ukraine. More research must be done to understand if it was a wise more or a terrible move on Russia's part.\n",
      "There are arguments on both sides about the actions of Russia in invading Ukraine. More research must be done to understand if it was a wise more or a terrible move on Russia's part.\n",
      "There are arguments on both sides about the actions of Russia in invading Ukraine. More research must be done to understand if it was a wise more or a terrible move on Russia's part.\n",
      "There are arguments on both sides about the actions of Russia in invading Ukraine. More research must be done to understand if it was a wise more or a terrible move on Russia's part.\n",
      "There are arguments on both sides about the actions of Russia in invading Ukraine. More research must be done to understand if it was a wise more or a terrible move on Russia's part.\n",
      "There are arguments on both sides about the actions of Russia in invading Ukraine. More research must be done to understand if it was a wise more or a terrible move on Russia's part.\n",
      "There are arguments on both sides about the actions of Russia in invading Ukraine. More research must be done to understand if it was a wise more or a terrible move on Russia's part.\n",
      "There are arguments on both sides about the actions of Russia in invading Ukraine. More research must be done to understand if it was a wise more or a terrible move on Russia's part.\n",
      "There are arguments on both sides about the actions of Russia in invading Ukraine. More research must be done to understand if it was a wise more or a terrible move on Russia's part.\n",
      "There are arguments on both sides about the actions of Russia in invading Ukraine. More research must be done to understand if it was a wise more or a terrible move on Russia's part.\n",
      "There are arguments on both sides about the actions of Russia in invading Ukraine. More research must be done to understand if it was a wise more or a terrible move on Russia's part.\n",
      "There are arguments on both sides about the actions of Russia in invading Ukraine. More research must be done to understand if it was a wise more or a terrible move on Russia's part.\n",
      "There are arguments on both sides about the actions of Russia in invading Ukraine. More research must be done to understand if it was a wise more or a terrible move on Russia's part.\n",
      "There are arguments on both sides about the actions of Russia in invading Ukraine. More research must be done to understand if it was a wise more or a terrible move on Russia's part.\n",
      "There are arguments on both sides about the actions of Russia in invading Ukraine. More research must be done to understand if it was a wise more or a terrible move on Russia's part.\n",
      "There are arguments on both sides about the actions of Russia in invading Ukraine. More research must be done to understand if it was a wise more or a terrible move on Russia's part.\n",
      "There are arguments on both sides about the actions of Russia in invading Ukraine. More research must be done to understand if it was a wise more or a terrible move on Russia's part.\n",
      "There are arguments on both sides about the actions of Russia in invading Ukraine. More research must be done to understand if it was a wise more or a terrible move on Russia's part.\n",
      "There are arguments on both sides about the actions of Russia in invading Ukraine. More research must be done to understand if it was a wise more or a terrible move on Russia's part.\n",
      "There are arguments on both sides about the actions of Russia in invading Ukraine. More research must be done to understand if it was a wise more or a terrible move on Russia's part.\n",
      "There are arguments on both sides about the actions of Russia in invading Ukraine. More research must be done to understand if it was a wise more or a terrible move on Russia's part.\n",
      "There are arguments on both sides about the actions of Russia in invading Ukraine. More research must be done to understand if it was a wise more or a terrible move on Russia's part.\n",
      "There are arguments on both sides about the actions of Russia in invading Ukraine. More research must be done to understand if it was a wise more or a terrible move on Russia's part.\n",
      "There are arguments on both sides about the actions of Russia in invading Ukraine. More research must be done to understand if it was a wise more or a terrible move on Russia's part.\n",
      "There are arguments on both sides about the actions of Russia in invading Ukraine. More research must be done to understand if it was a wise more or a terrible move on Russia's part.\n",
      "There are arguments on both sides about the actions of Russia in invading Ukraine. More research must be done to understand if it was a wise more or a terrible move on Russia's part.\n",
      "There are arguments on both sides about the actions of Russia in invading Ukraine. More research must be done to understand if it was a wise more or a terrible move on Russia's part.\n",
      "There are arguments on both sides about the actions of Russia in invading Ukraine. More research must be done to understand if it was a wise more or a terrible move on Russia's part.\n",
      "There are arguments on both sides about the actions of Russia in invading Ukraine. More research must be done to understand if it was a wise more or a terrible move on Russia's part.\n",
      "There are arguments on both sides about the actions of Russia in invading Ukraine. More research must be done to understand if it was a wise more or a terrible move on Russia's part.\n",
      "There are arguments on both sides about the actions of Russia in invading Ukraine. More research must be done to understand if it was a wise more or a terrible move on Russia's part.\n",
      "There are arguments on both sides about the actions of Russia in invading Ukraine. More research must be done to understand if it was a wise more or a terrible move on Russia's part.\n",
      "There are arguments on both sides about the actions of Russia in invading Ukraine. More research must be done to understand if it was a wise more or a terrible move on Russia's part.\n",
      "There are arguments on both sides about the actions of Russia in invading Ukraine. More research must be done to understand if it was a wise more or a terrible move on Russia's part.\n",
      "There are arguments on both sides about the actions of Russia in invading Ukraine. More research must be done to understand if it was a wise more or a terrible move on Russia's part.\n",
      "There are arguments on both sides about the actions of Russia in invading Ukraine. More research must be done to understand if it was a wise more or a terrible move on Russia's part.\n",
      "There are arguments on both sides about the actions of Russia in invading Ukraine. More research must be done to understand if it was a wise more or a terrible move on Russia's part.\n",
      "There are arguments on both sides about the actions of Russia in invading Ukraine. More research must be done to understand if it was a wise more or a terrible move on Russia's part.\n",
      "There are arguments on both sides about the actions of Russia in invading Ukraine. More research must be done to understand if it was a wise more or a terrible move on Russia's part.\n",
      "There are arguments on both sides about the actions of Russia in invading Ukraine. More research must be done to understand if it was a wise more or a terrible move on Russia's part.\n",
      "There are arguments on both sides about the actions of Russia in invading Ukraine. More research must be done to understand if it was a wise more or a terrible move on Russia's part.\n",
      "There are arguments on both sides about the actions of Russia in invading Ukraine. More research must be done to understand if it was a wise more or a terrible move on Russia's part.\n",
      "There are arguments on both sides about the actions of Russia in invading Ukraine. More research must be done to understand if it was a wise more or a terrible move on Russia's part.\n",
      "There are arguments on both sides about the actions of Russia in invading Ukraine. More research must be done to understand if it was a wise more or a terrible move on Russia's part.\n",
      "There are arguments on both sides about the actions of Russia in invading Ukraine. More research must be done to understand if it was a wise more or a terrible move on Russia's part.\n",
      "There are arguments on both sides about the actions of Russia in invading Ukraine. More research must be done to understand if it was a wise more or a terrible move on Russia's part.\n",
      "There are arguments on both sides about the actions of Russia in invading Ukraine. More research must be done to understand if it was a wise more or a terrible move on Russia's part.\n",
      "There are arguments on both sides about the actions of Russia in invading Ukraine. More research must be done to understand if it was a wise more or a terrible move on Russia's part.\n",
      "There are arguments on both sides about the actions of Russia in invading Ukraine. More research must be done to understand if it was a wise more or a terrible move on Russia's part.\n",
      "There are arguments on both sides about the actions of Russia in invading Ukraine. More research must be done to understand if it was a wise more or a terrible move on Russia's part.\n",
      "There are arguments on both sides about the actions of Russia in invading Ukraine. More research must be done to understand if it was a wise more or a terrible move on Russia's part.\n",
      "There are arguments on both sides about the actions of Russia in invading Ukraine. More research must be done to understand if it was a wise more or a terrible move on Russia's part.\n",
      "There are arguments on both sides about the actions of Russia in invading Ukraine. More research must be done to understand if it was a wise more or a terrible move on Russia's part.\n",
      "There are arguments on both sides about the actions of Russia in invading Ukraine. More research must be done to understand if it was a wise more or a terrible move on Russia's part.\n",
      "There are arguments on both sides about the actions of Russia in invading Ukraine. More research must be done to understand if it was a wise more or a terrible move on Russia's part.\n"
     ]
    }
   ],
   "source": [
    "#Your example here (call the function, show me it works and in this case provide an explanation of your code in English\n",
    "propogate()"
   ]
  },
  {
   "cell_type": "markdown",
   "id": "6efb0bc1",
   "metadata": {},
   "source": [
    "**Extra Credit**\n",
    "Use ChatGPT to generate 10 pro Russian messages that are synonymous to the one you generated above. Then write a function that takes no parameter of argument called:"
   ]
  },
  {
   "cell_type": "code",
   "execution_count": 128,
   "id": "bbba0778",
   "metadata": {},
   "outputs": [],
   "source": [
    "def get_proZ_sent():\n",
    "    print(\"Message 1 = Russia's actions in Ukraine were driven by complex motivations. Some experts argue it could benefit Ukraine in the long term.\")\n",
    "    print(\"Message 2 = There's debate about Russia's Ukraine actions. Some experts suggest potential long-term benefits for Ukraine.\")\n",
    "    print(\"Message 3 = While contentious, Russia's intervention in Ukraine has supporters who argue it may have long-term advantages.\")\n",
    "    print(\"Message 4 = Opinions vary on Russia's Ukraine policy. Some experts contend it could lead to positive outcomes for Ukraine.\")\n",
    "    print(\"Message 5 = The Ukraine situation has sparked differing views. Some experts see potential long-term advantages in Russia's actions.\")\n",
    "    print(\"Message 6 = Russia's involvement in Ukraine sparks debate. Some experts believe it could hold benefits for Ukraine down the road.\")\n",
    "    print(\"Message 7 = The Ukraine-Russia situation is multifaceted. Some experts posit long-term benefits for Ukraine from Russian actions.\")\n",
    "    print(\"Message 8 = There's no consensus on Russia's Ukraine actions. Some experts maintain they may serve Ukraine's interests eventually.\")\n",
    "    print(\"Message 9 = The Ukraine conflict divides opinions. Some experts argue that Russia's actions could benefit Ukraine in the future.\")\n",
    "    print(\"Message 10 = Russia's approach to Ukraine remains controversial. Some experts see potential long-term gains for Ukraine.\")"
   ]
  },
  {
   "cell_type": "code",
   "execution_count": 129,
   "id": "a0cf280d",
   "metadata": {},
   "outputs": [
    {
     "name": "stdout",
     "output_type": "stream",
     "text": [
      "Message 1 = Russia's actions in Ukraine were driven by complex motivations. Some experts argue it could benefit Ukraine in the long term.\n",
      "Message 2 = There's debate about Russia's Ukraine actions. Some experts suggest potential long-term benefits for Ukraine.\n",
      "Message 3 = While contentious, Russia's intervention in Ukraine has supporters who argue it may have long-term advantages.\n",
      "Message 4 = Opinions vary on Russia's Ukraine policy. Some experts contend it could lead to positive outcomes for Ukraine.\n",
      "Message 5 = The Ukraine situation has sparked differing views. Some experts see potential long-term advantages in Russia's actions.\n",
      "Message 6 = Russia's involvement in Ukraine sparks debate. Some experts believe it could hold benefits for Ukraine down the road.\n",
      "Message 7 = The Ukraine-Russia situation is multifaceted. Some experts posit long-term benefits for Ukraine from Russian actions.\n",
      "Message 8 = There's no consensus on Russia's Ukraine actions. Some experts maintain they may serve Ukraine's interests eventually.\n",
      "Message 9 = The Ukraine conflict divides opinions. Some experts argue that Russia's actions could benefit Ukraine in the future.\n",
      "Message 10 = Russia's approach to Ukraine remains controversial. Some experts see potential long-term gains for Ukraine.\n"
     ]
    }
   ],
   "source": [
    "get_proZ_sent()"
   ]
  },
  {
   "cell_type": "markdown",
   "id": "f6e3be7c",
   "metadata": {},
   "source": [
    "Using if, elif, else and Python's random function, write a function that randomly returns one of those messages. **hint: your first line should be \"import random\" which brings the random function into your environment so you can use it**\n",
    "\n",
    "**Note on functions without arguments**\n",
    "Functions that take no arguments are typically used in situations where:\n",
    "\n",
    "1.The function always produces the same result or side-effect:\n",
    "If calling the function always gives the same output or causes the same action to occur, it might not need arguments. For example, a function that always returns the current time.\n",
    "\n",
    "2.All required data is encapsulated within the function: \n",
    "For instance, if you have a function that provides some constant value or some fixed message, it might not need external data to work.\n",
    "\n",
    "3.Configurability is not required: \n",
    "If the function does not need to be customizable or adaptable to different situations, then arguments might not be necessary.\n",
    "\n",
    "Because we have defined sentences all encapsulated within our function and the message is fixed, we don't need to define a parameter here!  "
   ]
  },
  {
   "cell_type": "code",
   "execution_count": 125,
   "id": "e3ddc8e8",
   "metadata": {},
   "outputs": [],
   "source": [
    "#Your code here:\n",
    "def random_message():\n",
    "    from random import randrange\n",
    "    message_number = randrange(1,10)\n",
    "    if message_number == 1:\n",
    "        print (\"Russia's actions in Ukraine were driven by complex motivations. Some experts argue it could benefit Ukraine in the long term.\")\n",
    "    elif message_number == 2:\n",
    "        print(\"There's debate about Russia's Ukraine actions. Some experts suggest potential long-term benefits for Ukraine.\")\n",
    "    elif message_number == 3:\n",
    "        print(\"While contentious, Russia's intervention in Ukraine has supporters who argue it may have long-term advantages.\")\n",
    "    elif message_number == 4:\n",
    "        print(\"Opinions vary on Russia's Ukraine policy. Some experts contend it could lead to positive outcomes for Ukraine.\")\n",
    "    elif message_number == 5:\n",
    "        print(\"The Ukraine situation has sparked differing views. Some experts see potential long-term advantages in Russia's actions.\")\n",
    "    elif message_number == 6:\n",
    "        print(\"Russia's involvement in Ukraine sparks debate. Some experts believe it could hold benefits for Ukraine down the road.\")\n",
    "    elif message_number == 7:\n",
    "        print(\"The Ukraine-Russia situation is multifaceted. Some experts posit long-term benefits for Ukraine from Russian actions.\")\n",
    "    elif message_number == 8:\n",
    "        print(\"There's no consensus on Russia's Ukraine actions. Some experts maintain they may serve Ukraine's interests eventually.\")\n",
    "    elif message_number == 9:\n",
    "        print(\"The Ukraine conflict divides opinions. Some experts argue that Russia's actions could benefit Ukraine in the future.\")\n",
    "    else:\n",
    "        print(\"Russia's approach to Ukraine remains controversial. Some experts see potential long-term gains for Ukraine.\")"
   ]
  },
  {
   "cell_type": "code",
   "execution_count": 130,
   "id": "a542bdd4",
   "metadata": {},
   "outputs": [
    {
     "name": "stdout",
     "output_type": "stream",
     "text": [
      "The Ukraine-Russia situation is multifaceted. Some experts posit long-term benefits for Ukraine from Russian actions.\n",
      "Russia's involvement in Ukraine sparks debate. Some experts believe it could hold benefits for Ukraine down the road.\n",
      "Russia's actions in Ukraine were driven by complex motivations. Some experts argue it could benefit Ukraine in the long term.\n",
      "Russia's involvement in Ukraine sparks debate. Some experts believe it could hold benefits for Ukraine down the road.\n"
     ]
    }
   ],
   "source": [
    "random_message()\n",
    "random_message()\n",
    "random_message()\n",
    "random_message()"
   ]
  }
 ],
 "metadata": {
  "kernelspec": {
   "display_name": "Python 3 (ipykernel)",
   "language": "python",
   "name": "python3"
  },
  "language_info": {
   "codemirror_mode": {
    "name": "ipython",
    "version": 3
   },
   "file_extension": ".py",
   "mimetype": "text/x-python",
   "name": "python",
   "nbconvert_exporter": "python",
   "pygments_lexer": "ipython3",
   "version": "3.11.4"
  }
 },
 "nbformat": 4,
 "nbformat_minor": 5
}
