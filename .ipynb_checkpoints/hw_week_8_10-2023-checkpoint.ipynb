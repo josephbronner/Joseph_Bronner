{
 "cells": [
  {
   "cell_type": "markdown",
   "id": "cf08b43a",
   "metadata": {},
   "source": [
    "## RAND Database of Worldwide Terrorism Incidents\n",
    "\n",
    "The RAND Database of Worldwide Terrorism Incidents (RDWTI) is a compilation of data from 1968 through 2009.\n",
    "\n",
    "This legacy RAND project developed and maintained a database of terrorism incidents stretching back to 1968, which provides comprehensive information on international and domestic terrorism. Over the years, many public and private sponsors have contributed to the maintenance of the RDWTI and its predecessors, the RAND Terrorism Chronology and the RAND-MIPT Terrorism Incident Database.\n",
    "\n",
    "The data can be found here: https://www.rand.org/nsrd/projects/terrorism-incidents.html\n",
    "\n",
    "With over 40,000 incidents of terrorism coded and detailed, the quality and completeness of the RDWTI was remarkable for its time. RAND staff conducted extensive research on candidate terrorist attacks, drawing on staff with regional expertise, relevant language skills, and in-country field work experience."
   ]
  },
  {
   "cell_type": "markdown",
   "id": "8bd8015c",
   "metadata": {},
   "source": [
    "1. Please navigate to this website and download the data\n",
    "2. Save the data as a csv file\n",
    "3. Read the csv file into a pandas dataframe."
   ]
  },
  {
   "cell_type": "code",
   "execution_count": null,
   "id": "3f8df837",
   "metadata": {},
   "outputs": [],
   "source": [
    "#Your code here:\n"
   ]
  },
  {
   "cell_type": "markdown",
   "id": "4c94c3ca",
   "metadata": {},
   "source": [
    "## Pandas groupby and get_group\n",
    "Please review pandas groupby and get_group methods here: https://www.geeksforgeeks.org/python-pandas-dataframe-groupby/\n",
    "\n",
    "These methods will be very helpful in completing your homeword!\n"
   ]
  },
  {
   "cell_type": "markdown",
   "id": "799106b5",
   "metadata": {},
   "source": [
    "Part 1: Please use the data, and provide evidence to answer the questions below. Please use visualizations/plots where appropriate to tell convey your evidence more completely."
   ]
  },
  {
   "cell_type": "markdown",
   "id": "cb6d54c9",
   "metadata": {},
   "source": [
    "1. What are the top 5 countries where terrorism incidents occured?"
   ]
  },
  {
   "cell_type": "code",
   "execution_count": null,
   "id": "ff250b92",
   "metadata": {},
   "outputs": [],
   "source": []
  },
  {
   "cell_type": "markdown",
   "id": "1f7efecf",
   "metadata": {},
   "source": [
    "\n",
    "2. In those top 5 countries, what were the common perpetrators, weapons and objectives?"
   ]
  },
  {
   "cell_type": "code",
   "execution_count": null,
   "id": "69bb3043",
   "metadata": {},
   "outputs": [],
   "source": []
  },
  {
   "cell_type": "markdown",
   "id": "19cd5297",
   "metadata": {},
   "source": [
    "3. What were the top 10 most deadly attacks?"
   ]
  },
  {
   "cell_type": "code",
   "execution_count": null,
   "id": "9e6e7d00",
   "metadata": {},
   "outputs": [],
   "source": []
  },
  {
   "cell_type": "markdown",
   "id": "c683102c",
   "metadata": {},
   "source": [
    "\n",
    "4. How often was \"kidnapping\" or some derviation of the word mentioned in all of the incident reports?"
   ]
  },
  {
   "cell_type": "code",
   "execution_count": null,
   "id": "62448ff5",
   "metadata": {},
   "outputs": [],
   "source": []
  },
  {
   "cell_type": "markdown",
   "id": "37ff92a4",
   "metadata": {},
   "source": [
    "5. When kindapping was mentioned, how often did the incident result in fatalities?"
   ]
  },
  {
   "cell_type": "code",
   "execution_count": null,
   "id": "230e74f3",
   "metadata": {},
   "outputs": [],
   "source": []
  },
  {
   "cell_type": "markdown",
   "id": "7bf0d137",
   "metadata": {},
   "source": [
    "6. When kidnapping was mentioned, how often was \"ransom\" mentioned?"
   ]
  },
  {
   "cell_type": "code",
   "execution_count": null,
   "id": "c5b6f211",
   "metadata": {},
   "outputs": [],
   "source": []
  },
  {
   "cell_type": "markdown",
   "id": "eb333607",
   "metadata": {},
   "source": [
    "7. In all of the incidents, how often were \"students\" mentioned as perpertators?"
   ]
  },
  {
   "cell_type": "code",
   "execution_count": null,
   "id": "2ceb70f4",
   "metadata": {},
   "outputs": [],
   "source": []
  },
  {
   "cell_type": "markdown",
   "id": "2a85d19d",
   "metadata": {},
   "source": [
    "\n",
    "8. What was the first incident where a \"suicide bomber\" was mentioned?"
   ]
  },
  {
   "cell_type": "code",
   "execution_count": null,
   "id": "0cb97597",
   "metadata": {},
   "outputs": [],
   "source": []
  },
  {
   "cell_type": "markdown",
   "id": "f5dff1d9",
   "metadata": {},
   "source": [
    "9. How often were \"priests\" or \"clergy\" mentioned?"
   ]
  },
  {
   "cell_type": "code",
   "execution_count": null,
   "id": "1359a9a0",
   "metadata": {},
   "outputs": [],
   "source": []
  },
  {
   "cell_type": "markdown",
   "id": "c5e336c0",
   "metadata": {},
   "source": [
    "10. Name all the incidents where a woman or women were identified as terrorists. Not the victims, the terrorists."
   ]
  },
  {
   "cell_type": "code",
   "execution_count": null,
   "id": "097fb072",
   "metadata": {},
   "outputs": [],
   "source": []
  },
  {
   "cell_type": "markdown",
   "id": "17c15c36",
   "metadata": {},
   "source": [
    "## Part 2\n",
    "In the incident reports investigate motivations of terrorism and categorize them into economic, political, religious or some combination of those categories. How would you do it? Is it a dictionary of economic words? The mention of money? The mention of religion? The word \"liberation?\" What's the signal here? Could you use vectors? You could use research or domain knowledge into perpetrators and their stated goals. You will have to resolve or define new categories. For example, is the Irish Republican Army religious or poltical or RP as a new category? Is Hamas religious, political or both? Find the signals and create a new column that categorizes the incidents. \n",
    "\n",
    "There is no \"right\" answer here, just a way for you as a emerging data scientist to think about how to parse data and categorize it. Just declare categories and justify your logic! I am as interested in your reasoning, as I am in your code!\n"
   ]
  },
  {
   "cell_type": "code",
   "execution_count": null,
   "id": "fc42fc81",
   "metadata": {},
   "outputs": [],
   "source": []
  },
  {
   "cell_type": "code",
   "execution_count": null,
   "id": "0b2d3466",
   "metadata": {},
   "outputs": [],
   "source": []
  }
 ],
 "metadata": {
  "kernelspec": {
   "display_name": "Python 3 (ipykernel)",
   "language": "python",
   "name": "python3"
  },
  "language_info": {
   "codemirror_mode": {
    "name": "ipython",
    "version": 3
   },
   "file_extension": ".py",
   "mimetype": "text/x-python",
   "name": "python",
   "nbconvert_exporter": "python",
   "pygments_lexer": "ipython3",
   "version": "3.11.4"
  }
 },
 "nbformat": 4,
 "nbformat_minor": 5
}
