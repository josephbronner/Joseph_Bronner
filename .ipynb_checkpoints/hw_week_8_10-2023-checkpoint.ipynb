{
 "cells": [
  {
   "cell_type": "markdown",
   "id": "cf08b43a",
   "metadata": {},
   "source": [
    "## RAND Database of Worldwide Terrorism Incidents\n",
    "\n",
    "The RAND Database of Worldwide Terrorism Incidents (RDWTI) is a compilation of data from 1968 through 2009.\n",
    "\n",
    "This legacy RAND project developed and maintained a database of terrorism incidents stretching back to 1968, which provides comprehensive information on international and domestic terrorism. Over the years, many public and private sponsors have contributed to the maintenance of the RDWTI and its predecessors, the RAND Terrorism Chronology and the RAND-MIPT Terrorism Incident Database.\n",
    "\n",
    "The data can be found here: https://www.rand.org/nsrd/projects/terrorism-incidents.html\n",
    "\n",
    "With over 40,000 incidents of terrorism coded and detailed, the quality and completeness of the RDWTI was remarkable for its time. RAND staff conducted extensive research on candidate terrorist attacks, drawing on staff with regional expertise, relevant language skills, and in-country field work experience."
   ]
  },
  {
   "cell_type": "markdown",
   "id": "8bd8015c",
   "metadata": {},
   "source": [
    "1. Please navigate to this website and download the data\n",
    "2. Save the data as a csv file\n",
    "3. Read the csv file into a pandas dataframe."
   ]
  },
  {
   "cell_type": "code",
   "execution_count": 9,
   "id": "3f8df837",
   "metadata": {},
   "outputs": [
    {
     "name": "stdout",
     "output_type": "stream",
     "text": [
      "Requirement already satisfied: pandas in c:\\users\\josep\\anaconda3\\lib\\site-packages (1.5.3)\n",
      "Requirement already satisfied: python-dateutil>=2.8.1 in c:\\users\\josep\\anaconda3\\lib\\site-packages (from pandas) (2.8.2)\n",
      "Requirement already satisfied: pytz>=2020.1 in c:\\users\\josep\\anaconda3\\lib\\site-packages (from pandas) (2022.7)\n",
      "Requirement already satisfied: numpy>=1.21.0 in c:\\users\\josep\\anaconda3\\lib\\site-packages (from pandas) (1.24.3)\n",
      "Requirement already satisfied: six>=1.5 in c:\\users\\josep\\anaconda3\\lib\\site-packages (from python-dateutil>=2.8.1->pandas) (1.16.0)\n"
     ]
    }
   ],
   "source": [
    "#Your code here:\n",
    "\n",
    "#import pandas and set it up\n",
    "!pip install pandas\n",
    "import pandas as pd"
   ]
  },
  {
   "cell_type": "code",
   "execution_count": 10,
   "id": "c38c3b8c",
   "metadata": {},
   "outputs": [],
   "source": [
    "#Read into a panda, and use the correct encoding (considering that utf-8 wasn't working)\n",
    "df = pd.read_csv(\"RAND.csv\", encoding=\"ISO-8859-1\")"
   ]
  },
  {
   "cell_type": "markdown",
   "id": "4c94c3ca",
   "metadata": {},
   "source": [
    "## Pandas groupby and get_group\n",
    "Please review pandas groupby and get_group methods here: https://www.geeksforgeeks.org/python-pandas-dataframe-groupby/\n",
    "\n",
    "These methods will be very helpful in completing your homeword!\n"
   ]
  },
  {
   "cell_type": "markdown",
   "id": "799106b5",
   "metadata": {},
   "source": [
    "Part 1: Please use the data, and provide evidence to answer the questions below. Please use visualizations/plots where appropriate to tell convey your evidence more completely."
   ]
  },
  {
   "cell_type": "markdown",
   "id": "cb6d54c9",
   "metadata": {},
   "source": [
    "1. What are the top 5 countries where terrorism incidents occured?"
   ]
  },
  {
   "cell_type": "code",
   "execution_count": 11,
   "id": "ff250b92",
   "metadata": {},
   "outputs": [
    {
     "data": {
      "text/html": [
       "<div>\n",
       "<style scoped>\n",
       "    .dataframe tbody tr th:only-of-type {\n",
       "        vertical-align: middle;\n",
       "    }\n",
       "\n",
       "    .dataframe tbody tr th {\n",
       "        vertical-align: top;\n",
       "    }\n",
       "\n",
       "    .dataframe thead th {\n",
       "        text-align: right;\n",
       "    }\n",
       "</style>\n",
       "<table border=\"1\" class=\"dataframe\">\n",
       "  <thead>\n",
       "    <tr style=\"text-align: right;\">\n",
       "      <th></th>\n",
       "      <th>Date</th>\n",
       "      <th>City</th>\n",
       "      <th>Country</th>\n",
       "      <th>Perpetrator</th>\n",
       "      <th>Weapon</th>\n",
       "      <th>Injuries</th>\n",
       "      <th>Fatalities</th>\n",
       "      <th>Description</th>\n",
       "    </tr>\n",
       "  </thead>\n",
       "  <tbody>\n",
       "    <tr>\n",
       "      <th>0</th>\n",
       "      <td>9-Feb-68</td>\n",
       "      <td>Buenos Aires</td>\n",
       "      <td>Argentina</td>\n",
       "      <td>Unknown</td>\n",
       "      <td>Firearms</td>\n",
       "      <td>0</td>\n",
       "      <td>0</td>\n",
       "      <td>ARGENTINA.  The second floor of the U.S. embas...</td>\n",
       "    </tr>\n",
       "    <tr>\n",
       "      <th>1</th>\n",
       "      <td>12-Feb-68</td>\n",
       "      <td>Santo Domingo</td>\n",
       "      <td>Dominican Republic</td>\n",
       "      <td>Unknown</td>\n",
       "      <td>Explosives</td>\n",
       "      <td>0</td>\n",
       "      <td>0</td>\n",
       "      <td>DOMINICAN REPUBLIC.  A homemade bomb was found...</td>\n",
       "    </tr>\n",
       "    <tr>\n",
       "      <th>2</th>\n",
       "      <td>13-Feb-68</td>\n",
       "      <td>Montevideo</td>\n",
       "      <td>Uruguay</td>\n",
       "      <td>Unknown</td>\n",
       "      <td>Fire or Firebomb</td>\n",
       "      <td>0</td>\n",
       "      <td>0</td>\n",
       "      <td>URUGUAY.  A Molotov cocktail was thrown outsid...</td>\n",
       "    </tr>\n",
       "    <tr>\n",
       "      <th>3</th>\n",
       "      <td>20-Feb-68</td>\n",
       "      <td>Santiago</td>\n",
       "      <td>Chile</td>\n",
       "      <td>Unknown</td>\n",
       "      <td>Explosives</td>\n",
       "      <td>0</td>\n",
       "      <td>0</td>\n",
       "      <td>CHILE.  An explosion from a single stick of dy...</td>\n",
       "    </tr>\n",
       "    <tr>\n",
       "      <th>4</th>\n",
       "      <td>21-Feb-68</td>\n",
       "      <td>Washington, D.C.</td>\n",
       "      <td>United States</td>\n",
       "      <td>Unknown</td>\n",
       "      <td>Explosives</td>\n",
       "      <td>0</td>\n",
       "      <td>0</td>\n",
       "      <td>UNITED STATES.  The Soviet embassy was bombed ...</td>\n",
       "    </tr>\n",
       "  </tbody>\n",
       "</table>\n",
       "</div>"
      ],
      "text/plain": [
       "        Date              City             Country Perpetrator  \\\n",
       "0   9-Feb-68      Buenos Aires           Argentina     Unknown   \n",
       "1  12-Feb-68     Santo Domingo  Dominican Republic     Unknown   \n",
       "2  13-Feb-68        Montevideo             Uruguay     Unknown   \n",
       "3  20-Feb-68          Santiago               Chile     Unknown   \n",
       "4  21-Feb-68  Washington, D.C.       United States     Unknown   \n",
       "\n",
       "             Weapon  Injuries  Fatalities  \\\n",
       "0          Firearms         0           0   \n",
       "1        Explosives         0           0   \n",
       "2  Fire or Firebomb         0           0   \n",
       "3        Explosives         0           0   \n",
       "4        Explosives         0           0   \n",
       "\n",
       "                                         Description  \n",
       "0  ARGENTINA.  The second floor of the U.S. embas...  \n",
       "1  DOMINICAN REPUBLIC.  A homemade bomb was found...  \n",
       "2  URUGUAY.  A Molotov cocktail was thrown outsid...  \n",
       "3  CHILE.  An explosion from a single stick of dy...  \n",
       "4  UNITED STATES.  The Soviet embassy was bombed ...  "
      ]
     },
     "execution_count": 11,
     "metadata": {},
     "output_type": "execute_result"
    }
   ],
   "source": [
    "#Take a look at the head of the data\n",
    "df.head()"
   ]
  },
  {
   "cell_type": "code",
   "execution_count": 96,
   "id": "3dbf7294",
   "metadata": {},
   "outputs": [
    {
     "name": "stdout",
     "output_type": "stream",
     "text": [
      "{'Argentina': 16, 'Dominican Republic': 1, 'Uruguay': 2, 'Chile': 2, 'United States': 49, 'Israel': 88, 'Ecuador': 1, 'Colombia': 22, 'Guatemala': 7, 'Austria': 13, 'France': 64, 'Brazil': 2, 'Spain': 32, 'Canada': 4, 'Belgium': 12, 'Bahamas': 0, 'Denmark': 5, 'Norway': 1, 'Italy': 24, 'Turkey': 58, 'Bolivia': 5, 'Federal Republic of Germany': 39, 'Greece': 48, 'Switzerland': 8, 'Australia': 2, 'Jordan': 9, 'Angola': 0, 'Pakistan': 41, 'India': 30, 'United Kingdom': 26, 'Sudan': 1, 'Philippines': 32, 'Yugoslavia': 1, 'Japan': 4, 'Egypt': 29, 'Netherlands': 14, 'Ethiopia': 2, 'Peru': 33, 'Lebanon': 34, 'New Zealand': 0, 'West Bank/Gaza': 38, 'Jamaica': 0, 'Paraguay': 1, 'Venezuela': 9, 'South Africa': 1, 'Iran': 14, 'Thailand': 56, 'Costa Rica': 6, 'China, Republic of (Taiwan)': 0, 'Portugal': 6, 'Puerto Rico': 4, 'Cambodia': 5, 'Malaysia': 2, 'Korea, South': 0, 'Sweden': 8, 'USSR': 2, 'Sri Lanka (Ceylon)': 1, 'Mozambique': 0, 'Honduras': 2, 'El Salvador': 7, 'Yemen': 4, 'Ireland': 4, 'Kuwait': 9, 'Zimbabwe (Rhodesia)': 1, 'Mexico': 3, 'Zaire (Belgian Congo)': 0, 'Algeria': 18, 'Libya': 0, 'Haiti': 0, 'Cyprus': 5, 'Morocco': 8, 'Afghanistan': 14, 'Burma (Myanmar)': 6, 'Zambia': 0, 'Gibraltar': 1, 'Cuba': 0, 'Bangladesh': 1, 'Northern Ireland': 6, 'Singapore': 1, 'Botswana': 0, 'Eritrea': 2, 'Syria': 3, 'United Arab Emirates': 1, 'Nicaragua': 1, 'South Vietnam': 1, 'Iraq': 187, 'Somalia': 6, 'Tanzania': 0, 'Kenya': 3, 'Laos': 0, \"China, People's Republic of\": 1, 'Trucial Oman States': 0, 'Barbados': 0, 'Panama': 0, 'Trinidad-Tobago': 0, 'Canary Islands': 0, 'Poland': 0, 'Mauritania': 1, 'Azores': 0, 'Nepal': 0, 'Indonesia': 8, 'Luxembourg': 0, 'Malta': 4, 'Chad': 0, 'Djibouti': 1, 'Uganda': 1, 'German Democratic Republic': 1, 'Tunisia': 1, 'Gabon': 0, 'Saudi Arabia': 8, 'Bahrain': 0, 'Western Sahara': 0, 'Guadeloupe': 0, 'Albania': 4, 'Lesotho': 0, 'French Polynesia': 0, 'Swaziland': 0, 'Zimbabwe': 0, 'Bulgaria': 0, 'Hong Kong': 0, 'Iceland': 0, 'Grenada': 0, 'Falkland Islands': 0, 'Martinique': 0, 'Namibia': 0, 'Sri Lanka': 14, 'Romania': 0, 'Transkei': 0, 'Suriname': 0, 'Fiji': 0, 'Congo (Brazzaville)': 1, 'Nigeria': 1, 'Czechoslovakia': 0, \"Cote d'Ivoire\": 0, 'Hungary': 0, 'Namibia, SWAf': 0, 'Papua-New Guinea': 0, 'Liberia': 0, 'Finland': 0, 'Latvia': 0, 'Estonia': 1, 'Vietnam': 0, 'Sierra Leone': 0, 'Ghana': 0, 'Belize': 0, 'Rwanda': 0, 'Czech Republic': 0, 'Serbia': 0, 'Bosnia-Herzegovina': 2, 'Georgia': 11, 'Tajikistan': 4, 'Russia': 52, 'Croatians': 0, 'Azerbaijan': 3, 'Mali': 0, 'Togo': 0, 'Benin, Dahomey': 0, 'Burundi': 0, 'Senegal': 0, 'Ukraine': 0, 'Kashmir': 52, 'Niger': 0, 'Central African Republic': 0, 'Lithuania': 0, 'Croatia': 3, 'Macedonia': 9, 'Guyana': 0, 'FRY (Kosovo)': 14, 'Germany': 4, 'Armenia': 0, 'FRY (Montenegro)': 0, 'Slovakia': 0, 'East Timor': 1, 'Moldova': 0, 'Belarus': 1, 'FRY (Serbia)': 2, 'Kyrgyzstan': 2, 'Chechnya': 11, 'Macao': 0, 'Mongolia': 0, 'Kazakhstan': 0, 'Uzbekistan': 0, 'Guinea': 0, 'Democratic Republic of Congo': 0, 'FRY': 0, 'FRY (Southern Serbia)': 0, 'Madagascar': 0, 'Slovenia': 0, 'Turkmenistan': 0, 'Qatar': 0, 'Taiwan': 0, 'Serbia-Montenegro': 0, 'Bhutan': 0, 'Maldives': 0, 'Kosovo': 0}\n",
      " \n",
      " \n",
      "These are the top 5:\n",
      "{'Iraq': 187, 'Israel': 88, 'France': 64, 'Turkey': 58, 'Thailand': 56}\n"
     ]
    }
   ],
   "source": [
    "#If there was \"terror\" mentioned in any of the descriptions, I counted that incidents as involving terrorism. I just counted those up \n",
    "\n",
    "#Group by country to get a full list of countries\n",
    "country_group = df.groupby(\"Country\")\n",
    "\n",
    "#Pull unique countries into a list\n",
    "unique_countries = df[\"Country\"].unique()\n",
    "\n",
    "#Create a dictionary with 0 for each country\n",
    "terror_dictionary = {}\n",
    "for country in unique_countries:\n",
    "    terror_dictionary[country] = 0\n",
    "\n",
    "#Get a specific country\n",
    "for each in unique_countries:\n",
    "    each_country = country_group.get_group(each)\n",
    "    \n",
    "    #Figure out the number of rows for that country\n",
    "    index_list = each_country.index.tolist()\n",
    "\n",
    "    #Edit the terror list to see how many rows have it mentioned\n",
    "    for each_row in index_list:\n",
    "        description = each_country.loc[each_row,\"Description\"]\n",
    "        if \"terror\" in str(description):\n",
    "            terror_dictionary[each] += 1\n",
    "\n",
    "#Print results\n",
    "print(terror_dictionary)\n",
    "\n",
    "#Find the top 5\n",
    "print(\" \")\n",
    "print(\" \")\n",
    "top_items = sorted(terror_dictionary.items(), key=lambda x: x[1], reverse=True)[:5]\n",
    "new_dict = dict(top_items)\n",
    "\n",
    "print(\"These are the top 5:\")\n",
    "print(new_dict)"
   ]
  },
  {
   "cell_type": "markdown",
   "id": "1f7efecf",
   "metadata": {},
   "source": [
    "\n",
    "2. In those top 5 countries, what were the common perpetrators, weapons and objectives?"
   ]
  },
  {
   "cell_type": "markdown",
   "id": "ce23904d",
   "metadata": {},
   "source": [
    "* Manually create a list with the 5 countries in it\n",
    "* take the code from above to find the perpetrators and weapons\n",
    "* "
   ]
  },
  {
   "cell_type": "code",
   "execution_count": 106,
   "id": "a122a761",
   "metadata": {},
   "outputs": [
    {
     "name": "stdout",
     "output_type": "stream",
     "text": [
      "These are the top 6 Perpetrators for Iraq:\n",
      "{'Unknown': 9765, 'Tanzim QaÕidat al-Jihad fi Bilad al-Rafidayn': 208, 'Al Qaeda': 165, 'Islamic State of Iraq': 135, 'Mujahideen Council': 84, 'Ansar al-Sunnah': 72}\n",
      "  \n",
      "These are the top 6 Weapons for Iraq:\n",
      "{'Explosives': 5070, 'Firearms': 4723, 'Unknown': 475, 'Remote-detonated explosive': 337, 'Fire or Firebomb': 65, 'Knives & sharp objects': 52}\n",
      "--------------------------------\n",
      "These are the top 6 Perpetrators for Israel:\n",
      "{'Unknown': 10299, 'Tanzim QaÕidat al-Jihad fi Bilad al-Rafidayn': 209, 'Other': 187, 'Palestine Islamic Jihad (PIJ)': 169, 'Al Qaeda': 165, 'Islamic State of Iraq': 135}\n",
      "  \n",
      "These are the top 6 Weapons for Israel:\n",
      "{'Explosives': 6432, 'Firearms': 4841, 'Unknown': 532, 'Remote-detonated explosive': 358, 'Knives & sharp objects': 120, 'Fire or Firebomb': 115}\n",
      "--------------------------------\n",
      "These are the top 6 Perpetrators for France:\n",
      "{'Unknown': 10935, 'Other': 325, 'Tanzim QaÕidat al-Jihad fi Bilad al-Rafidayn': 209, 'Palestine Islamic Jihad (PIJ)': 169, 'Al Qaeda': 165, 'Corsican National Liberation Front (FLNC)': 155}\n",
      "  \n",
      "These are the top 6 Weapons for France:\n",
      "{'Explosives': 7347, 'Firearms': 4954, 'Unknown': 606, 'Remote-detonated explosive': 374, 'Fire or Firebomb': 213, 'Knives & sharp objects': 123}\n",
      "--------------------------------\n",
      "These are the top 6 Perpetrators for Turkey:\n",
      "{'Unknown': 11850, 'Other': 384, 'Tanzim QaÕidat al-Jihad fi Bilad al-Rafidayn': 209, 'Palestine Islamic Jihad (PIJ)': 169, 'Al Qaeda': 167, 'Corsican National Liberation Front (FLNC)': 155}\n",
      "  \n",
      "These are the top 6 Weapons for Turkey:\n",
      "{'Explosives': 8124, 'Firearms': 5158, 'Unknown': 673, 'Fire or Firebomb': 407, 'Remote-detonated explosive': 405, 'Knives & sharp objects': 124}\n",
      "--------------------------------\n",
      "These are the top 6 Perpetrators for Thailand:\n",
      "{'Unknown': 13779, 'Other': 394, 'Tanzim QaÕidat al-Jihad fi Bilad al-Rafidayn': 209, 'Palestine Islamic Jihad (PIJ)': 169, 'Al Qaeda': 167, 'Corsican National Liberation Front (FLNC)': 155}\n",
      "  \n",
      "These are the top 6 Weapons for Thailand:\n",
      "{'Explosives': 8517, 'Firearms': 6200, 'Unknown': 704, 'Remote-detonated explosive': 685, 'Fire or Firebomb': 620, 'Knives & sharp objects': 151}\n",
      "--------------------------------\n"
     ]
    }
   ],
   "source": [
    "#Manually make a list for the top 5 countries for the most terrorism\n",
    "top_five = [\"Iraq\",\"Israel\",\"France\",\"Turkey\",\"Thailand\"]\n",
    "\n",
    "#Group by country to get a full list of countries\n",
    "country_group_1 = df.groupby(\"Country\")\n",
    "\n",
    "#Find the different perpetrators (put in a list)\n",
    "perpetrators = df[\"Perpetrator\"].unique()\n",
    "weapons = df[\"Weapon\"].unique()\n",
    "\n",
    "#Create a dictionary with 0 for each type of perpetrator and weapon\n",
    "perpetrator_dict = {}\n",
    "for perpetrator in perpetrators:\n",
    "    perpetrator_dict[perpetrator] = 0\n",
    "\n",
    "weapons_dict = {}\n",
    "for weapon in weapons:\n",
    "    weapons_dict[weapon] = 0\n",
    "\n",
    "#Get a specific country\n",
    "for each in top_five:\n",
    "    each_country = country_group_1.get_group(each)\n",
    "    \n",
    "    #Figure out the number of rows for that country\n",
    "    index_list = each_country.index.tolist()\n",
    "    \n",
    "    #Figure out the different perpetrators & weapons\n",
    "    #Edit the terror list to see how many rows have it mentioned\n",
    "    for each_row in index_list:\n",
    "        perp_input = each_country.loc[each_row,\"Perpetrator\"]\n",
    "        perpetrator_dict[perp_input] += 1\n",
    "        \n",
    "        weapon_input = each_country.loc[each_row,\"Weapon\"]\n",
    "        weapons_dict[weapon_input] += 1\n",
    "        \n",
    "    #Filter out just the top 6 for perpetrators and weapons\n",
    "    top_perps = sorted(perpetrator_dict.items(), key=lambda x: x[1], reverse=True)[:6]\n",
    "    top_weapons = sorted(weapons_dict.items(), key=lambda x: x[1], reverse=True)[:6]\n",
    "    top_perps_dict = dict(top_perps)\n",
    "    top_weapons_dict = dict(top_weapons)\n",
    "    #Print results\n",
    "    print(f\"These are the top 6 Perpetrators for {each}:\")\n",
    "    print(top_perps_dict)\n",
    "    print(\"  \")\n",
    "    print(f\"These are the top 6 Weapons for {each}:\")\n",
    "    print(top_weapons_dict)\n",
    "    print(\"--------------------------------\")\n"
   ]
  },
  {
   "cell_type": "code",
   "execution_count": null,
   "id": "369634c6",
   "metadata": {},
   "outputs": [],
   "source": []
  },
  {
   "cell_type": "markdown",
   "id": "19cd5297",
   "metadata": {},
   "source": [
    "3. What were the top 10 most deadly attacks?"
   ]
  },
  {
   "cell_type": "code",
   "execution_count": null,
   "id": "9e6e7d00",
   "metadata": {},
   "outputs": [],
   "source": []
  },
  {
   "cell_type": "markdown",
   "id": "c683102c",
   "metadata": {},
   "source": [
    "\n",
    "4. How often was \"kidnapping\" or some derviation of the word mentioned in all of the incident reports?"
   ]
  },
  {
   "cell_type": "code",
   "execution_count": null,
   "id": "62448ff5",
   "metadata": {},
   "outputs": [],
   "source": []
  },
  {
   "cell_type": "markdown",
   "id": "37ff92a4",
   "metadata": {},
   "source": [
    "5. When kindapping was mentioned, how often did the incident result in fatalities?"
   ]
  },
  {
   "cell_type": "code",
   "execution_count": null,
   "id": "230e74f3",
   "metadata": {},
   "outputs": [],
   "source": []
  },
  {
   "cell_type": "markdown",
   "id": "7bf0d137",
   "metadata": {},
   "source": [
    "6. When kidnapping was mentioned, how often was \"ransom\" mentioned?"
   ]
  },
  {
   "cell_type": "code",
   "execution_count": null,
   "id": "c5b6f211",
   "metadata": {},
   "outputs": [],
   "source": []
  },
  {
   "cell_type": "markdown",
   "id": "eb333607",
   "metadata": {},
   "source": [
    "7. In all of the incidents, how often were \"students\" mentioned as perpertators?"
   ]
  },
  {
   "cell_type": "code",
   "execution_count": null,
   "id": "2ceb70f4",
   "metadata": {},
   "outputs": [],
   "source": []
  },
  {
   "cell_type": "markdown",
   "id": "2a85d19d",
   "metadata": {},
   "source": [
    "\n",
    "8. What was the first incident where a \"suicide bomber\" was mentioned?"
   ]
  },
  {
   "cell_type": "code",
   "execution_count": null,
   "id": "0cb97597",
   "metadata": {},
   "outputs": [],
   "source": []
  },
  {
   "cell_type": "markdown",
   "id": "f5dff1d9",
   "metadata": {},
   "source": [
    "9. How often were \"priests\" or \"clergy\" mentioned?"
   ]
  },
  {
   "cell_type": "code",
   "execution_count": null,
   "id": "1359a9a0",
   "metadata": {},
   "outputs": [],
   "source": []
  },
  {
   "cell_type": "markdown",
   "id": "c5e336c0",
   "metadata": {},
   "source": [
    "10. Name all the incidents where a woman or women were identified as terrorists. Not the victims, the terrorists."
   ]
  },
  {
   "cell_type": "code",
   "execution_count": null,
   "id": "097fb072",
   "metadata": {},
   "outputs": [],
   "source": []
  },
  {
   "cell_type": "markdown",
   "id": "17c15c36",
   "metadata": {},
   "source": [
    "## Part 2\n",
    "In the incident reports investigate motivations of terrorism and categorize them into economic, political, religious or some combination of those categories. How would you do it? Is it a dictionary of economic words? The mention of money? The mention of religion? The word \"liberation?\" What's the signal here? Could you use vectors? You could use research or domain knowledge into perpetrators and their stated goals. You will have to resolve or define new categories. For example, is the Irish Republican Army religious or poltical or RP as a new category? Is Hamas religious, political or both? Find the signals and create a new column that categorizes the incidents. \n",
    "\n",
    "There is no \"right\" answer here, just a way for you as a emerging data scientist to think about how to parse data and categorize it. Just declare categories and justify your logic! I am as interested in your reasoning, as I am in your code!\n"
   ]
  },
  {
   "cell_type": "code",
   "execution_count": null,
   "id": "fc42fc81",
   "metadata": {},
   "outputs": [],
   "source": []
  },
  {
   "cell_type": "code",
   "execution_count": null,
   "id": "0b2d3466",
   "metadata": {},
   "outputs": [],
   "source": []
  }
 ],
 "metadata": {
  "kernelspec": {
   "display_name": "Python 3 (ipykernel)",
   "language": "python",
   "name": "python3"
  },
  "language_info": {
   "codemirror_mode": {
    "name": "ipython",
    "version": 3
   },
   "file_extension": ".py",
   "mimetype": "text/x-python",
   "name": "python",
   "nbconvert_exporter": "python",
   "pygments_lexer": "ipython3",
   "version": "3.11.4"
  }
 },
 "nbformat": 4,
 "nbformat_minor": 5
}
